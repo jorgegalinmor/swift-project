{
 "cells": [
  {
   "cell_type": "code",
   "execution_count": 4,
   "id": "9b6b899f-6517-49e3-a1cf-5237fdb7fc62",
   "metadata": {},
   "outputs": [],
   "source": [
    "from labelme2coco import get_coco_from_labelme_folder, save_json\n",
    "from pathlib import Path\n",
    "import os\n",
    "os.chdir(\"/home/shared/Swifts.Research.Project\")"
   ]
  },
  {
   "cell_type": "code",
   "execution_count": 5,
   "id": "832fb39a-1636-40b9-a02e-0bfe12be8994",
   "metadata": {},
   "outputs": [
    {
     "name": "stdout",
     "output_type": "stream",
     "text": [
      "There are 46 listed files in folder 20230606_145859_tp00001.\n"
     ]
    },
    {
     "name": "stderr",
     "output_type": "stream",
     "text": [
      "Converting labelme annotations to COCO format: 100%|██████████| 46/46 [00:00<00:00, 117.51it/s]\n"
     ]
    },
    {
     "name": "stdout",
     "output_type": "stream",
     "text": [
      "There are 84 listed files in folder 20230710_133146_tp00000.\n"
     ]
    },
    {
     "name": "stderr",
     "output_type": "stream",
     "text": [
      "Converting labelme annotations to COCO format: 100%|██████████| 84/84 [00:00<00:00, 111.45it/s]\n"
     ]
    },
    {
     "name": "stdout",
     "output_type": "stream",
     "text": [
      "'desired_name2id' is not specified, combining all categories.\n",
      "Categories are formed as:\n",
      " [{'id': 0, 'name': 'Nest', 'supercategory': 'Nest'}, {'id': 1, 'name': 'Adult swift', 'supercategory': 'Adult swift'}, {'id': 2, 'name': 'Swift chick', 'supercategory': 'Swift chick'}, {'id': 3, 'name': 'Fledgeling swift chick', 'supercategory': 'Fledgeling swift chick'}]\n",
      "There are 127 listed files in folder 20230527_133530_tp00056.\n"
     ]
    },
    {
     "name": "stderr",
     "output_type": "stream",
     "text": [
      "Converting labelme annotations to COCO format: 100%|██████████| 127/127 [00:00<00:00, 271.62it/s]\n"
     ]
    },
    {
     "name": "stdout",
     "output_type": "stream",
     "text": [
      "'desired_name2id' is not specified, combining all categories.\n",
      "Categories are formed as:\n",
      " [{'id': 0, 'name': 'Nest', 'supercategory': 'Nest'}, {'id': 1, 'name': 'Adult swift', 'supercategory': 'Adult swift'}, {'id': 2, 'name': 'Swift chick', 'supercategory': 'Swift chick'}, {'id': 3, 'name': 'Fledgeling swift chick', 'supercategory': 'Fledgeling swift chick'}]\n",
      "There are 31 listed files in folder 20230605_193537_tp00017.\n"
     ]
    },
    {
     "name": "stderr",
     "output_type": "stream",
     "text": [
      "Converting labelme annotations to COCO format: 100%|██████████| 31/31 [00:00<00:00, 320.36it/s]"
     ]
    },
    {
     "name": "stdout",
     "output_type": "stream",
     "text": [
      "'desired_name2id' is not specified, combining all categories.\n"
     ]
    },
    {
     "name": "stderr",
     "output_type": "stream",
     "text": [
      "\n"
     ]
    },
    {
     "name": "stdout",
     "output_type": "stream",
     "text": [
      "Categories are formed as:\n",
      " [{'id': 0, 'name': 'Nest', 'supercategory': 'Nest'}, {'id': 1, 'name': 'Adult swift', 'supercategory': 'Adult swift'}, {'id': 2, 'name': 'Swift chick', 'supercategory': 'Swift chick'}, {'id': 3, 'name': 'Fledgeling swift chick', 'supercategory': 'Fledgeling swift chick'}]\n",
      "There are 25 listed files in folder 20230606_070953_tp00053.\n"
     ]
    },
    {
     "name": "stderr",
     "output_type": "stream",
     "text": [
      "Converting labelme annotations to COCO format: 100%|██████████| 25/25 [00:00<00:00, 148.21it/s]"
     ]
    },
    {
     "name": "stdout",
     "output_type": "stream",
     "text": [
      "'desired_name2id' is not specified, combining all categories.\n"
     ]
    },
    {
     "name": "stderr",
     "output_type": "stream",
     "text": [
      "\n"
     ]
    },
    {
     "name": "stdout",
     "output_type": "stream",
     "text": [
      "Categories are formed as:\n",
      " [{'id': 0, 'name': 'Nest', 'supercategory': 'Nest'}, {'id': 1, 'name': 'Adult swift', 'supercategory': 'Adult swift'}, {'id': 2, 'name': 'Swift chick', 'supercategory': 'Swift chick'}, {'id': 3, 'name': 'Fledgeling swift chick', 'supercategory': 'Fledgeling swift chick'}, {'id': 4, 'name': 'Swift egg', 'supercategory': 'Swift egg'}]\n",
      "There are 7 listed files in folder 20230709_082252_tp00063.\n"
     ]
    },
    {
     "name": "stderr",
     "output_type": "stream",
     "text": [
      "Converting labelme annotations to COCO format: 100%|██████████| 7/7 [00:00<00:00, 135.27it/s]"
     ]
    },
    {
     "name": "stdout",
     "output_type": "stream",
     "text": [
      "'desired_name2id' is not specified, combining all categories.\n"
     ]
    },
    {
     "name": "stderr",
     "output_type": "stream",
     "text": [
      "\n"
     ]
    },
    {
     "name": "stdout",
     "output_type": "stream",
     "text": [
      "Categories are formed as:\n",
      " [{'id': 0, 'name': 'Nest', 'supercategory': 'Nest'}, {'id': 1, 'name': 'Adult swift', 'supercategory': 'Adult swift'}, {'id': 2, 'name': 'Swift chick', 'supercategory': 'Swift chick'}, {'id': 3, 'name': 'Fledgeling swift chick', 'supercategory': 'Fledgeling swift chick'}, {'id': 4, 'name': 'Swift egg', 'supercategory': 'Swift egg'}]\n",
      "There are 38 listed files in folder 20230709_213436_tp00086.\n"
     ]
    },
    {
     "name": "stderr",
     "output_type": "stream",
     "text": [
      "Converting labelme annotations to COCO format: 100%|██████████| 38/38 [00:00<00:00, 195.54it/s]"
     ]
    },
    {
     "name": "stdout",
     "output_type": "stream",
     "text": [
      "'desired_name2id' is not specified, combining all categories.\n"
     ]
    },
    {
     "name": "stderr",
     "output_type": "stream",
     "text": [
      "\n"
     ]
    },
    {
     "name": "stdout",
     "output_type": "stream",
     "text": [
      "Categories are formed as:\n",
      " [{'id': 0, 'name': 'Nest', 'supercategory': 'Nest'}, {'id': 1, 'name': 'Adult swift', 'supercategory': 'Adult swift'}, {'id': 2, 'name': 'Swift chick', 'supercategory': 'Swift chick'}, {'id': 3, 'name': 'Fledgeling swift chick', 'supercategory': 'Fledgeling swift chick'}, {'id': 4, 'name': 'Swift egg', 'supercategory': 'Swift egg'}, {'id': 5, 'name': 'Adult swift with filled crop', 'supercategory': 'Adult swift with filled crop'}]\n"
     ]
    }
   ],
   "source": [
    "annotations={}\n",
    "annotations[\"labelme_camera1_1\"] = \"/home/shared/Swifts.Research.Project/Unlabeled-videos/Camera1/Day/20230606_145859_tp00001\"\n",
    "annotations[\"labelme_camera1_2\"] = \"/home/shared/Swifts.Research.Project/Unlabeled-videos/Camera1/Day/20230710_133146_tp00000\"\n",
    "annotations[\"labelme_camera2_1\"] = \"/home/shared/Swifts.Research.Project/Unlabeled-videos/Camera2/20230527_133530_tp00056\"\n",
    "annotations[\"labelme_camera2_2\"] = \"/home/shared/Swifts.Research.Project/Unlabeled-videos/Camera2/20230605_193537_tp00017\"\n",
    "annotations[\"labelme_camera3_1\"] = \"/home/shared/Swifts.Research.Project/Unlabeled-videos/Camera3/20230606_070953_tp00053\"\n",
    "annotations[\"labelme_camera3_2\"] = \"/home/shared/Swifts.Research.Project/Unlabeled-videos/Camera3/20230709_082252_tp00063\"\n",
    "annotations[\"labelme_camera3_3\"] = \"/home/shared/Swifts.Research.Project/Unlabeled-videos/Camera3/20230709_213436_tp00086\"\n",
    "export_dir = \"frame_labels_coco\"\n",
    "\n",
    "train_split_rate = 0.85\n",
    "category_id_start = 1\n",
    "\n",
    "full_data_coco = None\n",
    "for labelme_dataset in annotations:\n",
    "    directory = annotations[labelme_dataset]\n",
    "    data_coco = get_coco_from_labelme_folder(directory, category_id_start=category_id_start)\n",
    "    data_coco.image_dir = \"..\"\n",
    "    if full_data_coco == None:\n",
    "        full_data_coco = data_coco\n",
    "    else:\n",
    "        full_data_coco.merge(data_coco)\n",
    "for category in full_data_coco.categories:\n",
    "    if category.name == \"Adult swift\" or category.name == \"Swift chick\":\n",
    "        category.supercategory = \"Swift\"\n",
    "    elif category.name == \"Fledgeling swift chick\":\n",
    "        category.supercategory = \"Swift chick\"\n",
    "    elif category.name == \"Adult swift with filled crop\":\n",
    "        category.supercategory = \"Adult swift\"\n",
    "\n",
    "result = full_data_coco.split_coco_as_train_val(train_split_rate)\n",
    "# export train split\n",
    "save_path = str(Path(export_dir) / \"train.json\")\n",
    "save_json(result[\"train_coco\"].json, save_path)\n",
    "# export val split\n",
    "save_path = str(Path(export_dir) / \"val.json\")\n",
    "save_json(result[\"val_coco\"].json, save_path)"
   ]
  },
  {
   "cell_type": "code",
   "execution_count": null,
   "id": "393185f7-0e2a-4956-98fc-d58ce3257e06",
   "metadata": {},
   "outputs": [],
   "source": []
  },
  {
   "cell_type": "code",
   "execution_count": null,
   "id": "46c002e7-e631-41f1-b9d2-4a882c952bc0",
   "metadata": {},
   "outputs": [],
   "source": []
  }
 ],
 "metadata": {
  "kernelspec": {
   "display_name": "Python 3 (Spyder)",
   "language": "python3",
   "name": "python3"
  },
  "language_info": {
   "codemirror_mode": {
    "name": "ipython",
    "version": 3
   },
   "file_extension": ".py",
   "mimetype": "text/x-python",
   "name": "python",
   "nbconvert_exporter": "python",
   "pygments_lexer": "ipython3",
   "version": "3.10.12"
  }
 },
 "nbformat": 4,
 "nbformat_minor": 5
}
