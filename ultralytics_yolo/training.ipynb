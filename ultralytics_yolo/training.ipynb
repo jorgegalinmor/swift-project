{
 "cells": [
  {
   "cell_type": "code",
   "execution_count": 4,
   "id": "47e248b8",
   "metadata": {
    "colab": {
     "base_uri": "https://localhost:8080/",
     "height": 1000
    },
    "executionInfo": {
     "elapsed": 127168,
     "status": "ok",
     "timestamp": 1720882933840,
     "user": {
      "displayName": "Jorge Galindo",
      "userId": "08608773082217336897"
     },
     "user_tz": -180
    },
    "id": "1723fbc2-b028-4e09-b91b-b435e82cc333",
    "outputId": "d695c4cc-b220-4f9b-f31d-f3e398a903da",
    "scrolled": true
   },
   "outputs": [
    {
     "name": "stderr",
     "output_type": "stream",
     "text": [
      "919.28s - pydevd: Sending message related to process being replaced timed-out after 5 seconds\n"
     ]
    },
    {
     "name": "stdout",
     "output_type": "stream",
     "text": [
      "Defaulting to user installation because normal site-packages is not writeable\n",
      "Requirement already satisfied: dvclive in /home/jorge/.local/lib/python3.10/site-packages (3.48.0)\n",
      "Requirement already satisfied: dvc-studio-client<1,>=0.20 in /home/jorge/.local/lib/python3.10/site-packages (from dvclive) (0.21.0)\n",
      "Requirement already satisfied: psutil in /home/jorge/.local/lib/python3.10/site-packages (from dvclive) (5.9.8)\n",
      "Requirement already satisfied: funcy in /home/jorge/.local/lib/python3.10/site-packages (from dvclive) (2.0)\n",
      "Requirement already satisfied: ruamel.yaml in /home/jorge/.local/lib/python3.10/site-packages (from dvclive) (0.18.6)\n",
      "Requirement already satisfied: dvc-render<2,>=1.0.0 in /home/jorge/.local/lib/python3.10/site-packages (from dvclive) (1.0.2)\n",
      "Requirement already satisfied: pynvml in /home/jorge/.local/lib/python3.10/site-packages (from dvclive) (11.5.3)\n",
      "Requirement already satisfied: dvc>=3.48.4 in /home/jorge/.local/lib/python3.10/site-packages (from dvclive) (3.52.0)\n",
      "Requirement already satisfied: scmrepo<4,>=3 in /home/jorge/.local/lib/python3.10/site-packages (from dvclive) (3.3.6)\n",
      "Requirement already satisfied: gto in /home/jorge/.local/lib/python3.10/site-packages (from dvclive) (1.7.1)\n",
      "Requirement already satisfied: packaging>=19 in /home/jorge/.local/lib/python3.10/site-packages (from dvc>=3.48.4->dvclive) (24.0)\n",
      "Requirement already satisfied: tabulate>=0.8.7 in /home/jorge/.local/lib/python3.10/site-packages (from dvc>=3.48.4->dvclive) (0.9.0)\n",
      "Requirement already satisfied: dvc-task<1,>=0.3.0 in /home/jorge/.local/lib/python3.10/site-packages (from dvc>=3.48.4->dvclive) (0.4.0)\n",
      "Requirement already satisfied: distro>=1.3 in /usr/lib/python3/dist-packages (from dvc>=3.48.4->dvclive) (1.7.0)\n",
      "Requirement already satisfied: attrs>=22.2.0 in /home/jorge/.local/lib/python3.10/site-packages (from dvc>=3.48.4->dvclive) (23.2.0)\n",
      "Requirement already satisfied: shortuuid>=0.5 in /home/jorge/.local/lib/python3.10/site-packages (from dvc>=3.48.4->dvclive) (1.0.13)\n",
      "Requirement already satisfied: platformdirs<4,>=3.1.1 in /home/jorge/.local/lib/python3.10/site-packages (from dvc>=3.48.4->dvclive) (3.11.0)\n",
      "Requirement already satisfied: rich>=12 in /home/jorge/.local/lib/python3.10/site-packages (from dvc>=3.48.4->dvclive) (13.7.1)\n",
      "Requirement already satisfied: fsspec>=2024.2.0 in /home/jorge/.local/lib/python3.10/site-packages (from dvc>=3.48.4->dvclive) (2024.3.1)\n",
      "Requirement already satisfied: celery in /home/jorge/.local/lib/python3.10/site-packages (from dvc>=3.48.4->dvclive) (5.4.0)\n",
      "Requirement already satisfied: pydot>=1.2.4 in /home/jorge/.local/lib/python3.10/site-packages (from dvc>=3.48.4->dvclive) (3.0.1)\n",
      "Requirement already satisfied: configobj>=5.0.6 in /home/jorge/.local/lib/python3.10/site-packages (from dvc>=3.48.4->dvclive) (5.0.8)\n",
      "Requirement already satisfied: kombu in /home/jorge/.local/lib/python3.10/site-packages (from dvc>=3.48.4->dvclive) (5.3.7)\n",
      "Requirement already satisfied: requests>=2.22 in /home/jorge/.local/lib/python3.10/site-packages (from dvc>=3.48.4->dvclive) (2.32.3)\n",
      "Requirement already satisfied: zc.lockfile>=1.2.1 in /home/jorge/.local/lib/python3.10/site-packages (from dvc>=3.48.4->dvclive) (3.0.post1)\n",
      "Requirement already satisfied: iterative-telemetry>=0.0.7 in /home/jorge/.local/lib/python3.10/site-packages (from dvc>=3.48.4->dvclive) (0.0.8)\n",
      "Requirement already satisfied: dpath<3,>=2.1.0 in /home/jorge/.local/lib/python3.10/site-packages (from dvc>=3.48.4->dvclive) (2.2.0)\n",
      "Requirement already satisfied: pathspec>=0.10.3 in /home/jorge/.local/lib/python3.10/site-packages (from dvc>=3.48.4->dvclive) (0.12.1)\n",
      "Requirement already satisfied: pyparsing>=2.4.7 in /home/jorge/.local/lib/python3.10/site-packages (from dvc>=3.48.4->dvclive) (3.1.2)\n",
      "Requirement already satisfied: networkx>=2.5 in /home/jorge/.local/lib/python3.10/site-packages (from dvc>=3.48.4->dvclive) (3.3)\n",
      "Requirement already satisfied: voluptuous>=0.11.7 in /home/jorge/.local/lib/python3.10/site-packages (from dvc>=3.48.4->dvclive) (0.15.2)\n",
      "Requirement already satisfied: flufl.lock<9,>=8.1.0 in /home/jorge/.local/lib/python3.10/site-packages (from dvc>=3.48.4->dvclive) (8.1.0)\n",
      "Requirement already satisfied: dulwich in /home/jorge/.local/lib/python3.10/site-packages (from dvc>=3.48.4->dvclive) (0.22.1)\n",
      "Requirement already satisfied: tqdm<5,>=4.63.1 in /home/jorge/.local/lib/python3.10/site-packages (from dvc>=3.48.4->dvclive) (4.66.4)\n",
      "Requirement already satisfied: tomlkit>=0.11.1 in /home/jorge/.local/lib/python3.10/site-packages (from dvc>=3.48.4->dvclive) (0.12.4)\n",
      "Requirement already satisfied: shtab<2,>=1.3.4 in /home/jorge/.local/lib/python3.10/site-packages (from dvc>=3.48.4->dvclive) (1.7.1)\n",
      "Requirement already satisfied: flatten-dict<1,>=0.4.1 in /home/jorge/.local/lib/python3.10/site-packages (from dvc>=3.48.4->dvclive) (0.4.2)\n",
      "Requirement already satisfied: dvc-data<3.16,>=3.15 in /home/jorge/.local/lib/python3.10/site-packages (from dvc>=3.48.4->dvclive) (3.15.1)\n",
      "Requirement already satisfied: grandalf<1,>=0.7 in /home/jorge/.local/lib/python3.10/site-packages (from dvc>=3.48.4->dvclive) (0.8)\n",
      "Requirement already satisfied: dvc-objects in /home/jorge/.local/lib/python3.10/site-packages (from dvc>=3.48.4->dvclive) (5.1.0)\n",
      "Requirement already satisfied: colorama>=0.3.9 in /usr/lib/python3/dist-packages (from dvc>=3.48.4->dvclive) (0.4.4)\n",
      "Requirement already satisfied: hydra-core>=1.1 in /home/jorge/.local/lib/python3.10/site-packages (from dvc>=3.48.4->dvclive) (1.3.2)\n",
      "Requirement already satisfied: pygtrie>=2.3.2 in /home/jorge/.local/lib/python3.10/site-packages (from dvc>=3.48.4->dvclive) (2.5.0)\n",
      "Requirement already satisfied: dvc-http>=2.29.0 in /home/jorge/.local/lib/python3.10/site-packages (from dvc>=3.48.4->dvclive) (2.32.0)\n",
      "Requirement already satisfied: omegaconf in /home/jorge/.local/lib/python3.10/site-packages (from dvc>=3.48.4->dvclive) (2.3.0)\n",
      "Requirement already satisfied: entrypoints in /home/jorge/.local/lib/python3.10/site-packages (from gto->dvclive) (0.4)\n",
      "Requirement already satisfied: typer>=0.4.1 in /home/jorge/.local/lib/python3.10/site-packages (from gto->dvclive) (0.12.3)\n",
      "Requirement already satisfied: semver>=2.13.0 in /home/jorge/.local/lib/python3.10/site-packages (from gto->dvclive) (3.0.2)\n",
      "Requirement already satisfied: pydantic!=2.0.0,<3,>=1.9.0 in /home/jorge/.local/lib/python3.10/site-packages (from gto->dvclive) (2.8.2)\n",
      "Requirement already satisfied: ruamel.yaml.clib>=0.2.7 in /home/jorge/.local/lib/python3.10/site-packages (from ruamel.yaml->dvclive) (0.2.8)\n",
      "Requirement already satisfied: pygit2>=1.14.0 in /home/jorge/.local/lib/python3.10/site-packages (from scmrepo<4,>=3->dvclive) (1.15.1)\n",
      "Requirement already satisfied: gitpython>3 in /home/jorge/.local/lib/python3.10/site-packages (from scmrepo<4,>=3->dvclive) (3.1.43)\n",
      "Requirement already satisfied: asyncssh<3,>=2.13.1 in /home/jorge/.local/lib/python3.10/site-packages (from scmrepo<4,>=3->dvclive) (2.15.0)\n",
      "Requirement already satisfied: aiohttp-retry>=2.5.0 in /home/jorge/.local/lib/python3.10/site-packages (from scmrepo<4,>=3->dvclive) (2.8.3)\n",
      "Requirement already satisfied: aiohttp in /home/jorge/.local/lib/python3.10/site-packages (from aiohttp-retry>=2.5.0->scmrepo<4,>=3->dvclive) (3.9.5)\n",
      "Requirement already satisfied: typing-extensions>=4.0.0 in /home/jorge/.local/lib/python3.10/site-packages (from asyncssh<3,>=2.13.1->scmrepo<4,>=3->dvclive) (4.11.0)\n",
      "Requirement already satisfied: cryptography>=39.0 in /home/jorge/.local/lib/python3.10/site-packages (from asyncssh<3,>=2.13.1->scmrepo<4,>=3->dvclive) (43.0.0)\n",
      "Requirement already satisfied: six in /usr/lib/python3/dist-packages (from configobj>=5.0.6->dvc>=3.48.4->dvclive) (1.16.0)\n",
      "Requirement already satisfied: urllib3>=1.25 in /usr/lib/python3/dist-packages (from dulwich->dvc>=3.48.4->dvclive) (1.26.5)\n",
      "Requirement already satisfied: diskcache>=5.2.1 in /home/jorge/.local/lib/python3.10/site-packages (from dvc-data<3.16,>=3.15->dvc>=3.48.4->dvclive) (5.6.3)\n",
      "Requirement already satisfied: sqltrie<1,>=0.11.0 in /home/jorge/.local/lib/python3.10/site-packages (from dvc-data<3.16,>=3.15->dvc>=3.48.4->dvclive) (0.11.0)\n",
      "Requirement already satisfied: dictdiffer>=0.8.1 in /home/jorge/.local/lib/python3.10/site-packages (from dvc-data<3.16,>=3.15->dvc>=3.48.4->dvclive) (0.9.0)\n",
      "Requirement already satisfied: billiard<5.0,>=4.2.0 in /home/jorge/.local/lib/python3.10/site-packages (from celery->dvc>=3.48.4->dvclive) (4.2.0)\n",
      "Requirement already satisfied: python-dateutil>=2.8.2 in /home/jorge/.local/lib/python3.10/site-packages (from celery->dvc>=3.48.4->dvclive) (2.9.0.post0)\n",
      "Requirement already satisfied: vine<6.0,>=5.1.0 in /home/jorge/.local/lib/python3.10/site-packages (from celery->dvc>=3.48.4->dvclive) (5.1.0)\n",
      "Requirement already satisfied: click<9.0,>=8.1.2 in /home/jorge/.local/lib/python3.10/site-packages (from celery->dvc>=3.48.4->dvclive) (8.1.7)\n",
      "Requirement already satisfied: click-plugins>=1.1.1 in /home/jorge/.local/lib/python3.10/site-packages (from celery->dvc>=3.48.4->dvclive) (1.1.1)\n",
      "Requirement already satisfied: tzdata>=2022.7 in /home/jorge/.local/lib/python3.10/site-packages (from celery->dvc>=3.48.4->dvclive) (2024.1)\n",
      "Requirement already satisfied: click-repl>=0.2.0 in /home/jorge/.local/lib/python3.10/site-packages (from celery->dvc>=3.48.4->dvclive) (0.3.0)\n",
      "Requirement already satisfied: click-didyoumean>=0.3.0 in /home/jorge/.local/lib/python3.10/site-packages (from celery->dvc>=3.48.4->dvclive) (0.3.1)\n",
      "Requirement already satisfied: atpublic in /home/jorge/.local/lib/python3.10/site-packages (from flufl.lock<9,>=8.1.0->dvc>=3.48.4->dvclive) (5.0)\n",
      "Requirement already satisfied: gitdb<5,>=4.0.1 in /home/jorge/.local/lib/python3.10/site-packages (from gitpython>3->scmrepo<4,>=3->dvclive) (4.0.11)\n",
      "Requirement already satisfied: antlr4-python3-runtime==4.9.* in /home/jorge/.local/lib/python3.10/site-packages (from hydra-core>=1.1->dvc>=3.48.4->dvclive) (4.9.3)\n",
      "Requirement already satisfied: filelock in /home/jorge/.local/lib/python3.10/site-packages (from iterative-telemetry>=0.0.7->dvc>=3.48.4->dvclive) (3.14.0)\n",
      "Requirement already satisfied: appdirs in /usr/lib/python3/dist-packages (from iterative-telemetry>=0.0.7->dvc>=3.48.4->dvclive) (1.4.4)\n",
      "Requirement already satisfied: amqp<6.0.0,>=5.1.1 in /home/jorge/.local/lib/python3.10/site-packages (from kombu->dvc>=3.48.4->dvclive) (5.2.0)\n",
      "Requirement already satisfied: PyYAML>=5.1.0 in /usr/lib/python3/dist-packages (from omegaconf->dvc>=3.48.4->dvclive) (5.4.1)\n",
      "Requirement already satisfied: pydantic-core==2.20.1 in /home/jorge/.local/lib/python3.10/site-packages (from pydantic!=2.0.0,<3,>=1.9.0->gto->dvclive) (2.20.1)\n",
      "Requirement already satisfied: annotated-types>=0.4.0 in /home/jorge/.local/lib/python3.10/site-packages (from pydantic!=2.0.0,<3,>=1.9.0->gto->dvclive) (0.7.0)\n",
      "Requirement already satisfied: cffi>=1.16.0 in /home/jorge/.local/lib/python3.10/site-packages (from pygit2>=1.14.0->scmrepo<4,>=3->dvclive) (1.16.0)\n",
      "Requirement already satisfied: certifi>=2017.4.17 in /usr/lib/python3/dist-packages (from requests>=2.22->dvc>=3.48.4->dvclive) (2020.6.20)\n",
      "Requirement already satisfied: idna<4,>=2.5 in /usr/lib/python3/dist-packages (from requests>=2.22->dvc>=3.48.4->dvclive) (3.3)\n",
      "Requirement already satisfied: charset-normalizer<4,>=2 in /home/jorge/.local/lib/python3.10/site-packages (from requests>=2.22->dvc>=3.48.4->dvclive) (3.3.2)\n",
      "Requirement already satisfied: pygments<3.0.0,>=2.13.0 in /home/jorge/.local/lib/python3.10/site-packages (from rich>=12->dvc>=3.48.4->dvclive) (2.17.2)\n",
      "Requirement already satisfied: markdown-it-py>=2.2.0 in /home/jorge/.local/lib/python3.10/site-packages (from rich>=12->dvc>=3.48.4->dvclive) (3.0.0)\n",
      "Requirement already satisfied: shellingham>=1.3.0 in /home/jorge/.local/lib/python3.10/site-packages (from typer>=0.4.1->gto->dvclive) (1.5.4)\n",
      "Requirement already satisfied: setuptools in /usr/lib/python3/dist-packages (from zc.lockfile>=1.2.1->dvc>=3.48.4->dvclive) (59.6.0)\n",
      "Requirement already satisfied: pycparser in /home/jorge/.local/lib/python3.10/site-packages (from cffi>=1.16.0->pygit2>=1.14.0->scmrepo<4,>=3->dvclive) (2.22)\n",
      "Requirement already satisfied: prompt-toolkit>=3.0.36 in /home/jorge/.local/lib/python3.10/site-packages (from click-repl>=0.2.0->celery->dvc>=3.48.4->dvclive) (3.0.43)\n",
      "Requirement already satisfied: smmap<6,>=3.0.1 in /home/jorge/.local/lib/python3.10/site-packages (from gitdb<5,>=4.0.1->gitpython>3->scmrepo<4,>=3->dvclive) (5.0.1)\n",
      "Requirement already satisfied: mdurl~=0.1 in /home/jorge/.local/lib/python3.10/site-packages (from markdown-it-py>=2.2.0->rich>=12->dvc>=3.48.4->dvclive) (0.1.2)\n",
      "Requirement already satisfied: orjson in /home/jorge/.local/lib/python3.10/site-packages (from sqltrie<1,>=0.11.0->dvc-data<3.16,>=3.15->dvc>=3.48.4->dvclive) (3.10.6)\n",
      "Requirement already satisfied: multidict<7.0,>=4.5 in /home/jorge/.local/lib/python3.10/site-packages (from aiohttp->aiohttp-retry>=2.5.0->scmrepo<4,>=3->dvclive) (6.0.5)\n",
      "Requirement already satisfied: aiosignal>=1.1.2 in /home/jorge/.local/lib/python3.10/site-packages (from aiohttp->aiohttp-retry>=2.5.0->scmrepo<4,>=3->dvclive) (1.3.1)\n",
      "Requirement already satisfied: frozenlist>=1.1.1 in /home/jorge/.local/lib/python3.10/site-packages (from aiohttp->aiohttp-retry>=2.5.0->scmrepo<4,>=3->dvclive) (1.4.1)\n",
      "Requirement already satisfied: yarl<2.0,>=1.0 in /home/jorge/.local/lib/python3.10/site-packages (from aiohttp->aiohttp-retry>=2.5.0->scmrepo<4,>=3->dvclive) (1.9.4)\n",
      "Requirement already satisfied: async-timeout<5.0,>=4.0 in /home/jorge/.local/lib/python3.10/site-packages (from aiohttp->aiohttp-retry>=2.5.0->scmrepo<4,>=3->dvclive) (4.0.3)\n",
      "Requirement already satisfied: wcwidth in /home/jorge/.local/lib/python3.10/site-packages (from prompt-toolkit>=3.0.36->click-repl>=0.2.0->celery->dvc>=3.48.4->dvclive) (0.2.13)\n"
     ]
    },
    {
     "name": "stderr",
     "output_type": "stream",
     "text": [
      "927.53s - pydevd: Sending message related to process being replaced timed-out after 5 seconds\n"
     ]
    },
    {
     "name": "stdout",
     "output_type": "stream",
     "text": [
      "Defaulting to user installation because normal site-packages is not writeable\n",
      "Requirement already satisfied: ultralytics in /home/jorge/.local/lib/python3.10/site-packages (8.2.78)\n",
      "Collecting ultralytics\n",
      "  Downloading ultralytics-8.2.82-py3-none-any.whl (871 kB)\n",
      "\u001b[2K     \u001b[90m━━━━━━━━━━━━━━━━━━━━━━━━━━━━━━━━━━━━━━━\u001b[0m \u001b[32m871.1/871.1 KB\u001b[0m \u001b[31m5.8 MB/s\u001b[0m eta \u001b[36m0:00:00\u001b[0m00:01\u001b[0m00:01\u001b[0m\n",
      "\u001b[?25hRequirement already satisfied: scipy>=1.4.1 in /home/jorge/.local/lib/python3.10/site-packages (from ultralytics) (1.13.0)\n",
      "Requirement already satisfied: pyyaml>=5.3.1 in /usr/lib/python3/dist-packages (from ultralytics) (5.4.1)\n",
      "Requirement already satisfied: requests>=2.23.0 in /home/jorge/.local/lib/python3.10/site-packages (from ultralytics) (2.32.3)\n",
      "Requirement already satisfied: numpy<2.0.0,>=1.23.0 in /home/jorge/.local/lib/python3.10/site-packages (from ultralytics) (1.26.4)\n",
      "Requirement already satisfied: tqdm>=4.64.0 in /home/jorge/.local/lib/python3.10/site-packages (from ultralytics) (4.66.4)\n",
      "Requirement already satisfied: pillow>=7.1.2 in /home/jorge/.local/lib/python3.10/site-packages (from ultralytics) (10.4.0)\n",
      "Requirement already satisfied: ultralytics-thop>=2.0.0 in /home/jorge/.local/lib/python3.10/site-packages (from ultralytics) (2.0.0)\n",
      "Requirement already satisfied: matplotlib>=3.3.0 in /home/jorge/.local/lib/python3.10/site-packages (from ultralytics) (3.9.0)\n",
      "Requirement already satisfied: pandas>=1.1.4 in /home/jorge/.local/lib/python3.10/site-packages (from ultralytics) (2.2.2)\n",
      "Requirement already satisfied: torchvision>=0.9.0 in /home/jorge/.local/lib/python3.10/site-packages (from ultralytics) (0.18.0)\n",
      "Requirement already satisfied: torch>=1.8.0 in /home/jorge/.local/lib/python3.10/site-packages (from ultralytics) (2.3.0)\n",
      "Requirement already satisfied: opencv-python>=4.6.0 in /home/jorge/.local/lib/python3.10/site-packages (from ultralytics) (4.10.0.84)\n",
      "Requirement already satisfied: py-cpuinfo in /home/jorge/.local/lib/python3.10/site-packages (from ultralytics) (9.0.0)\n",
      "Requirement already satisfied: seaborn>=0.11.0 in /home/jorge/.local/lib/python3.10/site-packages (from ultralytics) (0.13.2)\n",
      "Requirement already satisfied: psutil in /home/jorge/.local/lib/python3.10/site-packages (from ultralytics) (5.9.8)\n",
      "Requirement already satisfied: cycler>=0.10 in /usr/lib/python3/dist-packages (from matplotlib>=3.3.0->ultralytics) (0.11.0)\n",
      "Requirement already satisfied: kiwisolver>=1.3.1 in /usr/lib/python3/dist-packages (from matplotlib>=3.3.0->ultralytics) (1.3.2)\n",
      "Requirement already satisfied: contourpy>=1.0.1 in /home/jorge/.local/lib/python3.10/site-packages (from matplotlib>=3.3.0->ultralytics) (1.2.1)\n",
      "Requirement already satisfied: pyparsing>=2.3.1 in /home/jorge/.local/lib/python3.10/site-packages (from matplotlib>=3.3.0->ultralytics) (3.1.2)\n",
      "Requirement already satisfied: packaging>=20.0 in /home/jorge/.local/lib/python3.10/site-packages (from matplotlib>=3.3.0->ultralytics) (24.0)\n",
      "Requirement already satisfied: python-dateutil>=2.7 in /home/jorge/.local/lib/python3.10/site-packages (from matplotlib>=3.3.0->ultralytics) (2.9.0.post0)\n",
      "Requirement already satisfied: fonttools>=4.22.0 in /usr/lib/python3/dist-packages (from matplotlib>=3.3.0->ultralytics) (4.29.1)\n",
      "Requirement already satisfied: pytz>=2020.1 in /usr/lib/python3/dist-packages (from pandas>=1.1.4->ultralytics) (2022.1)\n",
      "Requirement already satisfied: tzdata>=2022.7 in /home/jorge/.local/lib/python3.10/site-packages (from pandas>=1.1.4->ultralytics) (2024.1)\n",
      "Requirement already satisfied: idna<4,>=2.5 in /usr/lib/python3/dist-packages (from requests>=2.23.0->ultralytics) (3.3)\n",
      "Requirement already satisfied: certifi>=2017.4.17 in /usr/lib/python3/dist-packages (from requests>=2.23.0->ultralytics) (2020.6.20)\n",
      "Requirement already satisfied: urllib3<3,>=1.21.1 in /usr/lib/python3/dist-packages (from requests>=2.23.0->ultralytics) (1.26.5)\n",
      "Requirement already satisfied: charset-normalizer<4,>=2 in /home/jorge/.local/lib/python3.10/site-packages (from requests>=2.23.0->ultralytics) (3.3.2)\n",
      "Requirement already satisfied: sympy in /usr/lib/python3/dist-packages (from torch>=1.8.0->ultralytics) (1.9)\n",
      "Requirement already satisfied: nvidia-cudnn-cu12==8.9.2.26 in /home/jorge/.local/lib/python3.10/site-packages (from torch>=1.8.0->ultralytics) (8.9.2.26)\n",
      "Requirement already satisfied: jinja2 in /home/jorge/.local/lib/python3.10/site-packages (from torch>=1.8.0->ultralytics) (3.1.4)\n",
      "Requirement already satisfied: nvidia-cublas-cu12==12.1.3.1 in /home/jorge/.local/lib/python3.10/site-packages (from torch>=1.8.0->ultralytics) (12.1.3.1)\n",
      "Requirement already satisfied: fsspec in /home/jorge/.local/lib/python3.10/site-packages (from torch>=1.8.0->ultralytics) (2024.3.1)\n",
      "Requirement already satisfied: nvidia-nvtx-cu12==12.1.105 in /home/jorge/.local/lib/python3.10/site-packages (from torch>=1.8.0->ultralytics) (12.1.105)\n",
      "Requirement already satisfied: nvidia-cufft-cu12==11.0.2.54 in /home/jorge/.local/lib/python3.10/site-packages (from torch>=1.8.0->ultralytics) (11.0.2.54)\n",
      "Requirement already satisfied: nvidia-nccl-cu12==2.20.5 in /home/jorge/.local/lib/python3.10/site-packages (from torch>=1.8.0->ultralytics) (2.20.5)\n",
      "Requirement already satisfied: typing-extensions>=4.8.0 in /home/jorge/.local/lib/python3.10/site-packages (from torch>=1.8.0->ultralytics) (4.11.0)\n",
      "Requirement already satisfied: nvidia-cuda-cupti-cu12==12.1.105 in /home/jorge/.local/lib/python3.10/site-packages (from torch>=1.8.0->ultralytics) (12.1.105)\n",
      "Requirement already satisfied: nvidia-cuda-nvrtc-cu12==12.1.105 in /home/jorge/.local/lib/python3.10/site-packages (from torch>=1.8.0->ultralytics) (12.1.105)\n",
      "Requirement already satisfied: networkx in /home/jorge/.local/lib/python3.10/site-packages (from torch>=1.8.0->ultralytics) (3.3)\n",
      "Requirement already satisfied: nvidia-cuda-runtime-cu12==12.1.105 in /home/jorge/.local/lib/python3.10/site-packages (from torch>=1.8.0->ultralytics) (12.1.105)\n",
      "Requirement already satisfied: nvidia-cusolver-cu12==11.4.5.107 in /home/jorge/.local/lib/python3.10/site-packages (from torch>=1.8.0->ultralytics) (11.4.5.107)\n",
      "Requirement already satisfied: nvidia-cusparse-cu12==12.1.0.106 in /home/jorge/.local/lib/python3.10/site-packages (from torch>=1.8.0->ultralytics) (12.1.0.106)\n",
      "Requirement already satisfied: filelock in /home/jorge/.local/lib/python3.10/site-packages (from torch>=1.8.0->ultralytics) (3.14.0)\n",
      "Requirement already satisfied: triton==2.3.0 in /home/jorge/.local/lib/python3.10/site-packages (from torch>=1.8.0->ultralytics) (2.3.0)\n",
      "Requirement already satisfied: nvidia-curand-cu12==10.3.2.106 in /home/jorge/.local/lib/python3.10/site-packages (from torch>=1.8.0->ultralytics) (10.3.2.106)\n",
      "Requirement already satisfied: nvidia-nvjitlink-cu12 in /home/jorge/.local/lib/python3.10/site-packages (from nvidia-cusolver-cu12==11.4.5.107->torch>=1.8.0->ultralytics) (12.4.127)\n",
      "Requirement already satisfied: six>=1.5 in /usr/lib/python3/dist-packages (from python-dateutil>=2.7->matplotlib>=3.3.0->ultralytics) (1.16.0)\n",
      "Requirement already satisfied: MarkupSafe>=2.0 in /home/jorge/.local/lib/python3.10/site-packages (from jinja2->torch>=1.8.0->ultralytics) (2.1.5)\n",
      "Installing collected packages: ultralytics\n",
      "  Attempting uninstall: ultralytics\n",
      "    Found existing installation: ultralytics 8.2.78\n",
      "    Uninstalling ultralytics-8.2.78:\n",
      "      Successfully uninstalled ultralytics-8.2.78\n",
      "Successfully installed ultralytics-8.2.82\n"
     ]
    },
    {
     "name": "stderr",
     "output_type": "stream",
     "text": [
      "936.44s - pydevd: Sending message related to process being replaced timed-out after 5 seconds\n"
     ]
    },
    {
     "name": "stdout",
     "output_type": "stream",
     "text": [
      "Defaulting to user installation because normal site-packages is not writeable\n",
      "Requirement already satisfied: supervision in /home/jorge/.local/lib/python3.10/site-packages (0.22.0)\n",
      "Requirement already satisfied: pillow>=9.4 in /home/jorge/.local/lib/python3.10/site-packages (from supervision) (10.4.0)\n",
      "Requirement already satisfied: defusedxml<0.8.0,>=0.7.1 in /home/jorge/.local/lib/python3.10/site-packages (from supervision) (0.7.1)\n",
      "Requirement already satisfied: matplotlib>=3.6.0 in /home/jorge/.local/lib/python3.10/site-packages (from supervision) (3.9.0)\n",
      "Requirement already satisfied: pyyaml>=5.3 in /usr/lib/python3/dist-packages (from supervision) (5.4.1)\n",
      "Requirement already satisfied: scipy<2.0.0,>=1.10.0 in /home/jorge/.local/lib/python3.10/site-packages (from supervision) (1.13.0)\n",
      "Requirement already satisfied: numpy>=1.21.2 in /home/jorge/.local/lib/python3.10/site-packages (from supervision) (1.26.4)\n",
      "Requirement already satisfied: opencv-python-headless>=4.5.5.64 in /home/jorge/.local/lib/python3.10/site-packages (from supervision) (4.10.0.84)\n",
      "Requirement already satisfied: pyparsing>=2.3.1 in /home/jorge/.local/lib/python3.10/site-packages (from matplotlib>=3.6.0->supervision) (3.1.2)\n",
      "Requirement already satisfied: kiwisolver>=1.3.1 in /usr/lib/python3/dist-packages (from matplotlib>=3.6.0->supervision) (1.3.2)\n",
      "Requirement already satisfied: contourpy>=1.0.1 in /home/jorge/.local/lib/python3.10/site-packages (from matplotlib>=3.6.0->supervision) (1.2.1)\n",
      "Requirement already satisfied: python-dateutil>=2.7 in /home/jorge/.local/lib/python3.10/site-packages (from matplotlib>=3.6.0->supervision) (2.9.0.post0)\n",
      "Requirement already satisfied: fonttools>=4.22.0 in /usr/lib/python3/dist-packages (from matplotlib>=3.6.0->supervision) (4.29.1)\n",
      "Requirement already satisfied: cycler>=0.10 in /usr/lib/python3/dist-packages (from matplotlib>=3.6.0->supervision) (0.11.0)\n",
      "Requirement already satisfied: packaging>=20.0 in /home/jorge/.local/lib/python3.10/site-packages (from matplotlib>=3.6.0->supervision) (24.0)\n",
      "Requirement already satisfied: six>=1.5 in /usr/lib/python3/dist-packages (from python-dateutil>=2.7->matplotlib>=3.6.0->supervision) (1.16.0)\n"
     ]
    },
    {
     "name": "stderr",
     "output_type": "stream",
     "text": [
      "945.57s - pydevd: Sending message related to process being replaced timed-out after 5 seconds\n"
     ]
    },
    {
     "name": "stdout",
     "output_type": "stream",
     "text": [
      "Defaulting to user installation because normal site-packages is not writeable\n",
      "Requirement already satisfied: pynvml in /home/jorge/.local/lib/python3.10/site-packages (11.5.3)\n"
     ]
    },
    {
     "name": "stderr",
     "output_type": "stream",
     "text": [
      "953.05s - pydevd: Sending message related to process being replaced timed-out after 5 seconds\n"
     ]
    },
    {
     "name": "stdout",
     "output_type": "stream",
     "text": [
      "Defaulting to user installation because normal site-packages is not writeable\n",
      "Requirement already satisfied: sahi in /home/jorge/.local/lib/python3.10/site-packages (0.11.18)\n",
      "Requirement already satisfied: terminaltables in /home/jorge/.local/lib/python3.10/site-packages (from sahi) (3.1.10)\n",
      "Requirement already satisfied: pyyaml in /usr/lib/python3/dist-packages (from sahi) (5.4.1)\n",
      "Requirement already satisfied: numpy<2.0.0 in /home/jorge/.local/lib/python3.10/site-packages (from sahi) (1.26.4)\n",
      "Collecting opencv-python<=4.9.0.80\n",
      "  Using cached opencv_python-4.9.0.80-cp37-abi3-manylinux_2_17_x86_64.manylinux2014_x86_64.whl (62.2 MB)\n",
      "Requirement already satisfied: shapely>=1.8.0 in /home/jorge/.local/lib/python3.10/site-packages (from sahi) (2.0.4)\n",
      "Requirement already satisfied: requests in /home/jorge/.local/lib/python3.10/site-packages (from sahi) (2.32.3)\n",
      "Requirement already satisfied: tqdm>=4.48.2 in /home/jorge/.local/lib/python3.10/site-packages (from sahi) (4.66.4)\n",
      "Requirement already satisfied: click in /home/jorge/.local/lib/python3.10/site-packages (from sahi) (8.1.7)\n",
      "Requirement already satisfied: pillow>=8.2.0 in /home/jorge/.local/lib/python3.10/site-packages (from sahi) (10.4.0)\n",
      "Requirement already satisfied: fire in /home/jorge/.local/lib/python3.10/site-packages (from sahi) (0.6.0)\n",
      "Requirement already satisfied: pybboxes==0.1.6 in /home/jorge/.local/lib/python3.10/site-packages (from sahi) (0.1.6)\n",
      "Requirement already satisfied: termcolor in /usr/lib/python3/dist-packages (from fire->sahi) (1.1.0)\n",
      "Requirement already satisfied: six in /usr/lib/python3/dist-packages (from fire->sahi) (1.16.0)\n",
      "Requirement already satisfied: certifi>=2017.4.17 in /usr/lib/python3/dist-packages (from requests->sahi) (2020.6.20)\n",
      "Requirement already satisfied: urllib3<3,>=1.21.1 in /usr/lib/python3/dist-packages (from requests->sahi) (1.26.5)\n",
      "Requirement already satisfied: idna<4,>=2.5 in /usr/lib/python3/dist-packages (from requests->sahi) (3.3)\n",
      "Requirement already satisfied: charset-normalizer<4,>=2 in /home/jorge/.local/lib/python3.10/site-packages (from requests->sahi) (3.3.2)\n",
      "Installing collected packages: opencv-python\n",
      "  Attempting uninstall: opencv-python\n",
      "    Found existing installation: opencv-python 4.10.0.84\n",
      "    Uninstalling opencv-python-4.10.0.84:\n",
      "      Successfully uninstalled opencv-python-4.10.0.84\n",
      "Successfully installed opencv-python-4.9.0.80\n"
     ]
    },
    {
     "name": "stderr",
     "output_type": "stream",
     "text": [
      "962.47s - pydevd: Sending message related to process being replaced timed-out after 5 seconds\n"
     ]
    },
    {
     "name": "stdout",
     "output_type": "stream",
     "text": [
      "Defaulting to user installation because normal site-packages is not writeable\n",
      "Requirement already satisfied: albumentations in /home/jorge/.local/lib/python3.10/site-packages (1.4.14)\n",
      "Requirement already satisfied: typing-extensions>=4.9.0 in /home/jorge/.local/lib/python3.10/site-packages (from albumentations) (4.11.0)\n",
      "Requirement already satisfied: scikit-image>=0.21.0 in /home/jorge/.local/lib/python3.10/site-packages (from albumentations) (0.24.0)\n",
      "Requirement already satisfied: numpy>=1.24.4 in /home/jorge/.local/lib/python3.10/site-packages (from albumentations) (1.26.4)\n",
      "Requirement already satisfied: PyYAML in /usr/lib/python3/dist-packages (from albumentations) (5.4.1)\n",
      "Requirement already satisfied: pydantic>=2.7.0 in /home/jorge/.local/lib/python3.10/site-packages (from albumentations) (2.8.2)\n",
      "Requirement already satisfied: albucore>=0.0.13 in /home/jorge/.local/lib/python3.10/site-packages (from albumentations) (0.0.13)\n",
      "Requirement already satisfied: eval-type-backport in /home/jorge/.local/lib/python3.10/site-packages (from albumentations) (0.2.0)\n",
      "Requirement already satisfied: opencv-python-headless>=4.9.0.80 in /home/jorge/.local/lib/python3.10/site-packages (from albumentations) (4.10.0.84)\n",
      "Requirement already satisfied: scipy>=1.10.0 in /home/jorge/.local/lib/python3.10/site-packages (from albumentations) (1.13.0)\n",
      "Requirement already satisfied: tomli>=2.0.1 in /home/jorge/.local/lib/python3.10/site-packages (from albucore>=0.0.13->albumentations) (2.0.1)\n",
      "Requirement already satisfied: pydantic-core==2.20.1 in /home/jorge/.local/lib/python3.10/site-packages (from pydantic>=2.7.0->albumentations) (2.20.1)\n",
      "Requirement already satisfied: annotated-types>=0.4.0 in /home/jorge/.local/lib/python3.10/site-packages (from pydantic>=2.7.0->albumentations) (0.7.0)\n",
      "Requirement already satisfied: lazy-loader>=0.4 in /home/jorge/.local/lib/python3.10/site-packages (from scikit-image>=0.21.0->albumentations) (0.4)\n",
      "Requirement already satisfied: packaging>=21 in /home/jorge/.local/lib/python3.10/site-packages (from scikit-image>=0.21.0->albumentations) (24.0)\n",
      "Requirement already satisfied: imageio>=2.33 in /home/jorge/.local/lib/python3.10/site-packages (from scikit-image>=0.21.0->albumentations) (2.34.1)\n",
      "Requirement already satisfied: tifffile>=2022.8.12 in /home/jorge/.local/lib/python3.10/site-packages (from scikit-image>=0.21.0->albumentations) (2024.7.24)\n",
      "Requirement already satisfied: networkx>=2.8 in /home/jorge/.local/lib/python3.10/site-packages (from scikit-image>=0.21.0->albumentations) (3.3)\n",
      "Requirement already satisfied: pillow>=9.1 in /home/jorge/.local/lib/python3.10/site-packages (from scikit-image>=0.21.0->albumentations) (10.4.0)\n"
     ]
    },
    {
     "name": "stderr",
     "output_type": "stream",
     "text": [
      "969.95s - pydevd: Sending message related to process being replaced timed-out after 5 seconds\n"
     ]
    },
    {
     "name": "stdout",
     "output_type": "stream",
     "text": [
      "Defaulting to user installation because normal site-packages is not writeable\n",
      "Requirement already satisfied: plotly in /home/jorge/.local/lib/python3.10/site-packages (5.23.0)\n",
      "Requirement already satisfied: tenacity>=6.2.0 in /home/jorge/.local/lib/python3.10/site-packages (from plotly) (8.5.0)\n",
      "Requirement already satisfied: packaging in /home/jorge/.local/lib/python3.10/site-packages (from plotly) (24.0)\n"
     ]
    },
    {
     "name": "stderr",
     "output_type": "stream",
     "text": [
      "979.21s - pydevd: Sending message related to process being replaced timed-out after 5 seconds\n"
     ]
    },
    {
     "name": "stdout",
     "output_type": "stream",
     "text": [
      "Defaulting to user installation because normal site-packages is not writeable\n",
      "Requirement already satisfied: sahi in /home/jorge/.local/lib/python3.10/site-packages (0.11.18)\n",
      "Requirement already satisfied: opencv-python<=4.9.0.80 in /home/jorge/.local/lib/python3.10/site-packages (from sahi) (4.9.0.80)\n",
      "Requirement already satisfied: requests in /home/jorge/.local/lib/python3.10/site-packages (from sahi) (2.32.3)\n",
      "Requirement already satisfied: shapely>=1.8.0 in /home/jorge/.local/lib/python3.10/site-packages (from sahi) (2.0.4)\n",
      "Requirement already satisfied: fire in /home/jorge/.local/lib/python3.10/site-packages (from sahi) (0.6.0)\n",
      "Requirement already satisfied: click in /home/jorge/.local/lib/python3.10/site-packages (from sahi) (8.1.7)\n",
      "Requirement already satisfied: tqdm>=4.48.2 in /home/jorge/.local/lib/python3.10/site-packages (from sahi) (4.66.4)\n",
      "Requirement already satisfied: pillow>=8.2.0 in /home/jorge/.local/lib/python3.10/site-packages (from sahi) (10.4.0)\n",
      "Requirement already satisfied: numpy<2.0.0 in /home/jorge/.local/lib/python3.10/site-packages (from sahi) (1.26.4)\n",
      "Requirement already satisfied: pybboxes==0.1.6 in /home/jorge/.local/lib/python3.10/site-packages (from sahi) (0.1.6)\n",
      "Requirement already satisfied: pyyaml in /usr/lib/python3/dist-packages (from sahi) (5.4.1)\n",
      "Requirement already satisfied: terminaltables in /home/jorge/.local/lib/python3.10/site-packages (from sahi) (3.1.10)\n",
      "Requirement already satisfied: termcolor in /usr/lib/python3/dist-packages (from fire->sahi) (1.1.0)\n",
      "Requirement already satisfied: six in /usr/lib/python3/dist-packages (from fire->sahi) (1.16.0)\n",
      "Requirement already satisfied: idna<4,>=2.5 in /usr/lib/python3/dist-packages (from requests->sahi) (3.3)\n",
      "Requirement already satisfied: certifi>=2017.4.17 in /usr/lib/python3/dist-packages (from requests->sahi) (2020.6.20)\n",
      "Requirement already satisfied: charset-normalizer<4,>=2 in /home/jorge/.local/lib/python3.10/site-packages (from requests->sahi) (3.3.2)\n",
      "Requirement already satisfied: urllib3<3,>=1.21.1 in /usr/lib/python3/dist-packages (from requests->sahi) (1.26.5)\n"
     ]
    },
    {
     "name": "stderr",
     "output_type": "stream",
     "text": [
      "986.74s - pydevd: Sending message related to process being replaced timed-out after 5 seconds\n"
     ]
    },
    {
     "name": "stdout",
     "output_type": "stream",
     "text": [
      "Defaulting to user installation because normal site-packages is not writeable\n",
      "Requirement already satisfied: opencv-python in /home/jorge/.local/lib/python3.10/site-packages (4.9.0.80)\n",
      "Collecting opencv-python\n",
      "  Using cached opencv_python-4.10.0.84-cp37-abi3-manylinux_2_17_x86_64.manylinux2014_x86_64.whl (62.5 MB)\n",
      "Requirement already satisfied: numpy>=1.17.0 in /home/jorge/.local/lib/python3.10/site-packages (from opencv-python) (1.26.4)\n",
      "Installing collected packages: opencv-python\n",
      "  Attempting uninstall: opencv-python\n",
      "    Found existing installation: opencv-python 4.9.0.80\n",
      "    Uninstalling opencv-python-4.9.0.80:\n",
      "      Successfully uninstalled opencv-python-4.9.0.80\n",
      "\u001b[31mERROR: pip's dependency resolver does not currently take into account all the packages that are installed. This behaviour is the source of the following dependency conflicts.\n",
      "sahi 0.11.18 requires opencv-python<=4.9.0.80, but you have opencv-python 4.10.0.84 which is incompatible.\u001b[0m\u001b[31m\n",
      "\u001b[0mSuccessfully installed opencv-python-4.10.0.84\n"
     ]
    }
   ],
   "source": [
    "import locale\n",
    "locale.getpreferredencoding = lambda: \"UTF-8\"\n",
    "!pip install dvclive --upgrade\n",
    "!pip install ultralytics --upgrade\n",
    "!pip install supervision --upgrade\n",
    "!pip install pynvml --upgrade\n",
    "!pip install sahi --upgrade\n",
    "!pip install albumentations --upgrade\n",
    "!pip install plotly --upgrade\n",
    "!pip install sahi --upgrade\n",
    "!pip install opencv-python --upgrade\n"
   ]
  },
  {
   "cell_type": "code",
   "execution_count": 1,
   "id": "10bf732d",
   "metadata": {
    "colab": {
     "base_uri": "https://localhost:8080/"
    },
    "executionInfo": {
     "elapsed": 10863,
     "status": "ok",
     "timestamp": 1720882944699,
     "user": {
      "displayName": "Jorge Galindo",
      "userId": "08608773082217336897"
     },
     "user_tz": -180
    },
    "id": "4pps0f5joT_k",
    "outputId": "51365a97-defc-4011-fb5b-f484fcc091d9"
   },
   "outputs": [
    {
     "name": "stdout",
     "output_type": "stream",
     "text": [
      "/home/jorge/Documents/Swifts.Research.Project\n"
     ]
    },
    {
     "name": "stderr",
     "output_type": "stream",
     "text": [
      "/home/jorge/.local/lib/python3.10/site-packages/matplotlib/projections/__init__.py:63: UserWarning: Unable to import Axes3D. This may be due to multiple versions of Matplotlib being installed (e.g. as a system package and as a pip package). As a result, the 3D projection is not available.\n",
      "  warnings.warn(\"Unable to import Axes3D. This may be due to multiple versions of \"\n"
     ]
    }
   ],
   "source": [
    "import os\n",
    "print(os.getcwd())\n",
    "\n",
    "import torch\n",
    "from ultralytics import YOLO\n",
    "import supervision as sv\n",
    "import numpy as np\n",
    "import cv2\n",
    "from matplotlib import pyplot as plt\n",
    "\n",
    "VIDEO_PATH = \"Labeled-videos/05110122.MP4\"\n",
    "video_info = sv.VideoInfo.from_video_path(VIDEO_PATH)"
   ]
  },
  {
   "cell_type": "code",
   "execution_count": 2,
   "id": "681a37d4",
   "metadata": {},
   "outputs": [
    {
     "name": "stdout",
     "output_type": "stream",
     "text": [
      "/bin/bash: line 1: python: command not found\n"
     ]
    }
   ],
   "source": [
    "!python --version"
   ]
  },
  {
   "cell_type": "code",
   "execution_count": 3,
   "id": "9200c9a7-2c88-4ba5-8c0c-0270194f77c2",
   "metadata": {},
   "outputs": [],
   "source": [
    "\n",
    "from ultralytics.data.augment import Albumentations\n",
    "from ultralytics.utils import LOGGER, colorstr\n",
    "\n",
    "def __init__(self, p=1.0):\n",
    "        \"\"\"Initialize the transform object for YOLO bbox formatted params.\"\"\"\n",
    "        self.p = p\n",
    "        self.transform = None\n",
    "        prefix = colorstr(\"albumentations: \")\n",
    "\n",
    "        try:\n",
    "            import albumentations as A\n",
    "\n",
    "            check_version(A.__version__, \"1.0.3\", hard=True)  # version requirement\n",
    "\n",
    "            # List of possible spatial transforms\n",
    "            spatial_transforms = {\n",
    "                \"Affine\",\n",
    "                \"BBoxSafeRandomCrop\",\n",
    "                \"CenterCrop\",\n",
    "                \"CoarseDropout\",\n",
    "                \"Crop\",\n",
    "                \"CropAndPad\",\n",
    "                \"CropNonEmptyMaskIfExists\",\n",
    "                \"D4\",\n",
    "                \"ElasticTransform\",\n",
    "                \"Flip\",\n",
    "                \"GridDistortion\",\n",
    "                \"GridDropout\",\n",
    "                \"HorizontalFlip\",\n",
    "                \"Lambda\",\n",
    "                \"LongestMaxSize\",\n",
    "                \"MaskDropout\",\n",
    "                \"MixUp\",\n",
    "                \"Morphological\",\n",
    "                \"NoOp\",\n",
    "                \"OpticalDistortion\",\n",
    "                \"PadIfNeeded\",\n",
    "                \"Perspective\",\n",
    "                \"PiecewiseAffine\",\n",
    "                \"PixelDropout\",\n",
    "                \"RandomCrop\",\n",
    "                \"RandomCropFromBorders\",\n",
    "                \"RandomGridShuffle\",\n",
    "                \"RandomResizedCrop\",\n",
    "                \"RandomRotate90\",\n",
    "                \"RandomScale\",\n",
    "                \"RandomSizedBBoxSafeCrop\",\n",
    "                \"RandomSizedCrop\",\n",
    "                \"Resize\",\n",
    "                \"Rotate\",\n",
    "                \"SafeRotate\",\n",
    "                \"ShiftScaleRotate\",\n",
    "                \"SmallestMaxSize\",\n",
    "                \"Transpose\",\n",
    "                \"VerticalFlip\",\n",
    "                \"XYMasking\",\n",
    "            }  # from https://albumentations.ai/docs/getting_started/transforms_and_targets/#spatial-level-transforms\n",
    "\n",
    "            # Transforms\n",
    "            T = [A.RandomRain(p=0.1, slant_lower=-10, slant_upper=10, \n",
    "                              drop_length=20, drop_width=1, drop_color=(200, 200, 200), \n",
    "                              blur_value=5, brightness_coefficient=0.9, rain_type=None),\n",
    "                    A.Rotate(limit = 10, p=0.5),\n",
    "                    A.ToGray(p=0.1),\n",
    "                    A.ImageCompression(quality_lower=75, p=0.1),\n",
    "                    A.OneOf([\n",
    "                        A.IAAAdditiveGaussianNoise(),\n",
    "                        A.GaussNoise(),\n",
    "                    ], p=0.2),\n",
    "                    A.OneOf([\n",
    "                        A.MotionBlur(p=0.2),\n",
    "                        A.MedianBlur(blur_limit=3, p=0.1),\n",
    "                        A.Blur(blur_limit=3, p=0.1),\n",
    "                    ], p=0.2),\n",
    "                    A.OneOf([\n",
    "                        A.ShiftScaleRotate(shift_limit=0.0625, scale_limit=0.2, rotate_limit=45, p=.3),\n",
    "                        A.RandomRotate90(p=0.3),\n",
    "                        A.Flip(p=0.3),\n",
    "                        A.Transpose(p=0.3),\n",
    "                    ],p=0.3),\n",
    "                    A.OneOf([\n",
    "                        A.OpticalDistortion(p=0.3),\n",
    "                        A.GridDistortion(p=.1),\n",
    "                        A.IAAPiecewiseAffine(p=0.3),\n",
    "                    ], p=0.2),\n",
    "                    A.OneOf([\n",
    "                        A.CLAHE(clip_limit=2),\n",
    "                        A.IAASharpen(),\n",
    "                        A.IAAEmboss(),\n",
    "                        A.RandomContrast(),\n",
    "                        A.RandomBrightness(),\n",
    "                        A.RandomBrightnessContrast(p=0.1),\n",
    "                        A.RandomGamma(p=0.1),\n",
    "                    ], p=0.3),\n",
    "                    A.HueSaturationValue(p=0.3),\n",
    "                    A.ToTensor()\n",
    "                ]\n",
    "\n",
    "            # Compose transforms\n",
    "            self.contains_spatial = any(transform.__class__.__name__ in spatial_transforms for transform in T)\n",
    "            self.transform = (\n",
    "                A.Compose(T, bbox_params=A.BboxParams(format=\"yolo\", label_fields=[\"class_labels\"]))\n",
    "                if self.contains_spatial\n",
    "                else A.Compose(T)\n",
    "            )\n",
    "            LOGGER.info(prefix + \", \".join(f\"{x}\".replace(\"always_apply=False, \", \"\") for x in T if x.p))\n",
    "        except ImportError:  # package not installed, skip\n",
    "            pass\n",
    "        except Exception as e:\n",
    "            LOGGER.info(f\"{prefix}{e}\")\n",
    "\n",
    "Albumentations.__init__ = __init__"
   ]
  },
  {
   "cell_type": "code",
   "execution_count": null,
   "id": "e0732e10",
   "metadata": {
    "colab": {
     "background_save": true
    },
    "id": "mg7Ta0QfFdWe"
   },
   "outputs": [],
   "source": [
    "model = YOLO(\"yolov8x.pt\")\n",
    "#model=YOLO(\"runs/detect/train11/weights/best.pt\")"
   ]
  },
  {
   "cell_type": "code",
   "execution_count": null,
   "id": "a8acee52",
   "metadata": {
    "colab": {
     "base_uri": "https://localhost:8080/"
    },
    "executionInfo": {
     "elapsed": 266185,
     "status": "ok",
     "timestamp": 1720779384134,
     "user": {
      "displayName": "Jorge Galindo",
      "userId": "08608773082217336897"
     },
     "user_tz": -120
    },
    "id": "78cdc4707775d585",
    "outputId": "fc324a68-4f2c-4c96-b2a1-40e52425a28b",
    "scrolled": true
   },
   "outputs": [],
   "source": [
    "results = model.train(data=\"frame_labels_yolo/dataset.yaml\", epochs=200, imgsz=640, batch=4, lr0=0.0001, device=0)"
   ]
  },
  {
   "cell_type": "code",
   "execution_count": null,
   "id": "c3df51c0",
   "metadata": {
    "id": "d7816c076e8f227f"
   },
   "outputs": [],
   "source": [
    "model=YOLO(\"runs/detect/train16/weights/best.pt\")"
   ]
  },
  {
   "cell_type": "code",
   "execution_count": null,
   "id": "7ea8f11c",
   "metadata": {
    "id": "c001ded806f0b69e"
   },
   "outputs": [],
   "source": [
    "def process_frame(frame: np.ndarray, _) -> np.ndarray:\n",
    "    results = model.track(frame, imgsz=1280, persist=True)[0]\n",
    "\n",
    "    detections = sv.Detections.from_ultralytics(results)\n",
    "\n",
    "    box_annotator = sv.BoundingBoxAnnotator(thickness=4)\n",
    "    label_annotator = sv.LabelAnnotator(text_thickness=4, text_scale=2)\n",
    "\n",
    "    labels = [f\"{model.names[class_id]} {confidence:0.2f}\" for _, _, confidence, class_id, _, _ in detections]\n",
    "    frame = box_annotator.annotate(scene=frame, detections=detections)\n",
    "    frame = label_annotator.annotate(scene=frame, detections=detections, labels=labels)\n",
    "\n",
    "    return frame"
   ]
  },
  {
   "cell_type": "code",
   "execution_count": null,
   "id": "f7817075",
   "metadata": {
    "colab": {
     "base_uri": "https://localhost:8080/"
    },
    "executionInfo": {
     "elapsed": 38288,
     "status": "ok",
     "timestamp": 1720779446148,
     "user": {
      "displayName": "Jorge Galindo",
      "userId": "08608773082217336897"
     },
     "user_tz": -120
    },
    "id": "f1e4d4e2e4f9ba9a",
    "outputId": "e08c0f54-e7cc-4ed0-9bbf-102501179ec9",
    "scrolled": true
   },
   "outputs": [],
   "source": [
    "sv.process_video(source_path=VIDEO_PATH, target_path=f\"result.mp4\", callback=process_frame)"
   ]
  },
  {
   "cell_type": "code",
   "execution_count": null,
   "id": "b4492b0d",
   "metadata": {
    "id": "W6MIe6zrDLfC"
   },
   "outputs": [],
   "source": []
  },
  {
   "cell_type": "code",
   "execution_count": null,
   "id": "1a694a31",
   "metadata": {
    "colab": {
     "base_uri": "https://localhost:8080/"
    },
    "executionInfo": {
     "elapsed": 422,
     "status": "ok",
     "timestamp": 1720779466550,
     "user": {
      "displayName": "Jorge Galindo",
      "userId": "08608773082217336897"
     },
     "user_tz": -120
    },
    "id": "4c2fcd513f90a209",
    "jupyter": {
     "source_hidden": true
    },
    "outputId": "45e6a0c3-0df9-4520-981f-affb286da7c5"
   },
   "outputs": [],
   "source": [
    "from pynvml import *\n",
    "\n",
    "nvmlInit()\n",
    "h = nvmlDeviceGetHandleByIndex(0)\n",
    "info = nvmlDeviceGetMemoryInfo(h)\n",
    "print(f'total    : {info.total}')\n",
    "print(f'free     : {info.free}')\n",
    "print(f'used     : {info.used}')\n",
    "torch.cuda.empty_cache()\n",
    "\n",
    "h = nvmlDeviceGetHandleByIndex(0)\n",
    "info = nvmlDeviceGetMemoryInfo(h)\n",
    "print(f'total    : {info.total}')\n",
    "print(f'free     : {info.free}')\n",
    "print(f'used     : {info.used}')"
   ]
  },
  {
   "cell_type": "markdown",
   "id": "3abf7032",
   "metadata": {
    "id": "yqTp6wE6btqe"
   },
   "source": [
    "Add method to run with sahi."
   ]
  },
  {
   "cell_type": "code",
   "execution_count": null,
   "id": "4d1655b1",
   "metadata": {
    "id": "ZRB4gLRxP_o1"
   },
   "outputs": [],
   "source": [
    "\n",
    "import argparse\n",
    "from pathlib import Path\n",
    "\n",
    "from sahi import AutoDetectionModel\n",
    "from sahi.predict import get_sliced_prediction\n",
    "from sahi.utils.yolov8 import download_yolov8s_model\n",
    "\n",
    "from ultralytics.utils.files import increment_path\n",
    "\n",
    "\n",
    "def perform_inference_tracking(self, image: np.ndarray):\n",
    "    \"\"\"\n",
    "    Prediction is performed using self.model and the prediction result is set to self._original_predictions.\n",
    "    If predictions have masks, each prediction is a tuple like (boxes, masks).\n",
    "    Args:\n",
    "        image: np.ndarray\n",
    "            A numpy array that contains the image to be predicted. 3 channel image should be in RGB order.\n",
    "\n",
    "    \"\"\"\n",
    "\n",
    "    from ultralytics.engine.results import Masks\n",
    "\n",
    "    # Confirm model is loaded\n",
    "    if self.model is None:\n",
    "        raise ValueError(\"Model is not loaded, load it by calling .load_model()\")\n",
    "\n",
    "    kwargs = {\"cfg\": self.config_path, \"verbose\": False, \"conf\": self.confidence_threshold, \"device\": self.device}\n",
    "\n",
    "    if self.image_size is not None:\n",
    "        kwargs = {\"imgsz\": self.image_size, **kwargs}\n",
    "\n",
    "    prediction_result = self.model.track(image[:, :, ::-1], **kwargs, persist=True)  # YOLOv8 expects numpy arrays to have BGR\n",
    "\n",
    "    if self.has_mask:\n",
    "        if not prediction_result[0].masks:\n",
    "            prediction_result[0].masks = Masks(\n",
    "                torch.tensor([], device=self.model.device), prediction_result[0].boxes.orig_shape\n",
    "            )\n",
    "\n",
    "        # We do not filter results again as confidence threshold is already applied above\n",
    "        prediction_result = [\n",
    "            (\n",
    "                result.boxes.data,\n",
    "                result.masks.data,\n",
    "            )\n",
    "            for result in prediction_result\n",
    "        ]\n",
    "\n",
    "    else:  # If model doesn't do segmentation then no need to check masks\n",
    "        # We do not filter results again as confidence threshold is already applied above\n",
    "        prediction_result = [result.boxes.data for result in prediction_result]\n",
    "\n",
    "    self._original_predictions = prediction_result\n",
    "    self._original_shape = image.shape\n",
    "\n",
    "def sahi_run(weights=\"yolov8n.pt\", source=\"test.mp4\", view_img=False, save_img=False, exist_ok=False, track = False):\n",
    "    \"\"\"\n",
    "    Run object detection on a video using YOLOv8 and SAHI.\n",
    "\n",
    "    Args:\n",
    "        weights (str): Model weights path.\n",
    "        source (str): Video file path.\n",
    "        view_img (bool): Show results.\n",
    "        save_img (bool): Save results.\n",
    "        exist_ok (bool): Overwrite existing files.\n",
    "    \"\"\"\n",
    "\n",
    "    # Check source path\n",
    "    if not Path(source).exists():\n",
    "        raise FileNotFoundError(f\"Source path '{source}' does not exist.\")\n",
    "\n",
    "    yolov8_model_path = weights\n",
    "    download_yolov8s_model(yolov8_model_path)\n",
    "    detection_model = AutoDetectionModel.from_pretrained(\n",
    "        model_type=\"yolov8\", model_path=yolov8_model_path, confidence_threshold=0.3, device=\"cpu\"\n",
    "    )\n",
    "    if track:\n",
    "        detection_model.perform_inference = perform_inference_tracking\n",
    "    # Video setup\n",
    "    videocapture = cv2.VideoCapture(source)\n",
    "    frame_width, frame_height = int(videocapture.get(3)), int(videocapture.get(4))\n",
    "    fps, fourcc = int(videocapture.get(5)), cv2.VideoWriter_fourcc(*\"mp4v\")\n",
    "\n",
    "    # Output setup\n",
    "    save_dir = increment_path(Path(\"ultralytics_results_with_sahi\") / \"exp\", exist_ok)\n",
    "    save_dir.mkdir(parents=True, exist_ok=True)\n",
    "    video_writer = cv2.VideoWriter(str(save_dir / f\"{Path(source).stem}.mp4\"), fourcc, fps, (frame_width, frame_height))\n",
    "\n",
    "    while videocapture.isOpened():\n",
    "        success, frame = videocapture.read()\n",
    "        if not success:\n",
    "            break\n",
    "\n",
    "        results = get_sliced_prediction(\n",
    "            frame, detection_model, slice_height=512, slice_width=512, overlap_height_ratio=0.2, overlap_width_ratio=0.2\n",
    "        )\n",
    "        object_prediction_list = results.object_prediction_list\n",
    "\n",
    "        boxes_list = []\n",
    "        clss_list = []\n",
    "        for ind, _ in enumerate(object_prediction_list):\n",
    "            boxes = (\n",
    "                object_prediction_list[ind].bbox.minx,\n",
    "                object_prediction_list[ind].bbox.miny,\n",
    "                object_prediction_list[ind].bbox.maxx,\n",
    "                object_prediction_list[ind].bbox.maxy,\n",
    "            )\n",
    "            clss = object_prediction_list[ind].category.name\n",
    "            boxes_list.append(boxes)\n",
    "            clss_list.append(clss)\n",
    "\n",
    "        for box, cls in zip(boxes_list, clss_list):\n",
    "            x1, y1, x2, y2 = box\n",
    "            cv2.rectangle(frame, (int(x1), int(y1)), (int(x2), int(y2)), (56, 56, 255), 2)\n",
    "            label = str(cls)\n",
    "            t_size = cv2.getTextSize(label, 0, fontScale=0.6, thickness=1)[0]\n",
    "            cv2.rectangle(\n",
    "                frame, (int(x1), int(y1) - t_size[1] - 3), (int(x1) + t_size[0], int(y1) + 3), (56, 56, 255), -1\n",
    "            )\n",
    "            cv2.putText(\n",
    "                frame, label, (int(x1), int(y1) - 2), 0, 0.6, [255, 255, 255], thickness=1, lineType=cv2.LINE_AA\n",
    "            )\n",
    "\n",
    "        if view_img:\n",
    "            #cv2.imshow(Path(source).stem, frame)\n",
    "            plt.imshow(frame)\n",
    "            plt.show()\n",
    "        if save_img:\n",
    "            video_writer.write(frame)\n",
    "\n",
    "        if cv2.waitKey(1) & 0xFF == ord(\"q\"):\n",
    "            break\n",
    "    video_writer.release()\n",
    "    videocapture.release()\n",
    "    cv2.destroyAllWindows()"
   ]
  },
  {
   "cell_type": "code",
   "execution_count": null,
   "id": "6e1b1123",
   "metadata": {
    "colab": {
     "background_save": true,
     "base_uri": "https://localhost:8080/",
     "height": 1000,
     "output_embedded_package_id": "14gfAkjfgHsFAmYG7Ga1nk69M6GMjD3rd"
    },
    "id": "L3FgrrvReTLC",
    "outputId": "706ec163-6806-4299-a9d6-c345ab1ba4ec",
    "scrolled": true
   },
   "outputs": [],
   "source": [
    "sahi_run(\"runs/detect/train6/weights/best.pt\",VIDEO_PATH, True, True, False)"
   ]
  },
  {
   "cell_type": "markdown",
   "id": "8ef99fb1",
   "metadata": {
    "id": "daGJFmp2rCNe"
   },
   "source": [
    "Testing YOLO tracking"
   ]
  },
  {
   "cell_type": "code",
   "execution_count": null,
   "id": "aeb1bf12",
   "metadata": {
    "colab": {
     "background_save": true,
     "base_uri": "https://localhost:8080/",
     "height": 1000,
     "output_embedded_package_id": "1koNiXhSxT6WB5M-nZPhJXhX2vwuhR40Q"
    },
    "id": "giSmUnnIq5jE",
    "outputId": "dfa414a1-0ad9-44ec-b9c0-69aea9725ab8",
    "scrolled": true
   },
   "outputs": [],
   "source": [
    "from ultralytics.utils.files import increment_path\n",
    "\n",
    "from pathlib import Path\n",
    "\n",
    "# Open the video file\n",
    "video_path = VIDEO_PATH\n",
    "cap = cv2.VideoCapture(video_path)\n",
    "\n",
    " # Video setup\n",
    "frame_width, frame_height = int(cap.get(3)), int(cap.get(4))\n",
    "fps, fourcc = int(cap.get(5)), cv2.VideoWriter_fourcc(*\"mp4v\")\n",
    "\n",
    "# Output setup\n",
    "save_dir = increment_path(Path(\"ultralytics_results_with_tracking\") / \"exp\", True)\n",
    "save_dir.mkdir(parents=True, exist_ok=True)\n",
    "video_writer = cv2.VideoWriter(str(save_dir / f\"{Path(video_path).stem}.mp4\"), fourcc, fps, (frame_width, frame_height))\n",
    "\n",
    "\n",
    "# Loop through the video frames\n",
    "while cap.isOpened():\n",
    "    # Read a frame from the video\n",
    "    success, frame = cap.read()\n",
    "\n",
    "    if success:\n",
    "        # Run YOLOv8 tracking on the frame, persisting tracks between frames\n",
    "        results = model.track(frame, persist=True)\n",
    "\n",
    "        # Visualize the results on the frame\n",
    "        annotated_frame = results[0].plot()\n",
    "\n",
    "        # Display the annotated frame\n",
    "        #cv2.imshow(annotated_frame)\n",
    "        \n",
    "        plt.imshow(annotated_frame)\n",
    "        plt.show()\n",
    "        \n",
    "        video_writer.write(annotated_frame)\n",
    "\n",
    "        # Break the loop if 'q' is pressed\n",
    "        if cv2.waitKey(1) & 0xFF == ord(\"q\"):\n",
    "            break\n",
    "    else:\n",
    "        # Break the loop if the end of the video is reached\n",
    "        break\n",
    "\n",
    "# Release the video capture object and close the display window\n",
    "cap.release()\n",
    "cv2.destroyAllWindows()"
   ]
  },
  {
   "cell_type": "markdown",
   "id": "9329a9f8",
   "metadata": {
    "id": "mdjAltKU2-Bm"
   },
   "source": [
    "Testing segmentation.\n",
    "\n"
   ]
  },
  {
   "cell_type": "code",
   "execution_count": null,
   "id": "b5f9fce9",
   "metadata": {
    "colab": {
     "background_save": true,
     "base_uri": "https://localhost:8080/"
    },
    "id": "P8ZqiQ183EY6",
    "scrolled": true
   },
   "outputs": [
    {
     "name": "stdout",
     "output_type": "stream",
     "text": [
      "New https://pypi.org/project/ultralytics/8.2.78 available 😃 Update with 'pip install -U ultralytics'\n",
      "Ultralytics YOLOv8.2.69 🚀 Python-3.10.12 torch-2.3.0+cu121 CPU (13th Gen Intel Core(TM) i7-1355U)\n",
      "\u001b[34m\u001b[1mengine/trainer: \u001b[0mtask=segment, mode=train, model=yolov8s-seg.pt, data=frame_labels_yolo/dataset.yaml, epochs=20, time=None, patience=100, batch=8, imgsz=640, save=True, save_period=-1, cache=False, device=None, workers=8, project=None, name=train4, exist_ok=False, pretrained=True, optimizer=auto, verbose=True, seed=0, deterministic=True, single_cls=False, rect=False, cos_lr=False, close_mosaic=10, resume=False, amp=True, fraction=1.0, profile=False, freeze=None, multi_scale=False, overlap_mask=True, mask_ratio=4, dropout=0.0, val=True, split=val, save_json=False, save_hybrid=False, conf=None, iou=0.7, max_det=300, half=False, dnn=False, plots=True, source=None, vid_stride=1, stream_buffer=False, visualize=False, augment=False, agnostic_nms=False, classes=None, retina_masks=False, embed=None, show=False, save_frames=False, save_txt=False, save_conf=False, save_crop=False, show_labels=True, show_conf=True, show_boxes=True, line_width=None, format=torchscript, keras=False, optimize=False, int8=False, dynamic=False, simplify=False, opset=None, workspace=4, nms=False, lr0=0.0001, lrf=0.01, momentum=0.937, weight_decay=0.0005, warmup_epochs=3.0, warmup_momentum=0.8, warmup_bias_lr=0.1, box=7.5, cls=0.5, dfl=1.5, pose=12.0, kobj=1.0, label_smoothing=0.0, nbs=64, hsv_h=0.015, hsv_s=0.7, hsv_v=0.4, degrees=0.0, translate=0.1, scale=0.5, shear=0.0, perspective=0.0, flipud=0.0, fliplr=0.5, bgr=0.0, mosaic=1.0, mixup=0.0, copy_paste=0.0, auto_augment=randaugment, erasing=0.4, crop_fraction=1.0, cfg=None, tracker=botsort.yaml, save_dir=runs/segment/train4\n",
      "Downloading https://ultralytics.com/assets/Arial.ttf to '/home/jorge/.config/Ultralytics/Arial.ttf'...\n"
     ]
    },
    {
     "name": "stderr",
     "output_type": "stream",
     "text": [
      "100%|██████████| 755k/755k [00:00<00:00, 6.98MB/s]\n"
     ]
    },
    {
     "name": "stdout",
     "output_type": "stream",
     "text": [
      "Overriding model.yaml nc=80 with nc=6\n",
      "\n",
      "                   from  n    params  module                                       arguments                     \n",
      "  0                  -1  1       928  ultralytics.nn.modules.conv.Conv             [3, 32, 3, 2]                 \n",
      "  1                  -1  1     18560  ultralytics.nn.modules.conv.Conv             [32, 64, 3, 2]                \n",
      "  2                  -1  1     29056  ultralytics.nn.modules.block.C2f             [64, 64, 1, True]             \n",
      "  3                  -1  1     73984  ultralytics.nn.modules.conv.Conv             [64, 128, 3, 2]               \n",
      "  4                  -1  2    197632  ultralytics.nn.modules.block.C2f             [128, 128, 2, True]           \n",
      "  5                  -1  1    295424  ultralytics.nn.modules.conv.Conv             [128, 256, 3, 2]              \n",
      "  6                  -1  2    788480  ultralytics.nn.modules.block.C2f             [256, 256, 2, True]           \n",
      "  7                  -1  1   1180672  ultralytics.nn.modules.conv.Conv             [256, 512, 3, 2]              \n",
      "  8                  -1  1   1838080  ultralytics.nn.modules.block.C2f             [512, 512, 1, True]           \n",
      "  9                  -1  1    656896  ultralytics.nn.modules.block.SPPF            [512, 512, 5]                 \n",
      " 10                  -1  1         0  torch.nn.modules.upsampling.Upsample         [None, 2, 'nearest']          \n",
      " 11             [-1, 6]  1         0  ultralytics.nn.modules.conv.Concat           [1]                           \n",
      " 12                  -1  1    591360  ultralytics.nn.modules.block.C2f             [768, 256, 1]                 \n",
      " 13                  -1  1         0  torch.nn.modules.upsampling.Upsample         [None, 2, 'nearest']          \n",
      " 14             [-1, 4]  1         0  ultralytics.nn.modules.conv.Concat           [1]                           \n",
      " 15                  -1  1    148224  ultralytics.nn.modules.block.C2f             [384, 128, 1]                 \n",
      " 16                  -1  1    147712  ultralytics.nn.modules.conv.Conv             [128, 128, 3, 2]              \n",
      " 17            [-1, 12]  1         0  ultralytics.nn.modules.conv.Concat           [1]                           \n",
      " 18                  -1  1    493056  ultralytics.nn.modules.block.C2f             [384, 256, 1]                 \n",
      " 19                  -1  1    590336  ultralytics.nn.modules.conv.Conv             [256, 256, 3, 2]              \n",
      " 20             [-1, 9]  1         0  ultralytics.nn.modules.conv.Concat           [1]                           \n",
      " 21                  -1  1   1969152  ultralytics.nn.modules.block.C2f             [768, 512, 1]                 \n",
      " 22        [15, 18, 21]  1   2772866  ultralytics.nn.modules.head.Segment          [6, 32, 128, [128, 256, 512]] \n",
      "YOLOv8s-seg summary: 261 layers, 11,792,418 parameters, 11,792,402 gradients, 42.7 GFLOPs\n",
      "\n",
      "Transferred 411/417 items from pretrained weights\n"
     ]
    },
    {
     "name": "stderr",
     "output_type": "stream",
     "text": [
      "WARNING:dvclive:Can't save experiment without a Git Repo.\n",
      "Create a Git repo (`git init`) and commit (`git commit`).\n"
     ]
    },
    {
     "name": "stdout",
     "output_type": "stream",
     "text": [
      "DVCLive is detected and auto logging is enabled (run 'yolo settings dvc=False' to disable).\n",
      "\u001b[34m\u001b[1mTensorBoard: \u001b[0mStart with 'tensorboard --logdir runs/segment/train4', view at http://localhost:6006/\n",
      "Freezing layer 'model.22.dfl.conv.weight'\n"
     ]
    },
    {
     "name": "stderr",
     "output_type": "stream",
     "text": [
      "train: Scanning /home/jorge/Documents/Swifts.Research.Project/frame_labels_yolo/labels/train/Unlabeled-videos/Camera1/Day/20230606_145859_tp00001...:   0%|          | 0/297 [00:00<?, ?it/s]Scanning /home/jorge/Documents/Swifts.Research.Project/frame_labels_yolo/labels/train/Unlabeled-videos/Camera1/Day/20230606_145859_tp00001... 68 images, 0 backgrounds, 0 corrupt:  23%|██▎       | 68/297 [00:00<00:00, 670.56it/s]Scanning /home/jorge/Documents/Swifts.Research.Project/frame_labels_yolo/labels/train/Unlabeled-videos/Camera1/Day/20230606_145859_tp00001... 136 images, 0 backgrounds, 0 corrupt:  46%|████▌     | 136/297 [00:00<00:00, 590.82it/s]Scanning /home/jorge/Documents/Swifts.Research.Project/frame_labels_yolo/labels/train/Unlabeled-videos/Camera1/Day/20230606_145859_tp00001... 201 images, 0 backgrounds, 0 corrupt:  68%|██████▊   | 201/297 [00:00<00:00, 606.89it/s]Scanning /home/jorge/Documents/Swifts.Research.Project/frame_labels_yolo/labels/train/Unlabeled-videos/Camera1/Day/20230606_145859_tp00001... 264 images, 0 backgrounds, 0 corrupt:  89%|████████▉ | 264/297 [00:00<00:00, 608.19it/s]Scanning /home/jorge/Documents/Swifts.Research.Project/frame_labels_yolo/labels/train/Unlabeled-videos/Camera1/Day/20230606_145859_tp00001... 297 images, 0 backgrounds, 0 corrupt: 100%|██████████| 297/297 [00:00<00:00, 611.74it/s]\n"
     ]
    },
    {
     "name": "stdout",
     "output_type": "stream",
     "text": [
      "\u001b[34m\u001b[1mtrain: \u001b[0mNew cache created: /home/jorge/Documents/Swifts.Research.Project/frame_labels_yolo/labels/train/Unlabeled-videos/Camera1/Day/20230606_145859_tp00001.cache\n"
     ]
    },
    {
     "name": "stderr",
     "output_type": "stream",
     "text": [
      "INFO:albumentations.check_version:A new version of Albumentations is available: 1.4.14 (you have 1.4.12). Upgrade using: pip install -U albumentations. To disable automatic update checks, set the environment variable NO_ALBUMENTATIONS_UPDATE to 1.\n"
     ]
    },
    {
     "name": "stdout",
     "output_type": "stream",
     "text": [
      "\u001b[34m\u001b[1malbumentations: \u001b[0mname 'check_version' is not defined\n"
     ]
    },
    {
     "name": "stderr",
     "output_type": "stream",
     "text": [
      "val: Scanning /home/jorge/Documents/Swifts.Research.Project/frame_labels_yolo/labels/val/Unlabeled-videos/Camera1/Day/20230606_145859_tp00001...:   0%|          | 0/54 [00:00<?, ?it/s]Scanning /home/jorge/Documents/Swifts.Research.Project/frame_labels_yolo/labels/val/Unlabeled-videos/Camera1/Day/20230606_145859_tp00001... 54 images, 0 backgrounds, 0 corrupt: 100%|██████████| 54/54 [00:00<00:00, 700.99it/s]\n"
     ]
    },
    {
     "name": "stdout",
     "output_type": "stream",
     "text": [
      "\u001b[34m\u001b[1mval: \u001b[0mNew cache created: /home/jorge/Documents/Swifts.Research.Project/frame_labels_yolo/labels/val/Unlabeled-videos/Camera1/Day/20230606_145859_tp00001.cache\n",
      "Plotting labels to runs/segment/train4/labels.jpg... \n",
      "\u001b[34m\u001b[1moptimizer:\u001b[0m 'optimizer=auto' found, ignoring 'lr0=0.0001' and 'momentum=0.937' and determining best 'optimizer', 'lr0' and 'momentum' automatically... \n",
      "\u001b[34m\u001b[1moptimizer:\u001b[0m AdamW(lr=0.001, momentum=0.9) with parameter groups 66 weight(decay=0.0), 77 weight(decay=0.0005), 76 bias(decay=0.0)\n",
      "\u001b[34m\u001b[1mTensorBoard: \u001b[0mmodel graph visualization added ✅\n",
      "Image sizes 640 train, 640 val\n",
      "Using 0 dataloader workers\n",
      "Logging results to \u001b[1mruns/segment/train4\u001b[0m\n",
      "Starting training for 20 epochs...\n",
      "\n",
      "      Epoch    GPU_mem   box_loss   seg_loss   cls_loss   dfl_loss  Instances       Size\n"
     ]
    },
    {
     "name": "stderr",
     "output_type": "stream",
     "text": [
      "       1/20         0G      1.875      3.591       3.15      1.507         14        640: 100%|██████████| 38/38 [06:55<00:00, 10.94s/it]\n",
      "                 Class     Images  Instances      Box(P          R      mAP50  mAP50-95)     Mask(P          R      mAP50  mAP50-95): 100%|██████████| 4/4 [00:18<00:00,  4.68s/it]\n"
     ]
    },
    {
     "name": "stdout",
     "output_type": "stream",
     "text": [
      "                   all         54        422      0.705      0.306      0.293      0.146      0.673      0.279      0.242      0.096\n",
      "\n",
      "      Epoch    GPU_mem   box_loss   seg_loss   cls_loss   dfl_loss  Instances       Size\n"
     ]
    },
    {
     "name": "stderr",
     "output_type": "stream",
     "text": [
      "       2/20         0G      1.567      2.883      1.616      1.294         26        640: 100%|██████████| 38/38 [07:02<00:00, 11.12s/it]\n",
      "                 Class     Images  Instances      Box(P          R      mAP50  mAP50-95)     Mask(P          R      mAP50  mAP50-95): 100%|██████████| 4/4 [00:17<00:00,  4.30s/it]\n"
     ]
    },
    {
     "name": "stdout",
     "output_type": "stream",
     "text": [
      "                   all         54        422       0.78      0.387      0.407      0.234      0.755      0.364       0.37      0.162\n",
      "\n",
      "      Epoch    GPU_mem   box_loss   seg_loss   cls_loss   dfl_loss  Instances       Size\n"
     ]
    },
    {
     "name": "stderr",
     "output_type": "stream",
     "text": [
      "       3/20         0G      1.491      2.708      1.402       1.26          4        640: 100%|██████████| 38/38 [06:53<00:00, 10.88s/it]\n",
      "                 Class     Images  Instances      Box(P          R      mAP50  mAP50-95)     Mask(P          R      mAP50  mAP50-95): 100%|██████████| 4/4 [00:17<00:00,  4.45s/it]\n"
     ]
    },
    {
     "name": "stdout",
     "output_type": "stream",
     "text": [
      "                   all         54        422      0.827      0.427      0.464      0.257      0.808      0.412      0.433      0.182\n",
      "\n",
      "      Epoch    GPU_mem   box_loss   seg_loss   cls_loss   dfl_loss  Instances       Size\n"
     ]
    },
    {
     "name": "stderr",
     "output_type": "stream",
     "text": [
      "       4/20         0G      1.451      2.624      1.272      1.224         31        640: 100%|██████████| 38/38 [06:51<00:00, 10.83s/it]\n",
      "                 Class     Images  Instances      Box(P          R      mAP50  mAP50-95)     Mask(P          R      mAP50  mAP50-95): 100%|██████████| 4/4 [00:16<00:00,  4.24s/it]\n"
     ]
    },
    {
     "name": "stdout",
     "output_type": "stream",
     "text": [
      "                   all         54        422      0.853      0.444      0.563      0.309      0.824      0.421      0.485      0.224\n",
      "\n",
      "      Epoch    GPU_mem   box_loss   seg_loss   cls_loss   dfl_loss  Instances       Size\n"
     ]
    },
    {
     "name": "stderr",
     "output_type": "stream",
     "text": [
      "       5/20         0G      1.428      2.563      1.132      1.208         27        640: 100%|██████████| 38/38 [06:52<00:00, 10.85s/it]\n",
      "                 Class     Images  Instances      Box(P          R      mAP50  mAP50-95)     Mask(P          R      mAP50  mAP50-95): 100%|██████████| 4/4 [00:16<00:00,  4.12s/it]\n"
     ]
    },
    {
     "name": "stdout",
     "output_type": "stream",
     "text": [
      "                   all         54        422      0.724      0.429      0.551      0.326        0.7      0.406      0.514      0.235\n",
      "\n",
      "      Epoch    GPU_mem   box_loss   seg_loss   cls_loss   dfl_loss  Instances       Size\n"
     ]
    },
    {
     "name": "stderr",
     "output_type": "stream",
     "text": [
      "       6/20         0G      1.367      2.435      1.049       1.19         20        640: 100%|██████████| 38/38 [06:50<00:00, 10.81s/it]\n",
      "                 Class     Images  Instances      Box(P          R      mAP50  mAP50-95)     Mask(P          R      mAP50  mAP50-95): 100%|██████████| 4/4 [00:16<00:00,  4.07s/it]\n"
     ]
    },
    {
     "name": "stdout",
     "output_type": "stream",
     "text": [
      "                   all         54        422      0.628      0.563      0.639      0.411        0.6      0.541      0.606      0.285\n",
      "\n",
      "      Epoch    GPU_mem   box_loss   seg_loss   cls_loss   dfl_loss  Instances       Size\n"
     ]
    },
    {
     "name": "stderr",
     "output_type": "stream",
     "text": [
      "       7/20         0G      1.334      2.392      1.024      1.162         33        640: 100%|██████████| 38/38 [06:53<00:00, 10.89s/it]\n",
      "                 Class     Images  Instances      Box(P          R      mAP50  mAP50-95)     Mask(P          R      mAP50  mAP50-95): 100%|██████████| 4/4 [00:16<00:00,  4.10s/it]\n"
     ]
    },
    {
     "name": "stdout",
     "output_type": "stream",
     "text": [
      "                   all         54        422       0.65      0.524      0.607      0.388      0.616      0.499      0.575      0.285\n",
      "\n",
      "      Epoch    GPU_mem   box_loss   seg_loss   cls_loss   dfl_loss  Instances       Size\n"
     ]
    },
    {
     "name": "stderr",
     "output_type": "stream",
     "text": [
      "       8/20         0G      1.305      2.365     0.9772      1.138         28        640: 100%|██████████| 38/38 [06:51<00:00, 10.84s/it]\n",
      "                 Class     Images  Instances      Box(P          R      mAP50  mAP50-95)     Mask(P          R      mAP50  mAP50-95): 100%|██████████| 4/4 [00:15<00:00,  3.96s/it]\n"
     ]
    },
    {
     "name": "stdout",
     "output_type": "stream",
     "text": [
      "                   all         54        422      0.592      0.594        0.6      0.383      0.569      0.571      0.569      0.293\n",
      "\n",
      "      Epoch    GPU_mem   box_loss   seg_loss   cls_loss   dfl_loss  Instances       Size\n"
     ]
    },
    {
     "name": "stderr",
     "output_type": "stream",
     "text": [
      "       9/20         0G      1.238      2.252     0.9003      1.127         15        640: 100%|██████████| 38/38 [06:48<00:00, 10.74s/it]\n",
      "                 Class     Images  Instances      Box(P          R      mAP50  mAP50-95)     Mask(P          R      mAP50  mAP50-95): 100%|██████████| 4/4 [00:15<00:00,  3.91s/it]\n"
     ]
    },
    {
     "name": "stdout",
     "output_type": "stream",
     "text": [
      "                   all         54        422      0.656      0.628      0.646       0.42      0.635      0.605      0.614      0.311\n",
      "\n",
      "      Epoch    GPU_mem   box_loss   seg_loss   cls_loss   dfl_loss  Instances       Size\n"
     ]
    },
    {
     "name": "stderr",
     "output_type": "stream",
     "text": [
      "      10/20         0G      1.214      2.214     0.8928      1.118         34        640: 100%|██████████| 38/38 [06:45<00:00, 10.68s/it]\n",
      "                 Class     Images  Instances      Box(P          R      mAP50  mAP50-95)     Mask(P          R      mAP50  mAP50-95): 100%|██████████| 4/4 [00:15<00:00,  3.94s/it]\n"
     ]
    },
    {
     "name": "stdout",
     "output_type": "stream",
     "text": [
      "                   all         54        422      0.528      0.647      0.629      0.417      0.513      0.623      0.606      0.302\n",
      "Closing dataloader mosaic\n",
      "\u001b[34m\u001b[1malbumentations: \u001b[0mname 'check_version' is not defined\n",
      "\n",
      "      Epoch    GPU_mem   box_loss   seg_loss   cls_loss   dfl_loss  Instances       Size\n"
     ]
    },
    {
     "name": "stderr",
     "output_type": "stream",
     "text": [
      "      11/20         0G       1.21      2.187     0.8923      1.133          3        640: 100%|██████████| 38/38 [06:29<00:00, 10.24s/it]\n",
      "                 Class     Images  Instances      Box(P          R      mAP50  mAP50-95)     Mask(P          R      mAP50  mAP50-95): 100%|██████████| 4/4 [00:15<00:00,  3.93s/it]\n"
     ]
    },
    {
     "name": "stdout",
     "output_type": "stream",
     "text": [
      "                   all         54        422      0.688      0.617      0.659      0.433       0.67        0.6      0.636      0.322\n",
      "\n",
      "      Epoch    GPU_mem   box_loss   seg_loss   cls_loss   dfl_loss  Instances       Size\n"
     ]
    },
    {
     "name": "stderr",
     "output_type": "stream",
     "text": [
      "      12/20         0G      1.185      2.097     0.8367      1.152          6        640: 100%|██████████| 38/38 [06:29<00:00, 10.24s/it]\n",
      "                 Class     Images  Instances      Box(P          R      mAP50  mAP50-95)     Mask(P          R      mAP50  mAP50-95): 100%|██████████| 4/4 [00:16<00:00,  4.04s/it]\n"
     ]
    },
    {
     "name": "stdout",
     "output_type": "stream",
     "text": [
      "                   all         54        422      0.749      0.528      0.684      0.456      0.735      0.499      0.652      0.353\n",
      "\n",
      "      Epoch    GPU_mem   box_loss   seg_loss   cls_loss   dfl_loss  Instances       Size\n"
     ]
    },
    {
     "name": "stderr",
     "output_type": "stream",
     "text": [
      "      13/20         0G      1.148      2.036      0.785       1.12          3        640: 100%|██████████| 38/38 [06:35<00:00, 10.41s/it]\n",
      "                 Class     Images  Instances      Box(P          R      mAP50  mAP50-95)     Mask(P          R      mAP50  mAP50-95): 100%|██████████| 4/4 [00:16<00:00,  4.24s/it]\n"
     ]
    },
    {
     "name": "stdout",
     "output_type": "stream",
     "text": [
      "                   all         54        422      0.753      0.587      0.694      0.463      0.735      0.566       0.66      0.342\n",
      "\n",
      "      Epoch    GPU_mem   box_loss   seg_loss   cls_loss   dfl_loss  Instances       Size\n"
     ]
    },
    {
     "name": "stderr",
     "output_type": "stream",
     "text": [
      "      14/20         0G      1.126      2.009     0.7612      1.084          6        640: 100%|██████████| 38/38 [06:48<00:00, 10.75s/it]\n",
      "                 Class     Images  Instances      Box(P          R      mAP50  mAP50-95)     Mask(P          R      mAP50  mAP50-95): 100%|██████████| 4/4 [00:16<00:00,  4.05s/it]\n"
     ]
    },
    {
     "name": "stdout",
     "output_type": "stream",
     "text": [
      "                   all         54        422      0.753      0.568       0.69      0.463      0.741      0.549      0.663      0.345\n",
      "\n",
      "      Epoch    GPU_mem   box_loss   seg_loss   cls_loss   dfl_loss  Instances       Size\n"
     ]
    },
    {
     "name": "stderr",
     "output_type": "stream",
     "text": [
      "      15/20         0G      1.103      1.935     0.7397      1.074          3        640: 100%|██████████| 38/38 [06:54<00:00, 10.90s/it]\n",
      "                 Class     Images  Instances      Box(P          R      mAP50  mAP50-95)     Mask(P          R      mAP50  mAP50-95): 100%|██████████| 4/4 [00:16<00:00,  4.00s/it]\n"
     ]
    },
    {
     "name": "stdout",
     "output_type": "stream",
     "text": [
      "                   all         54        422       0.71      0.622      0.683      0.467      0.693      0.597      0.689      0.366\n",
      "\n",
      "      Epoch    GPU_mem   box_loss   seg_loss   cls_loss   dfl_loss  Instances       Size\n"
     ]
    },
    {
     "name": "stderr",
     "output_type": "stream",
     "text": [
      "      16/20         0G      1.081      1.969     0.7173      1.064          3        640: 100%|██████████| 38/38 [06:45<00:00, 10.67s/it]\n",
      "                 Class     Images  Instances      Box(P          R      mAP50  mAP50-95)     Mask(P          R      mAP50  mAP50-95): 100%|██████████| 4/4 [00:16<00:00,  4.06s/it]\n"
     ]
    },
    {
     "name": "stdout",
     "output_type": "stream",
     "text": [
      "                   all         54        422      0.724      0.612       0.68      0.456      0.713      0.587      0.663      0.352\n",
      "\n",
      "      Epoch    GPU_mem   box_loss   seg_loss   cls_loss   dfl_loss  Instances       Size\n"
     ]
    },
    {
     "name": "stderr",
     "output_type": "stream",
     "text": [
      "      17/20         0G      1.039      1.878     0.6815      1.042          3        640: 100%|██████████| 38/38 [06:50<00:00, 10.81s/it]\n",
      "                 Class     Images  Instances      Box(P          R      mAP50  mAP50-95)     Mask(P          R      mAP50  mAP50-95): 100%|██████████| 4/4 [00:16<00:00,  4.01s/it]\n"
     ]
    },
    {
     "name": "stdout",
     "output_type": "stream",
     "text": [
      "                   all         54        422      0.724      0.598      0.681      0.467      0.693      0.581      0.674      0.351\n",
      "\n",
      "      Epoch    GPU_mem   box_loss   seg_loss   cls_loss   dfl_loss  Instances       Size\n"
     ]
    },
    {
     "name": "stderr",
     "output_type": "stream",
     "text": [
      "      18/20         0G       1.03      1.847      0.671       1.05          3        640: 100%|██████████| 38/38 [06:55<00:00, 10.94s/it]\n",
      "                 Class     Images  Instances      Box(P          R      mAP50  mAP50-95)     Mask(P          R      mAP50  mAP50-95): 100%|██████████| 4/4 [00:16<00:00,  4.05s/it]\n"
     ]
    },
    {
     "name": "stdout",
     "output_type": "stream",
     "text": [
      "                   all         54        422      0.723      0.619       0.69      0.482      0.722      0.576      0.674       0.36\n",
      "\n",
      "      Epoch    GPU_mem   box_loss   seg_loss   cls_loss   dfl_loss  Instances       Size\n"
     ]
    },
    {
     "name": "stderr",
     "output_type": "stream",
     "text": [
      "      19/20         0G      1.018      1.851      0.653      1.029         14        640: 100%|██████████| 38/38 [06:47<00:00, 10.73s/it]\n",
      "                 Class     Images  Instances      Box(P          R      mAP50  mAP50-95)     Mask(P          R      mAP50  mAP50-95): 100%|██████████| 4/4 [00:16<00:00,  4.08s/it]\n"
     ]
    },
    {
     "name": "stdout",
     "output_type": "stream",
     "text": [
      "                   all         54        422      0.746      0.608      0.689      0.477       0.73      0.586      0.686      0.371\n",
      "\n",
      "      Epoch    GPU_mem   box_loss   seg_loss   cls_loss   dfl_loss  Instances       Size\n"
     ]
    },
    {
     "name": "stderr",
     "output_type": "stream",
     "text": [
      "      20/20         0G      1.008      1.798     0.6424       1.03          4        640: 100%|██████████| 38/38 [2:27:53<00:00, 233.51s/it]    \n",
      "                 Class     Images  Instances      Box(P          R      mAP50  mAP50-95)     Mask(P          R      mAP50  mAP50-95): 100%|██████████| 4/4 [00:15<00:00,  3.76s/it]\n"
     ]
    },
    {
     "name": "stdout",
     "output_type": "stream",
     "text": [
      "                   all         54        422      0.731      0.624      0.695      0.482      0.733      0.667      0.734      0.391\n",
      "\n",
      "20 epochs completed in 4.718 hours.\n",
      "Optimizer stripped from runs/segment/train4/weights/last.pt, 23.8MB\n",
      "Optimizer stripped from runs/segment/train4/weights/best.pt, 23.8MB\n",
      "\n",
      "Validating runs/segment/train4/weights/best.pt...\n",
      "Ultralytics YOLOv8.2.69 🚀 Python-3.10.12 torch-2.3.0+cu121 CPU (13th Gen Intel Core(TM) i7-1355U)\n",
      "YOLOv8s-seg summary (fused): 195 layers, 11,781,922 parameters, 0 gradients, 42.4 GFLOPs\n"
     ]
    },
    {
     "name": "stderr",
     "output_type": "stream",
     "text": [
      "                 Class     Images  Instances      Box(P          R      mAP50  mAP50-95)     Mask(P          R      mAP50  mAP50-95): 100%|██████████| 4/4 [00:14<00:00,  3.74s/it]\n"
     ]
    },
    {
     "name": "stdout",
     "output_type": "stream",
     "text": [
      "                   all         54        422      0.732      0.624      0.695       0.48      0.732      0.667      0.734       0.39\n",
      "                  Nest         54        158      0.949      0.816      0.901        0.6      0.878      0.797      0.848      0.461\n",
      "           Adult swift         43        105      0.921        0.8      0.833      0.626      0.861      0.771      0.834      0.483\n",
      "           Swift chick         38         66      0.875      0.818      0.864      0.523      0.774      0.788      0.849      0.436\n",
      "Fledgeling swift chick         18         85       0.92      0.811      0.909      0.646      0.877        0.8      0.876      0.515\n",
      "             Swift egg          3          6          0          0          0          0          0          0          0          0\n",
      "Adult swift with filled crop          2          2      0.725        0.5      0.662      0.485          1      0.848      0.995      0.448\n",
      "Speed: 0.9ms preprocess, 240.3ms inference, 0.0ms loss, 0.7ms postprocess per image\n",
      "Results saved to \u001b[1mruns/segment/train4\u001b[0m\n"
     ]
    },
    {
     "name": "stderr",
     "output_type": "stream",
     "text": [
      "WARNING:dvclive:A DVC repo is required to log artifacts. Skipping `log_artifact(runs/segment/train4/weights/best.pt)`.\n",
      "WARNING:dvclive:A DVC repo is required to log artifacts. Skipping `log_artifact(runs/segment/train4/weights/best.pt)`.\n"
     ]
    },
    {
     "ename": "AttributeError",
     "evalue": "'NoneType' object has no attribute 'add'",
     "output_type": "error",
     "traceback": [
      "\u001b[0;31m---------------------------------------------------------------------------\u001b[0m",
      "\u001b[0;31mAttributeError\u001b[0m                            Traceback (most recent call last)",
      "Cell \u001b[0;32mIn[6], line 3\u001b[0m\n\u001b[1;32m      1\u001b[0m model \u001b[38;5;241m=\u001b[39m YOLO(\u001b[38;5;124m\"\u001b[39m\u001b[38;5;124myolov8s-seg.pt\u001b[39m\u001b[38;5;124m\"\u001b[39m)\n\u001b[1;32m      2\u001b[0m \u001b[38;5;66;03m#model = YOLO(\"runs/segment/train4/weights/best.pt\")\u001b[39;00m\n\u001b[0;32m----> 3\u001b[0m results \u001b[38;5;241m=\u001b[39m \u001b[43mmodel\u001b[49m\u001b[38;5;241;43m.\u001b[39;49m\u001b[43mtrain\u001b[49m\u001b[43m(\u001b[49m\u001b[43mdata\u001b[49m\u001b[38;5;241;43m=\u001b[39;49m\u001b[38;5;124;43m\"\u001b[39;49m\u001b[38;5;124;43mframe_labels_yolo/dataset.yaml\u001b[39;49m\u001b[38;5;124;43m\"\u001b[39;49m\u001b[43m,\u001b[49m\u001b[43m \u001b[49m\u001b[43mepochs\u001b[49m\u001b[38;5;241;43m=\u001b[39;49m\u001b[38;5;241;43m20\u001b[39;49m\u001b[43m,\u001b[49m\u001b[43m \u001b[49m\u001b[43mimgsz\u001b[49m\u001b[38;5;241;43m=\u001b[39;49m\u001b[38;5;241;43m640\u001b[39;49m\u001b[43m,\u001b[49m\u001b[43m \u001b[49m\u001b[43mbatch\u001b[49m\u001b[38;5;241;43m=\u001b[39;49m\u001b[38;5;241;43m8\u001b[39;49m\u001b[43m,\u001b[49m\u001b[43m \u001b[49m\u001b[43mlr0\u001b[49m\u001b[38;5;241;43m=\u001b[39;49m\u001b[38;5;241;43m0.0001\u001b[39;49m\u001b[43m)\u001b[49m\n",
      "File \u001b[0;32m~/.local/lib/python3.10/site-packages/ultralytics/engine/model.py:811\u001b[0m, in \u001b[0;36mModel.train\u001b[0;34m(self, trainer, **kwargs)\u001b[0m\n\u001b[1;32m    808\u001b[0m     \u001b[38;5;28mself\u001b[39m\u001b[38;5;241m.\u001b[39mmodel \u001b[38;5;241m=\u001b[39m \u001b[38;5;28mself\u001b[39m\u001b[38;5;241m.\u001b[39mtrainer\u001b[38;5;241m.\u001b[39mmodel\n\u001b[1;32m    810\u001b[0m \u001b[38;5;28mself\u001b[39m\u001b[38;5;241m.\u001b[39mtrainer\u001b[38;5;241m.\u001b[39mhub_session \u001b[38;5;241m=\u001b[39m \u001b[38;5;28mself\u001b[39m\u001b[38;5;241m.\u001b[39msession  \u001b[38;5;66;03m# attach optional HUB session\u001b[39;00m\n\u001b[0;32m--> 811\u001b[0m \u001b[38;5;28;43mself\u001b[39;49m\u001b[38;5;241;43m.\u001b[39;49m\u001b[43mtrainer\u001b[49m\u001b[38;5;241;43m.\u001b[39;49m\u001b[43mtrain\u001b[49m\u001b[43m(\u001b[49m\u001b[43m)\u001b[49m\n\u001b[1;32m    812\u001b[0m \u001b[38;5;66;03m# Update model and cfg after training\u001b[39;00m\n\u001b[1;32m    813\u001b[0m \u001b[38;5;28;01mif\u001b[39;00m RANK \u001b[38;5;129;01min\u001b[39;00m {\u001b[38;5;241m-\u001b[39m\u001b[38;5;241m1\u001b[39m, \u001b[38;5;241m0\u001b[39m}:\n",
      "File \u001b[0;32m~/.local/lib/python3.10/site-packages/ultralytics/engine/trainer.py:205\u001b[0m, in \u001b[0;36mBaseTrainer.train\u001b[0;34m(self)\u001b[0m\n\u001b[1;32m    202\u001b[0m         ddp_cleanup(\u001b[38;5;28mself\u001b[39m, \u001b[38;5;28mstr\u001b[39m(file))\n\u001b[1;32m    204\u001b[0m \u001b[38;5;28;01melse\u001b[39;00m:\n\u001b[0;32m--> 205\u001b[0m     \u001b[38;5;28;43mself\u001b[39;49m\u001b[38;5;241;43m.\u001b[39;49m\u001b[43m_do_train\u001b[49m\u001b[43m(\u001b[49m\u001b[43mworld_size\u001b[49m\u001b[43m)\u001b[49m\n",
      "File \u001b[0;32m~/.local/lib/python3.10/site-packages/ultralytics/engine/trainer.py:473\u001b[0m, in \u001b[0;36mBaseTrainer._do_train\u001b[0;34m(self, world_size)\u001b[0m\n\u001b[1;32m    471\u001b[0m     \u001b[38;5;28;01mif\u001b[39;00m \u001b[38;5;28mself\u001b[39m\u001b[38;5;241m.\u001b[39margs\u001b[38;5;241m.\u001b[39mplots:\n\u001b[1;32m    472\u001b[0m         \u001b[38;5;28mself\u001b[39m\u001b[38;5;241m.\u001b[39mplot_metrics()\n\u001b[0;32m--> 473\u001b[0m     \u001b[38;5;28;43mself\u001b[39;49m\u001b[38;5;241;43m.\u001b[39;49m\u001b[43mrun_callbacks\u001b[49m\u001b[43m(\u001b[49m\u001b[38;5;124;43m\"\u001b[39;49m\u001b[38;5;124;43mon_train_end\u001b[39;49m\u001b[38;5;124;43m\"\u001b[39;49m\u001b[43m)\u001b[49m\n\u001b[1;32m    474\u001b[0m gc\u001b[38;5;241m.\u001b[39mcollect()\n\u001b[1;32m    475\u001b[0m torch\u001b[38;5;241m.\u001b[39mcuda\u001b[38;5;241m.\u001b[39mempty_cache()\n",
      "File \u001b[0;32m~/.local/lib/python3.10/site-packages/ultralytics/engine/trainer.py:168\u001b[0m, in \u001b[0;36mBaseTrainer.run_callbacks\u001b[0;34m(self, event)\u001b[0m\n\u001b[1;32m    166\u001b[0m \u001b[38;5;250m\u001b[39m\u001b[38;5;124;03m\"\"\"Run all existing callbacks associated with a particular event.\"\"\"\u001b[39;00m\n\u001b[1;32m    167\u001b[0m \u001b[38;5;28;01mfor\u001b[39;00m callback \u001b[38;5;129;01min\u001b[39;00m \u001b[38;5;28mself\u001b[39m\u001b[38;5;241m.\u001b[39mcallbacks\u001b[38;5;241m.\u001b[39mget(event, []):\n\u001b[0;32m--> 168\u001b[0m     \u001b[43mcallback\u001b[49m\u001b[43m(\u001b[49m\u001b[38;5;28;43mself\u001b[39;49m\u001b[43m)\u001b[49m\n",
      "File \u001b[0;32m~/.local/lib/python3.10/site-packages/ultralytics/utils/callbacks/dvc.py:131\u001b[0m, in \u001b[0;36mon_train_end\u001b[0;34m(trainer)\u001b[0m\n\u001b[1;32m    128\u001b[0m \u001b[38;5;28;01mif\u001b[39;00m trainer\u001b[38;5;241m.\u001b[39mbest\u001b[38;5;241m.\u001b[39mexists():\n\u001b[1;32m    129\u001b[0m     live\u001b[38;5;241m.\u001b[39mlog_artifact(trainer\u001b[38;5;241m.\u001b[39mbest, copy\u001b[38;5;241m=\u001b[39m\u001b[38;5;28;01mTrue\u001b[39;00m, \u001b[38;5;28mtype\u001b[39m\u001b[38;5;241m=\u001b[39m\u001b[38;5;124m\"\u001b[39m\u001b[38;5;124mmodel\u001b[39m\u001b[38;5;124m\"\u001b[39m)\n\u001b[0;32m--> 131\u001b[0m \u001b[43mlive\u001b[49m\u001b[38;5;241;43m.\u001b[39;49m\u001b[43mend\u001b[49m\u001b[43m(\u001b[49m\u001b[43m)\u001b[49m\n",
      "File \u001b[0;32m~/.local/lib/python3.10/site-packages/dvclive/live.py:931\u001b[0m, in \u001b[0;36mLive.end\u001b[0;34m(self)\u001b[0m\n\u001b[1;32m    929\u001b[0m \u001b[38;5;28;01mif\u001b[39;00m \u001b[38;5;28mself\u001b[39m\u001b[38;5;241m.\u001b[39m_images \u001b[38;5;129;01mand\u001b[39;00m \u001b[38;5;28mself\u001b[39m\u001b[38;5;241m.\u001b[39m_cache_images:\n\u001b[1;32m    930\u001b[0m     images_path \u001b[38;5;241m=\u001b[39m Path(\u001b[38;5;28mself\u001b[39m\u001b[38;5;241m.\u001b[39mplots_dir) \u001b[38;5;241m/\u001b[39m Image\u001b[38;5;241m.\u001b[39msubfolder\n\u001b[0;32m--> 931\u001b[0m     \u001b[38;5;28;43mself\u001b[39;49m\u001b[38;5;241;43m.\u001b[39;49m\u001b[43mcache\u001b[49m\u001b[43m(\u001b[49m\u001b[43mimages_path\u001b[49m\u001b[43m)\u001b[49m\n\u001b[1;32m    933\u001b[0m \u001b[38;5;66;03m# If next_step called before end, don't want to update step number\u001b[39;00m\n\u001b[1;32m    934\u001b[0m \u001b[38;5;28;01mif\u001b[39;00m \u001b[38;5;124m\"\u001b[39m\u001b[38;5;124mstep\u001b[39m\u001b[38;5;124m\"\u001b[39m \u001b[38;5;129;01min\u001b[39;00m \u001b[38;5;28mself\u001b[39m\u001b[38;5;241m.\u001b[39msummary:\n",
      "File \u001b[0;32m~/.local/lib/python3.10/site-packages/dvclive/utils.py:182\u001b[0m, in \u001b[0;36mcatch_and_warn.<locals>.decorator.<locals>.wrapper\u001b[0;34m(*args, **kwargs)\u001b[0m\n\u001b[1;32m    180\u001b[0m \u001b[38;5;28;01mdef\u001b[39;00m \u001b[38;5;21mwrapper\u001b[39m(\u001b[38;5;241m*\u001b[39margs, \u001b[38;5;241m*\u001b[39m\u001b[38;5;241m*\u001b[39mkwargs):\n\u001b[1;32m    181\u001b[0m     \u001b[38;5;28;01mtry\u001b[39;00m:\n\u001b[0;32m--> 182\u001b[0m         \u001b[38;5;28;01mreturn\u001b[39;00m \u001b[43mfunc\u001b[49m\u001b[43m(\u001b[49m\u001b[38;5;241;43m*\u001b[39;49m\u001b[43margs\u001b[49m\u001b[43m,\u001b[49m\u001b[43m \u001b[49m\u001b[38;5;241;43m*\u001b[39;49m\u001b[38;5;241;43m*\u001b[39;49m\u001b[43mkwargs\u001b[49m\u001b[43m)\u001b[49m\n\u001b[1;32m    183\u001b[0m     \u001b[38;5;28;01mexcept\u001b[39;00m exception \u001b[38;5;28;01mas\u001b[39;00m e:\n\u001b[1;32m    184\u001b[0m         logger\u001b[38;5;241m.\u001b[39mwarning(\u001b[38;5;124mf\u001b[39m\u001b[38;5;124m\"\u001b[39m\u001b[38;5;124mError in \u001b[39m\u001b[38;5;132;01m{\u001b[39;00mfunc\u001b[38;5;241m.\u001b[39m\u001b[38;5;18m__name__\u001b[39m\u001b[38;5;132;01m}\u001b[39;00m\u001b[38;5;124m: \u001b[39m\u001b[38;5;132;01m{\u001b[39;00me\u001b[38;5;132;01m}\u001b[39;00m\u001b[38;5;124m\"\u001b[39m)\n",
      "File \u001b[0;32m~/.local/lib/python3.10/site-packages/dvclive/live.py:841\u001b[0m, in \u001b[0;36mLive.cache\u001b[0;34m(self, path)\u001b[0m\n\u001b[1;32m    835\u001b[0m     \u001b[38;5;28;01melse\u001b[39;00m:\n\u001b[1;32m    836\u001b[0m         logger\u001b[38;5;241m.\u001b[39mwarning(\n\u001b[1;32m    837\u001b[0m             \u001b[38;5;124mf\u001b[39m\u001b[38;5;124m\"\u001b[39m\u001b[38;5;124mTo track \u001b[39m\u001b[38;5;124m'\u001b[39m\u001b[38;5;132;01m{\u001b[39;00mpath\u001b[38;5;132;01m}\u001b[39;00m\u001b[38;5;124m'\u001b[39m\u001b[38;5;124m automatically in the DVC pipeline, \u001b[39m\u001b[38;5;124m\"\u001b[39m\n\u001b[1;32m    838\u001b[0m             \u001b[38;5;124m\"\u001b[39m\u001b[38;5;124madd it as an output of the pipeline stage.\u001b[39m\u001b[38;5;124m\"\u001b[39m\n\u001b[1;32m    839\u001b[0m         )\n\u001b[0;32m--> 841\u001b[0m stage \u001b[38;5;241m=\u001b[39m \u001b[38;5;28;43mself\u001b[39;49m\u001b[38;5;241;43m.\u001b[39;49m\u001b[43m_dvc_repo\u001b[49m\u001b[38;5;241;43m.\u001b[39;49m\u001b[43madd\u001b[49m(\u001b[38;5;28mstr\u001b[39m(path))\n\u001b[1;32m    843\u001b[0m dvc_file \u001b[38;5;241m=\u001b[39m stage[\u001b[38;5;241m0\u001b[39m]\u001b[38;5;241m.\u001b[39maddressing\n\u001b[1;32m    845\u001b[0m \u001b[38;5;28;01mif\u001b[39;00m \u001b[38;5;28mself\u001b[39m\u001b[38;5;241m.\u001b[39m_save_dvc_exp:\n",
      "\u001b[0;31mAttributeError\u001b[0m: 'NoneType' object has no attribute 'add'"
     ]
    }
   ],
   "source": [
    "model = YOLO(\"yolov8s-seg.pt\")\n",
    "#model = YOLO(\"runs/segment/train4/weights/best.pt\")\n",
    "results = model.train(data=\"frame_labels_yolo/dataset.yaml\", epochs=20, imgsz=640, batch=8, lr0=0.0001)"
   ]
  },
  {
   "cell_type": "code",
   "execution_count": 1,
   "id": "a0bc195a",
   "metadata": {},
   "outputs": [
    {
     "name": "stderr",
     "output_type": "stream",
     "text": [
      "/home/jorge/.local/lib/python3.10/site-packages/matplotlib/projections/__init__.py:63: UserWarning: Unable to import Axes3D. This may be due to multiple versions of Matplotlib being installed (e.g. as a system package and as a pip package). As a result, the 3D projection is not available.\n",
      "  warnings.warn(\"Unable to import Axes3D. This may be due to multiple versions of \"\n"
     ]
    },
    {
     "name": "stdout",
     "output_type": "stream",
     "text": [
      "Performing prediction on 6 slices.\n"
     ]
    },
    {
     "data": {
      "image/png": "[encoded data removed]",
      "text/plain": [
       "<Figure size 640x480 with 1 Axes>"
      ]
     },
     "metadata": {},
     "output_type": "display_data"
    },
    {
     "name": "stdout",
     "output_type": "stream",
     "text": [
      "Performing prediction on 6 slices.\n"
     ]
    },
    {
     "ename": "error",
     "evalue": "OpenCV(4.10.0) /io/opencv/modules/video/src/lkpyramid.cpp:1394: error: (-215:Assertion failed) prevPyr[level * lvlStep1].size() == nextPyr[level * lvlStep2].size() in function 'calc'\n",
     "output_type": "error",
     "traceback": [
      "\u001b[0;31m---------------------------------------------------------------------------\u001b[0m",
      "\u001b[0;31merror\u001b[0m                                     Traceback (most recent call last)",
      "Cell \u001b[0;32mIn[1], line 5\u001b[0m\n\u001b[1;32m      1\u001b[0m \u001b[38;5;28;01mfrom\u001b[39;00m \u001b[38;5;21;01msahi_tracking\u001b[39;00m \u001b[38;5;28;01mimport\u001b[39;00m sahi_run_segment\n\u001b[1;32m      3\u001b[0m VIDEO_PATH \u001b[38;5;241m=\u001b[39m \u001b[38;5;124m\"\u001b[39m\u001b[38;5;124mLabeled-videos/05110122.MP4\u001b[39m\u001b[38;5;124m\"\u001b[39m\n\u001b[0;32m----> 5\u001b[0m \u001b[43msahi_run_segment\u001b[49m\u001b[43m(\u001b[49m\u001b[38;5;124;43m\"\u001b[39;49m\u001b[38;5;124;43mruns/segment/train4/weights/best.pt\u001b[39;49m\u001b[38;5;124;43m\"\u001b[39;49m\u001b[43m,\u001b[49m\u001b[43m \u001b[49m\u001b[43mVIDEO_PATH\u001b[49m\u001b[43m,\u001b[49m\u001b[43m \u001b[49m\u001b[38;5;28;43;01mTrue\u001b[39;49;00m\u001b[43m,\u001b[49m\u001b[43m \u001b[49m\u001b[38;5;28;43;01mTrue\u001b[39;49;00m\u001b[43m,\u001b[49m\u001b[43m \u001b[49m\u001b[38;5;28;43;01mFalse\u001b[39;49;00m\u001b[43m,\u001b[49m\u001b[43m \u001b[49m\u001b[43mtrack\u001b[49m\u001b[38;5;241;43m=\u001b[39;49m\u001b[38;5;28;43;01mTrue\u001b[39;49;00m\u001b[43m)\u001b[49m\n",
      "File \u001b[0;32m~/Documents/Swifts.Research.Project/sahi_tracking.py:329\u001b[0m, in \u001b[0;36msahi_run_segment\u001b[0;34m(weights, source, view_img, save_img, exist_ok, out_folder, track)\u001b[0m\n\u001b[1;32m    326\u001b[0m \u001b[38;5;28;01mif\u001b[39;00m \u001b[38;5;129;01mnot\u001b[39;00m success:\n\u001b[1;32m    327\u001b[0m     \u001b[38;5;28;01mbreak\u001b[39;00m\n\u001b[0;32m--> 329\u001b[0m results \u001b[38;5;241m=\u001b[39m \u001b[43mget_sliced_prediction\u001b[49m\u001b[43m(\u001b[49m\n\u001b[1;32m    330\u001b[0m \u001b[43m    \u001b[49m\u001b[43mframe\u001b[49m\u001b[43m,\u001b[49m\u001b[43m \u001b[49m\u001b[43mdetection_model\u001b[49m\u001b[43m,\u001b[49m\u001b[43m \u001b[49m\u001b[43mslice_height\u001b[49m\u001b[38;5;241;43m=\u001b[39;49m\u001b[38;5;241;43m512\u001b[39;49m\u001b[43m,\u001b[49m\u001b[43m \u001b[49m\u001b[43mslice_width\u001b[49m\u001b[38;5;241;43m=\u001b[39;49m\u001b[38;5;241;43m512\u001b[39;49m\u001b[43m,\u001b[49m\u001b[43m \u001b[49m\u001b[43moverlap_height_ratio\u001b[49m\u001b[38;5;241;43m=\u001b[39;49m\u001b[38;5;241;43m0.2\u001b[39;49m\u001b[43m,\u001b[49m\u001b[43m \u001b[49m\u001b[43moverlap_width_ratio\u001b[49m\u001b[38;5;241;43m=\u001b[39;49m\u001b[38;5;241;43m0.2\u001b[39;49m\n\u001b[1;32m    331\u001b[0m \u001b[43m\u001b[49m\u001b[43m)\u001b[49m\n\u001b[1;32m    332\u001b[0m object_prediction_list \u001b[38;5;241m=\u001b[39m results\u001b[38;5;241m.\u001b[39mobject_prediction_list\n\u001b[1;32m    334\u001b[0m boxes_list \u001b[38;5;241m=\u001b[39m []\n",
      "File \u001b[0;32m~/.local/lib/python3.10/site-packages/sahi/predict.py:249\u001b[0m, in \u001b[0;36mget_sliced_prediction\u001b[0;34m(image, detection_model, slice_height, slice_width, overlap_height_ratio, overlap_width_ratio, perform_standard_pred, postprocess_type, postprocess_match_metric, postprocess_match_threshold, postprocess_class_agnostic, verbose, merge_buffer_length, auto_slice_resolution, slice_export_prefix, slice_dir)\u001b[0m\n\u001b[1;32m    247\u001b[0m     shift_amount_list\u001b[38;5;241m.\u001b[39mappend(slice_image_result\u001b[38;5;241m.\u001b[39mstarting_pixels[group_ind \u001b[38;5;241m*\u001b[39m num_batch \u001b[38;5;241m+\u001b[39m image_ind])\n\u001b[1;32m    248\u001b[0m \u001b[38;5;66;03m# perform batch prediction\u001b[39;00m\n\u001b[0;32m--> 249\u001b[0m prediction_result \u001b[38;5;241m=\u001b[39m \u001b[43mget_prediction\u001b[49m\u001b[43m(\u001b[49m\n\u001b[1;32m    250\u001b[0m \u001b[43m    \u001b[49m\u001b[43mimage\u001b[49m\u001b[38;5;241;43m=\u001b[39;49m\u001b[43mimage_list\u001b[49m\u001b[43m[\u001b[49m\u001b[38;5;241;43m0\u001b[39;49m\u001b[43m]\u001b[49m\u001b[43m,\u001b[49m\n\u001b[1;32m    251\u001b[0m \u001b[43m    \u001b[49m\u001b[43mdetection_model\u001b[49m\u001b[38;5;241;43m=\u001b[39;49m\u001b[43mdetection_model\u001b[49m\u001b[43m,\u001b[49m\n\u001b[1;32m    252\u001b[0m \u001b[43m    \u001b[49m\u001b[43mshift_amount\u001b[49m\u001b[38;5;241;43m=\u001b[39;49m\u001b[43mshift_amount_list\u001b[49m\u001b[43m[\u001b[49m\u001b[38;5;241;43m0\u001b[39;49m\u001b[43m]\u001b[49m\u001b[43m,\u001b[49m\n\u001b[1;32m    253\u001b[0m \u001b[43m    \u001b[49m\u001b[43mfull_shape\u001b[49m\u001b[38;5;241;43m=\u001b[39;49m\u001b[43m[\u001b[49m\n\u001b[1;32m    254\u001b[0m \u001b[43m        \u001b[49m\u001b[43mslice_image_result\u001b[49m\u001b[38;5;241;43m.\u001b[39;49m\u001b[43moriginal_image_height\u001b[49m\u001b[43m,\u001b[49m\n\u001b[1;32m    255\u001b[0m \u001b[43m        \u001b[49m\u001b[43mslice_image_result\u001b[49m\u001b[38;5;241;43m.\u001b[39;49m\u001b[43moriginal_image_width\u001b[49m\u001b[43m,\u001b[49m\n\u001b[1;32m    256\u001b[0m \u001b[43m    \u001b[49m\u001b[43m]\u001b[49m\u001b[43m,\u001b[49m\n\u001b[1;32m    257\u001b[0m \u001b[43m\u001b[49m\u001b[43m)\u001b[49m\n\u001b[1;32m    258\u001b[0m \u001b[38;5;66;03m# convert sliced predictions to full predictions\u001b[39;00m\n\u001b[1;32m    259\u001b[0m \u001b[38;5;28;01mfor\u001b[39;00m object_prediction \u001b[38;5;129;01min\u001b[39;00m prediction_result\u001b[38;5;241m.\u001b[39mobject_prediction_list:\n",
      "File \u001b[0;32m~/.local/lib/python3.10/site-packages/sahi/predict.py:93\u001b[0m, in \u001b[0;36mget_prediction\u001b[0;34m(image, detection_model, shift_amount, full_shape, postprocess, verbose)\u001b[0m\n\u001b[1;32m     91\u001b[0m \u001b[38;5;66;03m# get prediction\u001b[39;00m\n\u001b[1;32m     92\u001b[0m time_start \u001b[38;5;241m=\u001b[39m time\u001b[38;5;241m.\u001b[39mtime()\n\u001b[0;32m---> 93\u001b[0m \u001b[43mdetection_model\u001b[49m\u001b[38;5;241;43m.\u001b[39;49m\u001b[43mperform_inference\u001b[49m\u001b[43m(\u001b[49m\u001b[43mnp\u001b[49m\u001b[38;5;241;43m.\u001b[39;49m\u001b[43mascontiguousarray\u001b[49m\u001b[43m(\u001b[49m\u001b[43mimage_as_pil\u001b[49m\u001b[43m)\u001b[49m\u001b[43m)\u001b[49m\n\u001b[1;32m     94\u001b[0m time_end \u001b[38;5;241m=\u001b[39m time\u001b[38;5;241m.\u001b[39mtime() \u001b[38;5;241m-\u001b[39m time_start\n\u001b[1;32m     95\u001b[0m durations_in_seconds[\u001b[38;5;124m\"\u001b[39m\u001b[38;5;124mprediction\u001b[39m\u001b[38;5;124m\"\u001b[39m] \u001b[38;5;241m=\u001b[39m time_end\n",
      "File \u001b[0;32m~/Documents/Swifts.Research.Project/sahi_tracking.py:49\u001b[0m, in \u001b[0;36mperform_inference_tracking\u001b[0;34m(self, image)\u001b[0m\n\u001b[1;32m     47\u001b[0m     prediction_result \u001b[38;5;241m=\u001b[39m \u001b[38;5;28mself\u001b[39m\u001b[38;5;241m.\u001b[39mmodel\u001b[38;5;241m.\u001b[39mtrack(image[:, :, ::\u001b[38;5;241m-\u001b[39m\u001b[38;5;241m1\u001b[39m], \u001b[38;5;241m*\u001b[39m\u001b[38;5;241m*\u001b[39mkwargs, persist\u001b[38;5;241m=\u001b[39m\u001b[38;5;28;01mTrue\u001b[39;00m)  \u001b[38;5;66;03m# YOLOv8 expects numpy arrays to have BGR\u001b[39;00m\n\u001b[1;32m     48\u001b[0m \u001b[38;5;28;01melse\u001b[39;00m:\n\u001b[0;32m---> 49\u001b[0m     prediction_result \u001b[38;5;241m=\u001b[39m \u001b[38;5;28;43mself\u001b[39;49m\u001b[38;5;241;43m.\u001b[39;49m\u001b[43mmodel\u001b[49m\u001b[43m(\u001b[49m\u001b[43mimage\u001b[49m\u001b[43m[\u001b[49m\u001b[43m:\u001b[49m\u001b[43m,\u001b[49m\u001b[43m \u001b[49m\u001b[43m:\u001b[49m\u001b[43m,\u001b[49m\u001b[43m \u001b[49m\u001b[43m:\u001b[49m\u001b[43m:\u001b[49m\u001b[38;5;241;43m-\u001b[39;49m\u001b[38;5;241;43m1\u001b[39;49m\u001b[43m]\u001b[49m\u001b[43m,\u001b[49m\u001b[43m \u001b[49m\u001b[38;5;241;43m*\u001b[39;49m\u001b[38;5;241;43m*\u001b[39;49m\u001b[43mkwargs\u001b[49m\u001b[43m)\u001b[49m  \u001b[38;5;66;03m# YOLOv8 expects numpy arrays to have BGR\u001b[39;00m\n\u001b[1;32m     51\u001b[0m \u001b[38;5;28mself\u001b[39m\u001b[38;5;241m.\u001b[39m_results \u001b[38;5;241m=\u001b[39m prediction_result\n\u001b[1;32m     52\u001b[0m \u001b[38;5;28mself\u001b[39m\u001b[38;5;241m.\u001b[39m_original_shape \u001b[38;5;241m=\u001b[39m image\u001b[38;5;241m.\u001b[39mshape\n",
      "File \u001b[0;32m~/.local/lib/python3.10/site-packages/ultralytics/engine/model.py:174\u001b[0m, in \u001b[0;36mModel.__call__\u001b[0;34m(self, source, stream, **kwargs)\u001b[0m\n\u001b[1;32m    145\u001b[0m \u001b[38;5;28;01mdef\u001b[39;00m \u001b[38;5;21m__call__\u001b[39m(\n\u001b[1;32m    146\u001b[0m     \u001b[38;5;28mself\u001b[39m,\n\u001b[1;32m    147\u001b[0m     source: Union[\u001b[38;5;28mstr\u001b[39m, Path, \u001b[38;5;28mint\u001b[39m, Image\u001b[38;5;241m.\u001b[39mImage, \u001b[38;5;28mlist\u001b[39m, \u001b[38;5;28mtuple\u001b[39m, np\u001b[38;5;241m.\u001b[39mndarray, torch\u001b[38;5;241m.\u001b[39mTensor] \u001b[38;5;241m=\u001b[39m \u001b[38;5;28;01mNone\u001b[39;00m,\n\u001b[1;32m    148\u001b[0m     stream: \u001b[38;5;28mbool\u001b[39m \u001b[38;5;241m=\u001b[39m \u001b[38;5;28;01mFalse\u001b[39;00m,\n\u001b[1;32m    149\u001b[0m     \u001b[38;5;241m*\u001b[39m\u001b[38;5;241m*\u001b[39mkwargs,\n\u001b[1;32m    150\u001b[0m ) \u001b[38;5;241m-\u001b[39m\u001b[38;5;241m>\u001b[39m \u001b[38;5;28mlist\u001b[39m:\n\u001b[1;32m    151\u001b[0m \u001b[38;5;250m    \u001b[39m\u001b[38;5;124;03m\"\"\"\u001b[39;00m\n\u001b[1;32m    152\u001b[0m \u001b[38;5;124;03m    Alias for the predict method, enabling the model instance to be callable for predictions.\u001b[39;00m\n\u001b[1;32m    153\u001b[0m \n\u001b[0;32m   (...)\u001b[0m\n\u001b[1;32m    172\u001b[0m \u001b[38;5;124;03m        ...     print(f\"Detected {len(r)} objects in image\")\u001b[39;00m\n\u001b[1;32m    173\u001b[0m \u001b[38;5;124;03m    \"\"\"\u001b[39;00m\n\u001b[0;32m--> 174\u001b[0m     \u001b[38;5;28;01mreturn\u001b[39;00m \u001b[38;5;28;43mself\u001b[39;49m\u001b[38;5;241;43m.\u001b[39;49m\u001b[43mpredict\u001b[49m\u001b[43m(\u001b[49m\u001b[43msource\u001b[49m\u001b[43m,\u001b[49m\u001b[43m \u001b[49m\u001b[43mstream\u001b[49m\u001b[43m,\u001b[49m\u001b[43m \u001b[49m\u001b[38;5;241;43m*\u001b[39;49m\u001b[38;5;241;43m*\u001b[39;49m\u001b[43mkwargs\u001b[49m\u001b[43m)\u001b[49m\n",
      "File \u001b[0;32m~/.local/lib/python3.10/site-packages/ultralytics/engine/model.py:565\u001b[0m, in \u001b[0;36mModel.predict\u001b[0;34m(self, source, stream, predictor, **kwargs)\u001b[0m\n\u001b[1;32m    563\u001b[0m \u001b[38;5;28;01mif\u001b[39;00m prompts \u001b[38;5;129;01mand\u001b[39;00m \u001b[38;5;28mhasattr\u001b[39m(\u001b[38;5;28mself\u001b[39m\u001b[38;5;241m.\u001b[39mpredictor, \u001b[38;5;124m\"\u001b[39m\u001b[38;5;124mset_prompts\u001b[39m\u001b[38;5;124m\"\u001b[39m):  \u001b[38;5;66;03m# for SAM-type models\u001b[39;00m\n\u001b[1;32m    564\u001b[0m     \u001b[38;5;28mself\u001b[39m\u001b[38;5;241m.\u001b[39mpredictor\u001b[38;5;241m.\u001b[39mset_prompts(prompts)\n\u001b[0;32m--> 565\u001b[0m \u001b[38;5;28;01mreturn\u001b[39;00m \u001b[38;5;28mself\u001b[39m\u001b[38;5;241m.\u001b[39mpredictor\u001b[38;5;241m.\u001b[39mpredict_cli(source\u001b[38;5;241m=\u001b[39msource) \u001b[38;5;28;01mif\u001b[39;00m is_cli \u001b[38;5;28;01melse\u001b[39;00m \u001b[38;5;28;43mself\u001b[39;49m\u001b[38;5;241;43m.\u001b[39;49m\u001b[43mpredictor\u001b[49m\u001b[43m(\u001b[49m\u001b[43msource\u001b[49m\u001b[38;5;241;43m=\u001b[39;49m\u001b[43msource\u001b[49m\u001b[43m,\u001b[49m\u001b[43m \u001b[49m\u001b[43mstream\u001b[49m\u001b[38;5;241;43m=\u001b[39;49m\u001b[43mstream\u001b[49m\u001b[43m)\u001b[49m\n",
      "File \u001b[0;32m~/.local/lib/python3.10/site-packages/ultralytics/engine/predictor.py:168\u001b[0m, in \u001b[0;36mBasePredictor.__call__\u001b[0;34m(self, source, model, stream, *args, **kwargs)\u001b[0m\n\u001b[1;32m    166\u001b[0m     \u001b[38;5;28;01mreturn\u001b[39;00m \u001b[38;5;28mself\u001b[39m\u001b[38;5;241m.\u001b[39mstream_inference(source, model, \u001b[38;5;241m*\u001b[39margs, \u001b[38;5;241m*\u001b[39m\u001b[38;5;241m*\u001b[39mkwargs)\n\u001b[1;32m    167\u001b[0m \u001b[38;5;28;01melse\u001b[39;00m:\n\u001b[0;32m--> 168\u001b[0m     \u001b[38;5;28;01mreturn\u001b[39;00m \u001b[38;5;28;43mlist\u001b[39;49m\u001b[43m(\u001b[49m\u001b[38;5;28;43mself\u001b[39;49m\u001b[38;5;241;43m.\u001b[39;49m\u001b[43mstream_inference\u001b[49m\u001b[43m(\u001b[49m\u001b[43msource\u001b[49m\u001b[43m,\u001b[49m\u001b[43m \u001b[49m\u001b[43mmodel\u001b[49m\u001b[43m,\u001b[49m\u001b[43m \u001b[49m\u001b[38;5;241;43m*\u001b[39;49m\u001b[43margs\u001b[49m\u001b[43m,\u001b[49m\u001b[43m \u001b[49m\u001b[38;5;241;43m*\u001b[39;49m\u001b[38;5;241;43m*\u001b[39;49m\u001b[43mkwargs\u001b[49m\u001b[43m)\u001b[49m\u001b[43m)\u001b[49m\n",
      "File \u001b[0;32m~/.local/lib/python3.10/site-packages/torch/utils/_contextlib.py:35\u001b[0m, in \u001b[0;36m_wrap_generator.<locals>.generator_context\u001b[0;34m(*args, **kwargs)\u001b[0m\n\u001b[1;32m     32\u001b[0m \u001b[38;5;28;01mtry\u001b[39;00m:\n\u001b[1;32m     33\u001b[0m     \u001b[38;5;66;03m# Issuing `None` to a generator fires it up\u001b[39;00m\n\u001b[1;32m     34\u001b[0m     \u001b[38;5;28;01mwith\u001b[39;00m ctx_factory():\n\u001b[0;32m---> 35\u001b[0m         response \u001b[38;5;241m=\u001b[39m \u001b[43mgen\u001b[49m\u001b[38;5;241;43m.\u001b[39;49m\u001b[43msend\u001b[49m\u001b[43m(\u001b[49m\u001b[38;5;28;43;01mNone\u001b[39;49;00m\u001b[43m)\u001b[49m\n\u001b[1;32m     37\u001b[0m     \u001b[38;5;28;01mwhile\u001b[39;00m \u001b[38;5;28;01mTrue\u001b[39;00m:\n\u001b[1;32m     38\u001b[0m         \u001b[38;5;28;01mtry\u001b[39;00m:\n\u001b[1;32m     39\u001b[0m             \u001b[38;5;66;03m# Forward the response to our caller and get its next request\u001b[39;00m\n",
      "File \u001b[0;32m~/.local/lib/python3.10/site-packages/ultralytics/engine/predictor.py:262\u001b[0m, in \u001b[0;36mBasePredictor.stream_inference\u001b[0;34m(self, source, model, *args, **kwargs)\u001b[0m\n\u001b[1;32m    260\u001b[0m \u001b[38;5;28;01mwith\u001b[39;00m profilers[\u001b[38;5;241m2\u001b[39m]:\n\u001b[1;32m    261\u001b[0m     \u001b[38;5;28mself\u001b[39m\u001b[38;5;241m.\u001b[39mresults \u001b[38;5;241m=\u001b[39m \u001b[38;5;28mself\u001b[39m\u001b[38;5;241m.\u001b[39mpostprocess(preds, im, im0s)\n\u001b[0;32m--> 262\u001b[0m \u001b[38;5;28;43mself\u001b[39;49m\u001b[38;5;241;43m.\u001b[39;49m\u001b[43mrun_callbacks\u001b[49m\u001b[43m(\u001b[49m\u001b[38;5;124;43m\"\u001b[39;49m\u001b[38;5;124;43mon_predict_postprocess_end\u001b[39;49m\u001b[38;5;124;43m\"\u001b[39;49m\u001b[43m)\u001b[49m\n\u001b[1;32m    264\u001b[0m \u001b[38;5;66;03m# Visualize, save, write results\u001b[39;00m\n\u001b[1;32m    265\u001b[0m n \u001b[38;5;241m=\u001b[39m \u001b[38;5;28mlen\u001b[39m(im0s)\n",
      "File \u001b[0;32m~/.local/lib/python3.10/site-packages/ultralytics/engine/predictor.py:399\u001b[0m, in \u001b[0;36mBasePredictor.run_callbacks\u001b[0;34m(self, event)\u001b[0m\n\u001b[1;32m    397\u001b[0m \u001b[38;5;250m\u001b[39m\u001b[38;5;124;03m\"\"\"Runs all registered callbacks for a specific event.\"\"\"\u001b[39;00m\n\u001b[1;32m    398\u001b[0m \u001b[38;5;28;01mfor\u001b[39;00m callback \u001b[38;5;129;01min\u001b[39;00m \u001b[38;5;28mself\u001b[39m\u001b[38;5;241m.\u001b[39mcallbacks\u001b[38;5;241m.\u001b[39mget(event, []):\n\u001b[0;32m--> 399\u001b[0m     \u001b[43mcallback\u001b[49m\u001b[43m(\u001b[49m\u001b[38;5;28;43mself\u001b[39;49m\u001b[43m)\u001b[49m\n",
      "File \u001b[0;32m~/.local/lib/python3.10/site-packages/ultralytics/trackers/track.py:80\u001b[0m, in \u001b[0;36mon_predict_postprocess_end\u001b[0;34m(predictor, persist)\u001b[0m\n\u001b[1;32m     78\u001b[0m \u001b[38;5;28;01mif\u001b[39;00m \u001b[38;5;28mlen\u001b[39m(det) \u001b[38;5;241m==\u001b[39m \u001b[38;5;241m0\u001b[39m:\n\u001b[1;32m     79\u001b[0m     \u001b[38;5;28;01mcontinue\u001b[39;00m\n\u001b[0;32m---> 80\u001b[0m tracks \u001b[38;5;241m=\u001b[39m \u001b[43mtracker\u001b[49m\u001b[38;5;241;43m.\u001b[39;49m\u001b[43mupdate\u001b[49m\u001b[43m(\u001b[49m\u001b[43mdet\u001b[49m\u001b[43m,\u001b[49m\u001b[43m \u001b[49m\u001b[43mim0s\u001b[49m\u001b[43m[\u001b[49m\u001b[43mi\u001b[49m\u001b[43m]\u001b[49m\u001b[43m)\u001b[49m\n\u001b[1;32m     81\u001b[0m \u001b[38;5;28;01mif\u001b[39;00m \u001b[38;5;28mlen\u001b[39m(tracks) \u001b[38;5;241m==\u001b[39m \u001b[38;5;241m0\u001b[39m:\n\u001b[1;32m     82\u001b[0m     \u001b[38;5;28;01mcontinue\u001b[39;00m\n",
      "File \u001b[0;32m~/.local/lib/python3.10/site-packages/ultralytics/trackers/byte_tracker.py:333\u001b[0m, in \u001b[0;36mBYTETracker.update\u001b[0;34m(self, results, img)\u001b[0m\n\u001b[1;32m    331\u001b[0m \u001b[38;5;28mself\u001b[39m\u001b[38;5;241m.\u001b[39mmulti_predict(strack_pool)\n\u001b[1;32m    332\u001b[0m \u001b[38;5;28;01mif\u001b[39;00m \u001b[38;5;28mhasattr\u001b[39m(\u001b[38;5;28mself\u001b[39m, \u001b[38;5;124m\"\u001b[39m\u001b[38;5;124mgmc\u001b[39m\u001b[38;5;124m\"\u001b[39m) \u001b[38;5;129;01mand\u001b[39;00m img \u001b[38;5;129;01mis\u001b[39;00m \u001b[38;5;129;01mnot\u001b[39;00m \u001b[38;5;28;01mNone\u001b[39;00m:\n\u001b[0;32m--> 333\u001b[0m     warp \u001b[38;5;241m=\u001b[39m \u001b[38;5;28;43mself\u001b[39;49m\u001b[38;5;241;43m.\u001b[39;49m\u001b[43mgmc\u001b[49m\u001b[38;5;241;43m.\u001b[39;49m\u001b[43mapply\u001b[49m\u001b[43m(\u001b[49m\u001b[43mimg\u001b[49m\u001b[43m,\u001b[49m\u001b[43m \u001b[49m\u001b[43mdets\u001b[49m\u001b[43m)\u001b[49m\n\u001b[1;32m    334\u001b[0m     STrack\u001b[38;5;241m.\u001b[39mmulti_gmc(strack_pool, warp)\n\u001b[1;32m    335\u001b[0m     STrack\u001b[38;5;241m.\u001b[39mmulti_gmc(unconfirmed, warp)\n",
      "File \u001b[0;32m~/.local/lib/python3.10/site-packages/ultralytics/trackers/utils/gmc.py:115\u001b[0m, in \u001b[0;36mGMC.apply\u001b[0;34m(self, raw_frame, detections)\u001b[0m\n\u001b[1;32m    113\u001b[0m     \u001b[38;5;28;01mreturn\u001b[39;00m \u001b[38;5;28mself\u001b[39m\u001b[38;5;241m.\u001b[39mapplyEcc(raw_frame)\n\u001b[1;32m    114\u001b[0m \u001b[38;5;28;01melif\u001b[39;00m \u001b[38;5;28mself\u001b[39m\u001b[38;5;241m.\u001b[39mmethod \u001b[38;5;241m==\u001b[39m \u001b[38;5;124m\"\u001b[39m\u001b[38;5;124msparseOptFlow\u001b[39m\u001b[38;5;124m\"\u001b[39m:\n\u001b[0;32m--> 115\u001b[0m     \u001b[38;5;28;01mreturn\u001b[39;00m \u001b[38;5;28;43mself\u001b[39;49m\u001b[38;5;241;43m.\u001b[39;49m\u001b[43mapplySparseOptFlow\u001b[49m\u001b[43m(\u001b[49m\u001b[43mraw_frame\u001b[49m\u001b[43m)\u001b[49m\n\u001b[1;32m    116\u001b[0m \u001b[38;5;28;01melse\u001b[39;00m:\n\u001b[1;32m    117\u001b[0m     \u001b[38;5;28;01mreturn\u001b[39;00m np\u001b[38;5;241m.\u001b[39meye(\u001b[38;5;241m2\u001b[39m, \u001b[38;5;241m3\u001b[39m)\n",
      "File \u001b[0;32m~/.local/lib/python3.10/site-packages/ultralytics/trackers/utils/gmc.py:343\u001b[0m, in \u001b[0;36mGMC.applySparseOptFlow\u001b[0;34m(self, raw_frame)\u001b[0m\n\u001b[1;32m    340\u001b[0m     \u001b[38;5;28;01mreturn\u001b[39;00m H\n\u001b[1;32m    342\u001b[0m \u001b[38;5;66;03m# Find correspondences\u001b[39;00m\n\u001b[0;32m--> 343\u001b[0m matchedKeypoints, status, _ \u001b[38;5;241m=\u001b[39m \u001b[43mcv2\u001b[49m\u001b[38;5;241;43m.\u001b[39;49m\u001b[43mcalcOpticalFlowPyrLK\u001b[49m\u001b[43m(\u001b[49m\u001b[38;5;28;43mself\u001b[39;49m\u001b[38;5;241;43m.\u001b[39;49m\u001b[43mprevFrame\u001b[49m\u001b[43m,\u001b[49m\u001b[43m \u001b[49m\u001b[43mframe\u001b[49m\u001b[43m,\u001b[49m\u001b[43m \u001b[49m\u001b[38;5;28;43mself\u001b[39;49m\u001b[38;5;241;43m.\u001b[39;49m\u001b[43mprevKeyPoints\u001b[49m\u001b[43m,\u001b[49m\u001b[43m \u001b[49m\u001b[38;5;28;43;01mNone\u001b[39;49;00m\u001b[43m)\u001b[49m\n\u001b[1;32m    345\u001b[0m \u001b[38;5;66;03m# Leave good correspondences only\u001b[39;00m\n\u001b[1;32m    346\u001b[0m prevPoints \u001b[38;5;241m=\u001b[39m []\n",
      "\u001b[0;31merror\u001b[0m: OpenCV(4.10.0) /io/opencv/modules/video/src/lkpyramid.cpp:1394: error: (-215:Assertion failed) prevPyr[level * lvlStep1].size() == nextPyr[level * lvlStep2].size() in function 'calc'\n"
     ]
    }
   ],
   "source": [
    "from sahi_tracking import sahi_run_segment\n",
    "\n",
    "VIDEO_PATH = \"Labeled-videos/05110122.MP4\"\n",
    "\n",
    "sahi_run_segment(\"runs/segment/train4/weights/best.pt\", VIDEO_PATH, True, True, False, track=True)"
   ]
  },
  {
   "cell_type": "code",
   "execution_count": null,
   "id": "cfaefee5",
   "metadata": {
    "colab": {
     "base_uri": "https://localhost:8080/"
    },
    "executionInfo": {
     "elapsed": 2409,
     "status": "ok",
     "timestamp": 1720882947096,
     "user": {
      "displayName": "Jorge Galindo",
      "userId": "08608773082217336897"
     },
     "user_tz": -180
    },
    "id": "cpJ1lbSK3UKZ",
    "outputId": "4ac8f019-69a4-4aec-acc4-8b1bf4e121bc"
   },
   "outputs": [
    {
     "ename": "ConnectionError",
     "evalue": "HTTPSConnectionPool(host='api.github.com', port=443): Max retries exceeded with url: /repos/ultralytics/assets/releases/tags/v8.2.0 (Caused by NewConnectionError('<urllib3.connection.HTTPSConnection object at 0x7a26f1619ae0>: Failed to establish a new connection: [Errno -3] Temporary failure in name resolution'))",
     "output_type": "error",
     "traceback": [
      "\u001b[0;31m---------------------------------------------------------------------------\u001b[0m",
      "\u001b[0;31mgaierror\u001b[0m                                  Traceback (most recent call last)",
      "File \u001b[0;32m/usr/lib/python3/dist-packages/urllib3/connection.py:169\u001b[0m, in \u001b[0;36mHTTPConnection._new_conn\u001b[0;34m(self)\u001b[0m\n\u001b[1;32m    168\u001b[0m \u001b[38;5;28;01mtry\u001b[39;00m:\n\u001b[0;32m--> 169\u001b[0m     conn \u001b[38;5;241m=\u001b[39m \u001b[43mconnection\u001b[49m\u001b[38;5;241;43m.\u001b[39;49m\u001b[43mcreate_connection\u001b[49m\u001b[43m(\u001b[49m\n\u001b[1;32m    170\u001b[0m \u001b[43m        \u001b[49m\u001b[43m(\u001b[49m\u001b[38;5;28;43mself\u001b[39;49m\u001b[38;5;241;43m.\u001b[39;49m\u001b[43m_dns_host\u001b[49m\u001b[43m,\u001b[49m\u001b[43m \u001b[49m\u001b[38;5;28;43mself\u001b[39;49m\u001b[38;5;241;43m.\u001b[39;49m\u001b[43mport\u001b[49m\u001b[43m)\u001b[49m\u001b[43m,\u001b[49m\u001b[43m \u001b[49m\u001b[38;5;28;43mself\u001b[39;49m\u001b[38;5;241;43m.\u001b[39;49m\u001b[43mtimeout\u001b[49m\u001b[43m,\u001b[49m\u001b[43m \u001b[49m\u001b[38;5;241;43m*\u001b[39;49m\u001b[38;5;241;43m*\u001b[39;49m\u001b[43mextra_kw\u001b[49m\n\u001b[1;32m    171\u001b[0m \u001b[43m    \u001b[49m\u001b[43m)\u001b[49m\n\u001b[1;32m    173\u001b[0m \u001b[38;5;28;01mexcept\u001b[39;00m SocketTimeout:\n",
      "File \u001b[0;32m/usr/lib/python3/dist-packages/urllib3/util/connection.py:73\u001b[0m, in \u001b[0;36mcreate_connection\u001b[0;34m(address, timeout, source_address, socket_options)\u001b[0m\n\u001b[1;32m     69\u001b[0m     \u001b[38;5;28;01mreturn\u001b[39;00m six\u001b[38;5;241m.\u001b[39mraise_from(\n\u001b[1;32m     70\u001b[0m         LocationParseError(\u001b[38;5;124mu\u001b[39m\u001b[38;5;124m\"\u001b[39m\u001b[38;5;124m'\u001b[39m\u001b[38;5;132;01m%s\u001b[39;00m\u001b[38;5;124m'\u001b[39m\u001b[38;5;124m, label empty or too long\u001b[39m\u001b[38;5;124m\"\u001b[39m \u001b[38;5;241m%\u001b[39m host), \u001b[38;5;28;01mNone\u001b[39;00m\n\u001b[1;32m     71\u001b[0m     )\n\u001b[0;32m---> 73\u001b[0m \u001b[38;5;28;01mfor\u001b[39;00m res \u001b[38;5;129;01min\u001b[39;00m \u001b[43msocket\u001b[49m\u001b[38;5;241;43m.\u001b[39;49m\u001b[43mgetaddrinfo\u001b[49m\u001b[43m(\u001b[49m\u001b[43mhost\u001b[49m\u001b[43m,\u001b[49m\u001b[43m \u001b[49m\u001b[43mport\u001b[49m\u001b[43m,\u001b[49m\u001b[43m \u001b[49m\u001b[43mfamily\u001b[49m\u001b[43m,\u001b[49m\u001b[43m \u001b[49m\u001b[43msocket\u001b[49m\u001b[38;5;241;43m.\u001b[39;49m\u001b[43mSOCK_STREAM\u001b[49m\u001b[43m)\u001b[49m:\n\u001b[1;32m     74\u001b[0m     af, socktype, proto, canonname, sa \u001b[38;5;241m=\u001b[39m res\n",
      "File \u001b[0;32m/usr/lib/python3.10/socket.py:955\u001b[0m, in \u001b[0;36mgetaddrinfo\u001b[0;34m(host, port, family, type, proto, flags)\u001b[0m\n\u001b[1;32m    954\u001b[0m addrlist \u001b[38;5;241m=\u001b[39m []\n\u001b[0;32m--> 955\u001b[0m \u001b[38;5;28;01mfor\u001b[39;00m res \u001b[38;5;129;01min\u001b[39;00m \u001b[43m_socket\u001b[49m\u001b[38;5;241;43m.\u001b[39;49m\u001b[43mgetaddrinfo\u001b[49m\u001b[43m(\u001b[49m\u001b[43mhost\u001b[49m\u001b[43m,\u001b[49m\u001b[43m \u001b[49m\u001b[43mport\u001b[49m\u001b[43m,\u001b[49m\u001b[43m \u001b[49m\u001b[43mfamily\u001b[49m\u001b[43m,\u001b[49m\u001b[43m \u001b[49m\u001b[38;5;28;43mtype\u001b[39;49m\u001b[43m,\u001b[49m\u001b[43m \u001b[49m\u001b[43mproto\u001b[49m\u001b[43m,\u001b[49m\u001b[43m \u001b[49m\u001b[43mflags\u001b[49m\u001b[43m)\u001b[49m:\n\u001b[1;32m    956\u001b[0m     af, socktype, proto, canonname, sa \u001b[38;5;241m=\u001b[39m res\n",
      "\u001b[0;31mgaierror\u001b[0m: [Errno -3] Temporary failure in name resolution",
      "\nDuring handling of the above exception, another exception occurred:\n",
      "\u001b[0;31mNewConnectionError\u001b[0m                        Traceback (most recent call last)",
      "File \u001b[0;32m/usr/lib/python3/dist-packages/urllib3/connectionpool.py:700\u001b[0m, in \u001b[0;36mHTTPConnectionPool.urlopen\u001b[0;34m(self, method, url, body, headers, retries, redirect, assert_same_host, timeout, pool_timeout, release_conn, chunked, body_pos, **response_kw)\u001b[0m\n\u001b[1;32m    699\u001b[0m \u001b[38;5;66;03m# Make the request on the httplib connection object.\u001b[39;00m\n\u001b[0;32m--> 700\u001b[0m httplib_response \u001b[38;5;241m=\u001b[39m \u001b[38;5;28;43mself\u001b[39;49m\u001b[38;5;241;43m.\u001b[39;49m\u001b[43m_make_request\u001b[49m\u001b[43m(\u001b[49m\n\u001b[1;32m    701\u001b[0m \u001b[43m    \u001b[49m\u001b[43mconn\u001b[49m\u001b[43m,\u001b[49m\n\u001b[1;32m    702\u001b[0m \u001b[43m    \u001b[49m\u001b[43mmethod\u001b[49m\u001b[43m,\u001b[49m\n\u001b[1;32m    703\u001b[0m \u001b[43m    \u001b[49m\u001b[43murl\u001b[49m\u001b[43m,\u001b[49m\n\u001b[1;32m    704\u001b[0m \u001b[43m    \u001b[49m\u001b[43mtimeout\u001b[49m\u001b[38;5;241;43m=\u001b[39;49m\u001b[43mtimeout_obj\u001b[49m\u001b[43m,\u001b[49m\n\u001b[1;32m    705\u001b[0m \u001b[43m    \u001b[49m\u001b[43mbody\u001b[49m\u001b[38;5;241;43m=\u001b[39;49m\u001b[43mbody\u001b[49m\u001b[43m,\u001b[49m\n\u001b[1;32m    706\u001b[0m \u001b[43m    \u001b[49m\u001b[43mheaders\u001b[49m\u001b[38;5;241;43m=\u001b[39;49m\u001b[43mheaders\u001b[49m\u001b[43m,\u001b[49m\n\u001b[1;32m    707\u001b[0m \u001b[43m    \u001b[49m\u001b[43mchunked\u001b[49m\u001b[38;5;241;43m=\u001b[39;49m\u001b[43mchunked\u001b[49m\u001b[43m,\u001b[49m\n\u001b[1;32m    708\u001b[0m \u001b[43m\u001b[49m\u001b[43m)\u001b[49m\n\u001b[1;32m    710\u001b[0m \u001b[38;5;66;03m# If we're going to release the connection in ``finally:``, then\u001b[39;00m\n\u001b[1;32m    711\u001b[0m \u001b[38;5;66;03m# the response doesn't need to know about the connection. Otherwise\u001b[39;00m\n\u001b[1;32m    712\u001b[0m \u001b[38;5;66;03m# it will also try to release it and we'll have a double-release\u001b[39;00m\n\u001b[1;32m    713\u001b[0m \u001b[38;5;66;03m# mess.\u001b[39;00m\n",
      "File \u001b[0;32m/usr/lib/python3/dist-packages/urllib3/connectionpool.py:383\u001b[0m, in \u001b[0;36mHTTPConnectionPool._make_request\u001b[0;34m(self, conn, method, url, timeout, chunked, **httplib_request_kw)\u001b[0m\n\u001b[1;32m    382\u001b[0m \u001b[38;5;28;01mtry\u001b[39;00m:\n\u001b[0;32m--> 383\u001b[0m     \u001b[38;5;28;43mself\u001b[39;49m\u001b[38;5;241;43m.\u001b[39;49m\u001b[43m_validate_conn\u001b[49m\u001b[43m(\u001b[49m\u001b[43mconn\u001b[49m\u001b[43m)\u001b[49m\n\u001b[1;32m    384\u001b[0m \u001b[38;5;28;01mexcept\u001b[39;00m (SocketTimeout, BaseSSLError) \u001b[38;5;28;01mas\u001b[39;00m e:\n\u001b[1;32m    385\u001b[0m     \u001b[38;5;66;03m# Py2 raises this as a BaseSSLError, Py3 raises it as socket timeout.\u001b[39;00m\n",
      "File \u001b[0;32m/usr/lib/python3/dist-packages/urllib3/connectionpool.py:1017\u001b[0m, in \u001b[0;36mHTTPSConnectionPool._validate_conn\u001b[0;34m(self, conn)\u001b[0m\n\u001b[1;32m   1016\u001b[0m \u001b[38;5;28;01mif\u001b[39;00m \u001b[38;5;129;01mnot\u001b[39;00m \u001b[38;5;28mgetattr\u001b[39m(conn, \u001b[38;5;124m\"\u001b[39m\u001b[38;5;124msock\u001b[39m\u001b[38;5;124m\"\u001b[39m, \u001b[38;5;28;01mNone\u001b[39;00m):  \u001b[38;5;66;03m# AppEngine might not have  `.sock`\u001b[39;00m\n\u001b[0;32m-> 1017\u001b[0m     \u001b[43mconn\u001b[49m\u001b[38;5;241;43m.\u001b[39;49m\u001b[43mconnect\u001b[49m\u001b[43m(\u001b[49m\u001b[43m)\u001b[49m\n\u001b[1;32m   1019\u001b[0m \u001b[38;5;28;01mif\u001b[39;00m \u001b[38;5;129;01mnot\u001b[39;00m conn\u001b[38;5;241m.\u001b[39mis_verified:\n",
      "File \u001b[0;32m/usr/lib/python3/dist-packages/urllib3/connection.py:353\u001b[0m, in \u001b[0;36mHTTPSConnection.connect\u001b[0;34m(self)\u001b[0m\n\u001b[1;32m    351\u001b[0m \u001b[38;5;28;01mdef\u001b[39;00m \u001b[38;5;21mconnect\u001b[39m(\u001b[38;5;28mself\u001b[39m):\n\u001b[1;32m    352\u001b[0m     \u001b[38;5;66;03m# Add certificate verification\u001b[39;00m\n\u001b[0;32m--> 353\u001b[0m     conn \u001b[38;5;241m=\u001b[39m \u001b[38;5;28;43mself\u001b[39;49m\u001b[38;5;241;43m.\u001b[39;49m\u001b[43m_new_conn\u001b[49m\u001b[43m(\u001b[49m\u001b[43m)\u001b[49m\n\u001b[1;32m    354\u001b[0m     hostname \u001b[38;5;241m=\u001b[39m \u001b[38;5;28mself\u001b[39m\u001b[38;5;241m.\u001b[39mhost\n",
      "File \u001b[0;32m/usr/lib/python3/dist-packages/urllib3/connection.py:181\u001b[0m, in \u001b[0;36mHTTPConnection._new_conn\u001b[0;34m(self)\u001b[0m\n\u001b[1;32m    180\u001b[0m \u001b[38;5;28;01mexcept\u001b[39;00m SocketError \u001b[38;5;28;01mas\u001b[39;00m e:\n\u001b[0;32m--> 181\u001b[0m     \u001b[38;5;28;01mraise\u001b[39;00m NewConnectionError(\n\u001b[1;32m    182\u001b[0m         \u001b[38;5;28mself\u001b[39m, \u001b[38;5;124m\"\u001b[39m\u001b[38;5;124mFailed to establish a new connection: \u001b[39m\u001b[38;5;132;01m%s\u001b[39;00m\u001b[38;5;124m\"\u001b[39m \u001b[38;5;241m%\u001b[39m e\n\u001b[1;32m    183\u001b[0m     )\n\u001b[1;32m    185\u001b[0m \u001b[38;5;28;01mreturn\u001b[39;00m conn\n",
      "\u001b[0;31mNewConnectionError\u001b[0m: <urllib3.connection.HTTPSConnection object at 0x7a26f1619ae0>: Failed to establish a new connection: [Errno -3] Temporary failure in name resolution",
      "\nDuring handling of the above exception, another exception occurred:\n",
      "\u001b[0;31mMaxRetryError\u001b[0m                             Traceback (most recent call last)",
      "File \u001b[0;32m~/.local/lib/python3.10/site-packages/requests/adapters.py:667\u001b[0m, in \u001b[0;36mHTTPAdapter.send\u001b[0;34m(self, request, stream, timeout, verify, cert, proxies)\u001b[0m\n\u001b[1;32m    666\u001b[0m \u001b[38;5;28;01mtry\u001b[39;00m:\n\u001b[0;32m--> 667\u001b[0m     resp \u001b[38;5;241m=\u001b[39m \u001b[43mconn\u001b[49m\u001b[38;5;241;43m.\u001b[39;49m\u001b[43murlopen\u001b[49m\u001b[43m(\u001b[49m\n\u001b[1;32m    668\u001b[0m \u001b[43m        \u001b[49m\u001b[43mmethod\u001b[49m\u001b[38;5;241;43m=\u001b[39;49m\u001b[43mrequest\u001b[49m\u001b[38;5;241;43m.\u001b[39;49m\u001b[43mmethod\u001b[49m\u001b[43m,\u001b[49m\n\u001b[1;32m    669\u001b[0m \u001b[43m        \u001b[49m\u001b[43murl\u001b[49m\u001b[38;5;241;43m=\u001b[39;49m\u001b[43murl\u001b[49m\u001b[43m,\u001b[49m\n\u001b[1;32m    670\u001b[0m \u001b[43m        \u001b[49m\u001b[43mbody\u001b[49m\u001b[38;5;241;43m=\u001b[39;49m\u001b[43mrequest\u001b[49m\u001b[38;5;241;43m.\u001b[39;49m\u001b[43mbody\u001b[49m\u001b[43m,\u001b[49m\n\u001b[1;32m    671\u001b[0m \u001b[43m        \u001b[49m\u001b[43mheaders\u001b[49m\u001b[38;5;241;43m=\u001b[39;49m\u001b[43mrequest\u001b[49m\u001b[38;5;241;43m.\u001b[39;49m\u001b[43mheaders\u001b[49m\u001b[43m,\u001b[49m\n\u001b[1;32m    672\u001b[0m \u001b[43m        \u001b[49m\u001b[43mredirect\u001b[49m\u001b[38;5;241;43m=\u001b[39;49m\u001b[38;5;28;43;01mFalse\u001b[39;49;00m\u001b[43m,\u001b[49m\n\u001b[1;32m    673\u001b[0m \u001b[43m        \u001b[49m\u001b[43massert_same_host\u001b[49m\u001b[38;5;241;43m=\u001b[39;49m\u001b[38;5;28;43;01mFalse\u001b[39;49;00m\u001b[43m,\u001b[49m\n\u001b[1;32m    674\u001b[0m \u001b[43m        \u001b[49m\u001b[43mpreload_content\u001b[49m\u001b[38;5;241;43m=\u001b[39;49m\u001b[38;5;28;43;01mFalse\u001b[39;49;00m\u001b[43m,\u001b[49m\n\u001b[1;32m    675\u001b[0m \u001b[43m        \u001b[49m\u001b[43mdecode_content\u001b[49m\u001b[38;5;241;43m=\u001b[39;49m\u001b[38;5;28;43;01mFalse\u001b[39;49;00m\u001b[43m,\u001b[49m\n\u001b[1;32m    676\u001b[0m \u001b[43m        \u001b[49m\u001b[43mretries\u001b[49m\u001b[38;5;241;43m=\u001b[39;49m\u001b[38;5;28;43mself\u001b[39;49m\u001b[38;5;241;43m.\u001b[39;49m\u001b[43mmax_retries\u001b[49m\u001b[43m,\u001b[49m\n\u001b[1;32m    677\u001b[0m \u001b[43m        \u001b[49m\u001b[43mtimeout\u001b[49m\u001b[38;5;241;43m=\u001b[39;49m\u001b[43mtimeout\u001b[49m\u001b[43m,\u001b[49m\n\u001b[1;32m    678\u001b[0m \u001b[43m        \u001b[49m\u001b[43mchunked\u001b[49m\u001b[38;5;241;43m=\u001b[39;49m\u001b[43mchunked\u001b[49m\u001b[43m,\u001b[49m\n\u001b[1;32m    679\u001b[0m \u001b[43m    \u001b[49m\u001b[43m)\u001b[49m\n\u001b[1;32m    681\u001b[0m \u001b[38;5;28;01mexcept\u001b[39;00m (ProtocolError, \u001b[38;5;167;01mOSError\u001b[39;00m) \u001b[38;5;28;01mas\u001b[39;00m err:\n",
      "File \u001b[0;32m/usr/lib/python3/dist-packages/urllib3/connectionpool.py:756\u001b[0m, in \u001b[0;36mHTTPConnectionPool.urlopen\u001b[0;34m(self, method, url, body, headers, retries, redirect, assert_same_host, timeout, pool_timeout, release_conn, chunked, body_pos, **response_kw)\u001b[0m\n\u001b[1;32m    754\u001b[0m     e \u001b[38;5;241m=\u001b[39m ProtocolError(\u001b[38;5;124m\"\u001b[39m\u001b[38;5;124mConnection aborted.\u001b[39m\u001b[38;5;124m\"\u001b[39m, e)\n\u001b[0;32m--> 756\u001b[0m retries \u001b[38;5;241m=\u001b[39m \u001b[43mretries\u001b[49m\u001b[38;5;241;43m.\u001b[39;49m\u001b[43mincrement\u001b[49m\u001b[43m(\u001b[49m\n\u001b[1;32m    757\u001b[0m \u001b[43m    \u001b[49m\u001b[43mmethod\u001b[49m\u001b[43m,\u001b[49m\u001b[43m \u001b[49m\u001b[43murl\u001b[49m\u001b[43m,\u001b[49m\u001b[43m \u001b[49m\u001b[43merror\u001b[49m\u001b[38;5;241;43m=\u001b[39;49m\u001b[43me\u001b[49m\u001b[43m,\u001b[49m\u001b[43m \u001b[49m\u001b[43m_pool\u001b[49m\u001b[38;5;241;43m=\u001b[39;49m\u001b[38;5;28;43mself\u001b[39;49m\u001b[43m,\u001b[49m\u001b[43m \u001b[49m\u001b[43m_stacktrace\u001b[49m\u001b[38;5;241;43m=\u001b[39;49m\u001b[43msys\u001b[49m\u001b[38;5;241;43m.\u001b[39;49m\u001b[43mexc_info\u001b[49m\u001b[43m(\u001b[49m\u001b[43m)\u001b[49m\u001b[43m[\u001b[49m\u001b[38;5;241;43m2\u001b[39;49m\u001b[43m]\u001b[49m\n\u001b[1;32m    758\u001b[0m \u001b[43m\u001b[49m\u001b[43m)\u001b[49m\n\u001b[1;32m    759\u001b[0m retries\u001b[38;5;241m.\u001b[39msleep()\n",
      "File \u001b[0;32m/usr/lib/python3/dist-packages/urllib3/util/retry.py:574\u001b[0m, in \u001b[0;36mRetry.increment\u001b[0;34m(self, method, url, response, error, _pool, _stacktrace)\u001b[0m\n\u001b[1;32m    573\u001b[0m \u001b[38;5;28;01mif\u001b[39;00m new_retry\u001b[38;5;241m.\u001b[39mis_exhausted():\n\u001b[0;32m--> 574\u001b[0m     \u001b[38;5;28;01mraise\u001b[39;00m MaxRetryError(_pool, url, error \u001b[38;5;129;01mor\u001b[39;00m ResponseError(cause))\n\u001b[1;32m    576\u001b[0m log\u001b[38;5;241m.\u001b[39mdebug(\u001b[38;5;124m\"\u001b[39m\u001b[38;5;124mIncremented Retry for (url=\u001b[39m\u001b[38;5;124m'\u001b[39m\u001b[38;5;132;01m%s\u001b[39;00m\u001b[38;5;124m'\u001b[39m\u001b[38;5;124m): \u001b[39m\u001b[38;5;132;01m%r\u001b[39;00m\u001b[38;5;124m\"\u001b[39m, url, new_retry)\n",
      "\u001b[0;31mMaxRetryError\u001b[0m: HTTPSConnectionPool(host='api.github.com', port=443): Max retries exceeded with url: /repos/ultralytics/assets/releases/tags/v8.2.0 (Caused by NewConnectionError('<urllib3.connection.HTTPSConnection object at 0x7a26f1619ae0>: Failed to establish a new connection: [Errno -3] Temporary failure in name resolution'))",
      "\nDuring handling of the above exception, another exception occurred:\n",
      "\u001b[0;31mConnectionError\u001b[0m                           Traceback (most recent call last)",
      "Cell \u001b[0;32mIn[9], line 11\u001b[0m\n\u001b[1;32m      7\u001b[0m \u001b[38;5;28;01mfrom\u001b[39;00m \u001b[38;5;21;01mmatplotlib\u001b[39;00m \u001b[38;5;28;01mimport\u001b[39;00m pyplot \u001b[38;5;28;01mas\u001b[39;00m plt\n\u001b[1;32m      9\u001b[0m track_history \u001b[38;5;241m=\u001b[39m defaultdict(\u001b[38;5;28;01mlambda\u001b[39;00m: [])\n\u001b[0;32m---> 11\u001b[0m model \u001b[38;5;241m=\u001b[39m \u001b[43mYOLO\u001b[49m\u001b[43m(\u001b[49m\u001b[38;5;124;43m\"\u001b[39;49m\u001b[38;5;124;43mruns/segment/train14/weights/best.pt\u001b[39;49m\u001b[38;5;124;43m\"\u001b[39;49m\u001b[43m)\u001b[49m  \u001b[38;5;66;03m# segmentation model\u001b[39;00m\n\u001b[1;32m     12\u001b[0m cap \u001b[38;5;241m=\u001b[39m cv2\u001b[38;5;241m.\u001b[39mVideoCapture(VIDEO_PATH)\n\u001b[1;32m     13\u001b[0m w, h, fps \u001b[38;5;241m=\u001b[39m (\u001b[38;5;28mint\u001b[39m(cap\u001b[38;5;241m.\u001b[39mget(x)) \u001b[38;5;28;01mfor\u001b[39;00m x \u001b[38;5;129;01min\u001b[39;00m (cv2\u001b[38;5;241m.\u001b[39mCAP_PROP_FRAME_WIDTH, cv2\u001b[38;5;241m.\u001b[39mCAP_PROP_FRAME_HEIGHT, cv2\u001b[38;5;241m.\u001b[39mCAP_PROP_FPS))\n",
      "File \u001b[0;32m~/.local/lib/python3.10/site-packages/ultralytics/models/yolo/model.py:23\u001b[0m, in \u001b[0;36mYOLO.__init__\u001b[0;34m(self, model, task, verbose)\u001b[0m\n\u001b[1;32m     20\u001b[0m     \u001b[38;5;28mself\u001b[39m\u001b[38;5;241m.\u001b[39m\u001b[38;5;18m__dict__\u001b[39m \u001b[38;5;241m=\u001b[39m new_instance\u001b[38;5;241m.\u001b[39m\u001b[38;5;18m__dict__\u001b[39m\n\u001b[1;32m     21\u001b[0m \u001b[38;5;28;01melse\u001b[39;00m:\n\u001b[1;32m     22\u001b[0m     \u001b[38;5;66;03m# Continue with default YOLO initialization\u001b[39;00m\n\u001b[0;32m---> 23\u001b[0m     \u001b[38;5;28;43msuper\u001b[39;49m\u001b[43m(\u001b[49m\u001b[43m)\u001b[49m\u001b[38;5;241;43m.\u001b[39;49m\u001b[38;5;21;43m__init__\u001b[39;49m\u001b[43m(\u001b[49m\u001b[43mmodel\u001b[49m\u001b[38;5;241;43m=\u001b[39;49m\u001b[43mmodel\u001b[49m\u001b[43m,\u001b[49m\u001b[43m \u001b[49m\u001b[43mtask\u001b[49m\u001b[38;5;241;43m=\u001b[39;49m\u001b[43mtask\u001b[49m\u001b[43m,\u001b[49m\u001b[43m \u001b[49m\u001b[43mverbose\u001b[49m\u001b[38;5;241;43m=\u001b[39;49m\u001b[43mverbose\u001b[49m\u001b[43m)\u001b[49m\n",
      "File \u001b[0;32m~/.local/lib/python3.10/site-packages/ultralytics/engine/model.py:142\u001b[0m, in \u001b[0;36mModel.__init__\u001b[0;34m(self, model, task, verbose)\u001b[0m\n\u001b[1;32m    140\u001b[0m     \u001b[38;5;28mself\u001b[39m\u001b[38;5;241m.\u001b[39m_new(model, task\u001b[38;5;241m=\u001b[39mtask, verbose\u001b[38;5;241m=\u001b[39mverbose)\n\u001b[1;32m    141\u001b[0m \u001b[38;5;28;01melse\u001b[39;00m:\n\u001b[0;32m--> 142\u001b[0m     \u001b[38;5;28;43mself\u001b[39;49m\u001b[38;5;241;43m.\u001b[39;49m\u001b[43m_load\u001b[49m\u001b[43m(\u001b[49m\u001b[43mmodel\u001b[49m\u001b[43m,\u001b[49m\u001b[43m \u001b[49m\u001b[43mtask\u001b[49m\u001b[38;5;241;43m=\u001b[39;49m\u001b[43mtask\u001b[49m\u001b[43m)\u001b[49m\n",
      "File \u001b[0;32m~/.local/lib/python3.10/site-packages/ultralytics/engine/model.py:294\u001b[0m, in \u001b[0;36mModel._load\u001b[0;34m(self, weights, task)\u001b[0m\n\u001b[1;32m    291\u001b[0m weights \u001b[38;5;241m=\u001b[39m checks\u001b[38;5;241m.\u001b[39mcheck_model_file_from_stem(weights)  \u001b[38;5;66;03m# add suffix, i.e. yolov8n -> yolov8n.pt\u001b[39;00m\n\u001b[1;32m    293\u001b[0m \u001b[38;5;28;01mif\u001b[39;00m Path(weights)\u001b[38;5;241m.\u001b[39msuffix \u001b[38;5;241m==\u001b[39m \u001b[38;5;124m\"\u001b[39m\u001b[38;5;124m.pt\u001b[39m\u001b[38;5;124m\"\u001b[39m:\n\u001b[0;32m--> 294\u001b[0m     \u001b[38;5;28mself\u001b[39m\u001b[38;5;241m.\u001b[39mmodel, \u001b[38;5;28mself\u001b[39m\u001b[38;5;241m.\u001b[39mckpt \u001b[38;5;241m=\u001b[39m \u001b[43mattempt_load_one_weight\u001b[49m\u001b[43m(\u001b[49m\u001b[43mweights\u001b[49m\u001b[43m)\u001b[49m\n\u001b[1;32m    295\u001b[0m     \u001b[38;5;28mself\u001b[39m\u001b[38;5;241m.\u001b[39mtask \u001b[38;5;241m=\u001b[39m \u001b[38;5;28mself\u001b[39m\u001b[38;5;241m.\u001b[39mmodel\u001b[38;5;241m.\u001b[39margs[\u001b[38;5;124m\"\u001b[39m\u001b[38;5;124mtask\u001b[39m\u001b[38;5;124m\"\u001b[39m]\n\u001b[1;32m    296\u001b[0m     \u001b[38;5;28mself\u001b[39m\u001b[38;5;241m.\u001b[39moverrides \u001b[38;5;241m=\u001b[39m \u001b[38;5;28mself\u001b[39m\u001b[38;5;241m.\u001b[39mmodel\u001b[38;5;241m.\u001b[39margs \u001b[38;5;241m=\u001b[39m \u001b[38;5;28mself\u001b[39m\u001b[38;5;241m.\u001b[39m_reset_ckpt_args(\u001b[38;5;28mself\u001b[39m\u001b[38;5;241m.\u001b[39mmodel\u001b[38;5;241m.\u001b[39margs)\n",
      "File \u001b[0;32m~/.local/lib/python3.10/site-packages/ultralytics/nn/tasks.py:855\u001b[0m, in \u001b[0;36mattempt_load_one_weight\u001b[0;34m(weight, device, inplace, fuse)\u001b[0m\n\u001b[1;32m    853\u001b[0m \u001b[38;5;28;01mdef\u001b[39;00m \u001b[38;5;21mattempt_load_one_weight\u001b[39m(weight, device\u001b[38;5;241m=\u001b[39m\u001b[38;5;28;01mNone\u001b[39;00m, inplace\u001b[38;5;241m=\u001b[39m\u001b[38;5;28;01mTrue\u001b[39;00m, fuse\u001b[38;5;241m=\u001b[39m\u001b[38;5;28;01mFalse\u001b[39;00m):\n\u001b[1;32m    854\u001b[0m \u001b[38;5;250m    \u001b[39m\u001b[38;5;124;03m\"\"\"Loads a single model weights.\"\"\"\u001b[39;00m\n\u001b[0;32m--> 855\u001b[0m     ckpt, weight \u001b[38;5;241m=\u001b[39m \u001b[43mtorch_safe_load\u001b[49m\u001b[43m(\u001b[49m\u001b[43mweight\u001b[49m\u001b[43m)\u001b[49m  \u001b[38;5;66;03m# load ckpt\u001b[39;00m\n\u001b[1;32m    856\u001b[0m     args \u001b[38;5;241m=\u001b[39m {\u001b[38;5;241m*\u001b[39m\u001b[38;5;241m*\u001b[39mDEFAULT_CFG_DICT, \u001b[38;5;241m*\u001b[39m\u001b[38;5;241m*\u001b[39m(ckpt\u001b[38;5;241m.\u001b[39mget(\u001b[38;5;124m\"\u001b[39m\u001b[38;5;124mtrain_args\u001b[39m\u001b[38;5;124m\"\u001b[39m, {}))}  \u001b[38;5;66;03m# combine model and default args, preferring model args\u001b[39;00m\n\u001b[1;32m    857\u001b[0m     model \u001b[38;5;241m=\u001b[39m (ckpt\u001b[38;5;241m.\u001b[39mget(\u001b[38;5;124m\"\u001b[39m\u001b[38;5;124mema\u001b[39m\u001b[38;5;124m\"\u001b[39m) \u001b[38;5;129;01mor\u001b[39;00m ckpt[\u001b[38;5;124m\"\u001b[39m\u001b[38;5;124mmodel\u001b[39m\u001b[38;5;124m\"\u001b[39m])\u001b[38;5;241m.\u001b[39mto(device)\u001b[38;5;241m.\u001b[39mfloat()  \u001b[38;5;66;03m# FP32 model\u001b[39;00m\n",
      "File \u001b[0;32m~/.local/lib/python3.10/site-packages/ultralytics/nn/tasks.py:768\u001b[0m, in \u001b[0;36mtorch_safe_load\u001b[0;34m(weight)\u001b[0m\n\u001b[1;32m    765\u001b[0m \u001b[38;5;28;01mfrom\u001b[39;00m \u001b[38;5;21;01multralytics\u001b[39;00m\u001b[38;5;21;01m.\u001b[39;00m\u001b[38;5;21;01mutils\u001b[39;00m\u001b[38;5;21;01m.\u001b[39;00m\u001b[38;5;21;01mdownloads\u001b[39;00m \u001b[38;5;28;01mimport\u001b[39;00m attempt_download_asset\n\u001b[1;32m    767\u001b[0m check_suffix(file\u001b[38;5;241m=\u001b[39mweight, suffix\u001b[38;5;241m=\u001b[39m\u001b[38;5;124m\"\u001b[39m\u001b[38;5;124m.pt\u001b[39m\u001b[38;5;124m\"\u001b[39m)\n\u001b[0;32m--> 768\u001b[0m file \u001b[38;5;241m=\u001b[39m \u001b[43mattempt_download_asset\u001b[49m\u001b[43m(\u001b[49m\u001b[43mweight\u001b[49m\u001b[43m)\u001b[49m  \u001b[38;5;66;03m# search online if missing locally\u001b[39;00m\n\u001b[1;32m    769\u001b[0m \u001b[38;5;28;01mtry\u001b[39;00m:\n\u001b[1;32m    770\u001b[0m     \u001b[38;5;28;01mwith\u001b[39;00m temporary_modules(\n\u001b[1;32m    771\u001b[0m         modules\u001b[38;5;241m=\u001b[39m{\n\u001b[1;32m    772\u001b[0m             \u001b[38;5;124m\"\u001b[39m\u001b[38;5;124multralytics.yolo.utils\u001b[39m\u001b[38;5;124m\"\u001b[39m: \u001b[38;5;124m\"\u001b[39m\u001b[38;5;124multralytics.utils\u001b[39m\u001b[38;5;124m\"\u001b[39m,\n\u001b[0;32m   (...)\u001b[0m\n\u001b[1;32m    779\u001b[0m         },\n\u001b[1;32m    780\u001b[0m     ):\n",
      "File \u001b[0;32m~/.local/lib/python3.10/site-packages/ultralytics/utils/downloads.py:457\u001b[0m, in \u001b[0;36mattempt_download_asset\u001b[0;34m(file, repo, release, **kwargs)\u001b[0m\n\u001b[1;32m    454\u001b[0m     safe_download(url\u001b[38;5;241m=\u001b[39m\u001b[38;5;124mf\u001b[39m\u001b[38;5;124m\"\u001b[39m\u001b[38;5;132;01m{\u001b[39;00mdownload_url\u001b[38;5;132;01m}\u001b[39;00m\u001b[38;5;124m/\u001b[39m\u001b[38;5;132;01m{\u001b[39;00mrelease\u001b[38;5;132;01m}\u001b[39;00m\u001b[38;5;124m/\u001b[39m\u001b[38;5;132;01m{\u001b[39;00mname\u001b[38;5;132;01m}\u001b[39;00m\u001b[38;5;124m\"\u001b[39m, file\u001b[38;5;241m=\u001b[39mfile, min_bytes\u001b[38;5;241m=\u001b[39m\u001b[38;5;241m1e5\u001b[39m, \u001b[38;5;241m*\u001b[39m\u001b[38;5;241m*\u001b[39mkwargs)\n\u001b[1;32m    456\u001b[0m \u001b[38;5;28;01melse\u001b[39;00m:\n\u001b[0;32m--> 457\u001b[0m     tag, assets \u001b[38;5;241m=\u001b[39m \u001b[43mget_github_assets\u001b[49m\u001b[43m(\u001b[49m\u001b[43mrepo\u001b[49m\u001b[43m,\u001b[49m\u001b[43m \u001b[49m\u001b[43mrelease\u001b[49m\u001b[43m)\u001b[49m\n\u001b[1;32m    458\u001b[0m     \u001b[38;5;28;01mif\u001b[39;00m \u001b[38;5;129;01mnot\u001b[39;00m assets:\n\u001b[1;32m    459\u001b[0m         tag, assets \u001b[38;5;241m=\u001b[39m get_github_assets(repo)  \u001b[38;5;66;03m# latest release\u001b[39;00m\n",
      "File \u001b[0;32m~/.local/lib/python3.10/site-packages/ultralytics/utils/downloads.py:402\u001b[0m, in \u001b[0;36mget_github_assets\u001b[0;34m(repo, version, retry)\u001b[0m\n\u001b[1;32m    400\u001b[0m     version \u001b[38;5;241m=\u001b[39m \u001b[38;5;124mf\u001b[39m\u001b[38;5;124m\"\u001b[39m\u001b[38;5;124mtags/\u001b[39m\u001b[38;5;132;01m{\u001b[39;00mversion\u001b[38;5;132;01m}\u001b[39;00m\u001b[38;5;124m\"\u001b[39m  \u001b[38;5;66;03m# i.e. tags/v6.2\u001b[39;00m\n\u001b[1;32m    401\u001b[0m url \u001b[38;5;241m=\u001b[39m \u001b[38;5;124mf\u001b[39m\u001b[38;5;124m\"\u001b[39m\u001b[38;5;124mhttps://api.github.com/repos/\u001b[39m\u001b[38;5;132;01m{\u001b[39;00mrepo\u001b[38;5;132;01m}\u001b[39;00m\u001b[38;5;124m/releases/\u001b[39m\u001b[38;5;132;01m{\u001b[39;00mversion\u001b[38;5;132;01m}\u001b[39;00m\u001b[38;5;124m\"\u001b[39m\n\u001b[0;32m--> 402\u001b[0m r \u001b[38;5;241m=\u001b[39m \u001b[43mrequests\u001b[49m\u001b[38;5;241;43m.\u001b[39;49m\u001b[43mget\u001b[49m\u001b[43m(\u001b[49m\u001b[43murl\u001b[49m\u001b[43m)\u001b[49m  \u001b[38;5;66;03m# github api\u001b[39;00m\n\u001b[1;32m    403\u001b[0m \u001b[38;5;28;01mif\u001b[39;00m r\u001b[38;5;241m.\u001b[39mstatus_code \u001b[38;5;241m!=\u001b[39m \u001b[38;5;241m200\u001b[39m \u001b[38;5;129;01mand\u001b[39;00m r\u001b[38;5;241m.\u001b[39mreason \u001b[38;5;241m!=\u001b[39m \u001b[38;5;124m\"\u001b[39m\u001b[38;5;124mrate limit exceeded\u001b[39m\u001b[38;5;124m\"\u001b[39m \u001b[38;5;129;01mand\u001b[39;00m retry:  \u001b[38;5;66;03m# failed and not 403 rate limit exceeded\u001b[39;00m\n\u001b[1;32m    404\u001b[0m     r \u001b[38;5;241m=\u001b[39m requests\u001b[38;5;241m.\u001b[39mget(url)  \u001b[38;5;66;03m# try again\u001b[39;00m\n",
      "File \u001b[0;32m~/.local/lib/python3.10/site-packages/requests/api.py:73\u001b[0m, in \u001b[0;36mget\u001b[0;34m(url, params, **kwargs)\u001b[0m\n\u001b[1;32m     62\u001b[0m \u001b[38;5;28;01mdef\u001b[39;00m \u001b[38;5;21mget\u001b[39m(url, params\u001b[38;5;241m=\u001b[39m\u001b[38;5;28;01mNone\u001b[39;00m, \u001b[38;5;241m*\u001b[39m\u001b[38;5;241m*\u001b[39mkwargs):\n\u001b[1;32m     63\u001b[0m \u001b[38;5;250m    \u001b[39m\u001b[38;5;124mr\u001b[39m\u001b[38;5;124;03m\"\"\"Sends a GET request.\u001b[39;00m\n\u001b[1;32m     64\u001b[0m \n\u001b[1;32m     65\u001b[0m \u001b[38;5;124;03m    :param url: URL for the new :class:`Request` object.\u001b[39;00m\n\u001b[0;32m   (...)\u001b[0m\n\u001b[1;32m     70\u001b[0m \u001b[38;5;124;03m    :rtype: requests.Response\u001b[39;00m\n\u001b[1;32m     71\u001b[0m \u001b[38;5;124;03m    \"\"\"\u001b[39;00m\n\u001b[0;32m---> 73\u001b[0m     \u001b[38;5;28;01mreturn\u001b[39;00m \u001b[43mrequest\u001b[49m\u001b[43m(\u001b[49m\u001b[38;5;124;43m\"\u001b[39;49m\u001b[38;5;124;43mget\u001b[39;49m\u001b[38;5;124;43m\"\u001b[39;49m\u001b[43m,\u001b[49m\u001b[43m \u001b[49m\u001b[43murl\u001b[49m\u001b[43m,\u001b[49m\u001b[43m \u001b[49m\u001b[43mparams\u001b[49m\u001b[38;5;241;43m=\u001b[39;49m\u001b[43mparams\u001b[49m\u001b[43m,\u001b[49m\u001b[43m \u001b[49m\u001b[38;5;241;43m*\u001b[39;49m\u001b[38;5;241;43m*\u001b[39;49m\u001b[43mkwargs\u001b[49m\u001b[43m)\u001b[49m\n",
      "File \u001b[0;32m~/.local/lib/python3.10/site-packages/requests/api.py:59\u001b[0m, in \u001b[0;36mrequest\u001b[0;34m(method, url, **kwargs)\u001b[0m\n\u001b[1;32m     55\u001b[0m \u001b[38;5;66;03m# By using the 'with' statement we are sure the session is closed, thus we\u001b[39;00m\n\u001b[1;32m     56\u001b[0m \u001b[38;5;66;03m# avoid leaving sockets open which can trigger a ResourceWarning in some\u001b[39;00m\n\u001b[1;32m     57\u001b[0m \u001b[38;5;66;03m# cases, and look like a memory leak in others.\u001b[39;00m\n\u001b[1;32m     58\u001b[0m \u001b[38;5;28;01mwith\u001b[39;00m sessions\u001b[38;5;241m.\u001b[39mSession() \u001b[38;5;28;01mas\u001b[39;00m session:\n\u001b[0;32m---> 59\u001b[0m     \u001b[38;5;28;01mreturn\u001b[39;00m \u001b[43msession\u001b[49m\u001b[38;5;241;43m.\u001b[39;49m\u001b[43mrequest\u001b[49m\u001b[43m(\u001b[49m\u001b[43mmethod\u001b[49m\u001b[38;5;241;43m=\u001b[39;49m\u001b[43mmethod\u001b[49m\u001b[43m,\u001b[49m\u001b[43m \u001b[49m\u001b[43murl\u001b[49m\u001b[38;5;241;43m=\u001b[39;49m\u001b[43murl\u001b[49m\u001b[43m,\u001b[49m\u001b[43m \u001b[49m\u001b[38;5;241;43m*\u001b[39;49m\u001b[38;5;241;43m*\u001b[39;49m\u001b[43mkwargs\u001b[49m\u001b[43m)\u001b[49m\n",
      "File \u001b[0;32m~/.local/lib/python3.10/site-packages/requests/sessions.py:589\u001b[0m, in \u001b[0;36mSession.request\u001b[0;34m(self, method, url, params, data, headers, cookies, files, auth, timeout, allow_redirects, proxies, hooks, stream, verify, cert, json)\u001b[0m\n\u001b[1;32m    584\u001b[0m send_kwargs \u001b[38;5;241m=\u001b[39m {\n\u001b[1;32m    585\u001b[0m     \u001b[38;5;124m\"\u001b[39m\u001b[38;5;124mtimeout\u001b[39m\u001b[38;5;124m\"\u001b[39m: timeout,\n\u001b[1;32m    586\u001b[0m     \u001b[38;5;124m\"\u001b[39m\u001b[38;5;124mallow_redirects\u001b[39m\u001b[38;5;124m\"\u001b[39m: allow_redirects,\n\u001b[1;32m    587\u001b[0m }\n\u001b[1;32m    588\u001b[0m send_kwargs\u001b[38;5;241m.\u001b[39mupdate(settings)\n\u001b[0;32m--> 589\u001b[0m resp \u001b[38;5;241m=\u001b[39m \u001b[38;5;28;43mself\u001b[39;49m\u001b[38;5;241;43m.\u001b[39;49m\u001b[43msend\u001b[49m\u001b[43m(\u001b[49m\u001b[43mprep\u001b[49m\u001b[43m,\u001b[49m\u001b[43m \u001b[49m\u001b[38;5;241;43m*\u001b[39;49m\u001b[38;5;241;43m*\u001b[39;49m\u001b[43msend_kwargs\u001b[49m\u001b[43m)\u001b[49m\n\u001b[1;32m    591\u001b[0m \u001b[38;5;28;01mreturn\u001b[39;00m resp\n",
      "File \u001b[0;32m~/.local/lib/python3.10/site-packages/requests/sessions.py:703\u001b[0m, in \u001b[0;36mSession.send\u001b[0;34m(self, request, **kwargs)\u001b[0m\n\u001b[1;32m    700\u001b[0m start \u001b[38;5;241m=\u001b[39m preferred_clock()\n\u001b[1;32m    702\u001b[0m \u001b[38;5;66;03m# Send the request\u001b[39;00m\n\u001b[0;32m--> 703\u001b[0m r \u001b[38;5;241m=\u001b[39m \u001b[43madapter\u001b[49m\u001b[38;5;241;43m.\u001b[39;49m\u001b[43msend\u001b[49m\u001b[43m(\u001b[49m\u001b[43mrequest\u001b[49m\u001b[43m,\u001b[49m\u001b[43m \u001b[49m\u001b[38;5;241;43m*\u001b[39;49m\u001b[38;5;241;43m*\u001b[39;49m\u001b[43mkwargs\u001b[49m\u001b[43m)\u001b[49m\n\u001b[1;32m    705\u001b[0m \u001b[38;5;66;03m# Total elapsed time of the request (approximately)\u001b[39;00m\n\u001b[1;32m    706\u001b[0m elapsed \u001b[38;5;241m=\u001b[39m preferred_clock() \u001b[38;5;241m-\u001b[39m start\n",
      "File \u001b[0;32m~/.local/lib/python3.10/site-packages/requests/adapters.py:700\u001b[0m, in \u001b[0;36mHTTPAdapter.send\u001b[0;34m(self, request, stream, timeout, verify, cert, proxies)\u001b[0m\n\u001b[1;32m    696\u001b[0m     \u001b[38;5;28;01mif\u001b[39;00m \u001b[38;5;28misinstance\u001b[39m(e\u001b[38;5;241m.\u001b[39mreason, _SSLError):\n\u001b[1;32m    697\u001b[0m         \u001b[38;5;66;03m# This branch is for urllib3 v1.22 and later.\u001b[39;00m\n\u001b[1;32m    698\u001b[0m         \u001b[38;5;28;01mraise\u001b[39;00m SSLError(e, request\u001b[38;5;241m=\u001b[39mrequest)\n\u001b[0;32m--> 700\u001b[0m     \u001b[38;5;28;01mraise\u001b[39;00m \u001b[38;5;167;01mConnectionError\u001b[39;00m(e, request\u001b[38;5;241m=\u001b[39mrequest)\n\u001b[1;32m    702\u001b[0m \u001b[38;5;28;01mexcept\u001b[39;00m ClosedPoolError \u001b[38;5;28;01mas\u001b[39;00m e:\n\u001b[1;32m    703\u001b[0m     \u001b[38;5;28;01mraise\u001b[39;00m \u001b[38;5;167;01mConnectionError\u001b[39;00m(e, request\u001b[38;5;241m=\u001b[39mrequest)\n",
      "\u001b[0;31mConnectionError\u001b[0m: HTTPSConnectionPool(host='api.github.com', port=443): Max retries exceeded with url: /repos/ultralytics/assets/releases/tags/v8.2.0 (Caused by NewConnectionError('<urllib3.connection.HTTPSConnection object at 0x7a26f1619ae0>: Failed to establish a new connection: [Errno -3] Temporary failure in name resolution'))"
     ]
    }
   ],
   "source": [
    "from collections import defaultdict\n",
    "\n",
    "import cv2\n",
    "\n",
    "from ultralytics import YOLO\n",
    "from ultralytics.utils.plotting import Annotator, colors\n",
    "from matplotlib import pyplot as plt\n",
    "\n",
    "track_history = defaultdict(lambda: [])\n",
    "\n",
    "model = YOLO(\"runs/segment/train14/weights/best.pt\")  # segmentation model\n",
    "cap = cv2.VideoCapture(VIDEO_PATH)\n",
    "w, h, fps = (int(cap.get(x)) for x in (cv2.CAP_PROP_FRAME_WIDTH, cv2.CAP_PROP_FRAME_HEIGHT, cv2.CAP_PROP_FPS))\n",
    "\n",
    "out = cv2.VideoWriter(\"instance-segmentation-object-tracking.avi\", cv2.VideoWriter_fourcc(*\"MJPG\"), fps, (w, h))\n",
    "\n",
    "while True:\n",
    "    ret, im0 = cap.read()\n",
    "    if not ret:\n",
    "        break\n",
    "\n",
    "    annotator = Annotator(im0, line_width=2)\n",
    "    results = model.track(im0, persist=True)\n",
    "\n",
    "    if results[0].boxes.id is not None and results[0].masks is not None:\n",
    "        masks = results[0].masks.xy\n",
    "        track_ids = results[0].boxes.id.int().cpu().tolist()\n",
    "\n",
    "        for mask, track_id in zip(masks, track_ids):\n",
    "            annotator.seg_bbox(mask=mask, mask_color=colors(track_id, True), track_label=str(track_id))\n",
    "\n",
    "    out.write(im0)\n",
    "    #cv2.imshow(\"instance-segmentation-object-tracking\", im0)\n",
    "    plt.imshow(im0)\n",
    "    plt.show()\n",
    "    if cv2.waitKey(1) & 0xFF == ord(\"q\"):\n",
    "        break\n",
    "\n",
    "out.release()\n",
    "cap.release()\n",
    "cv2.destroyAllWindows()"
   ]
  },
  {
   "cell_type": "markdown",
   "id": "b264d31d",
   "metadata": {
    "id": "UPs1t-cVbi7Y"
   },
   "source": [
    "See results of different experiments."
   ]
  },
  {
   "cell_type": "code",
   "execution_count": null,
   "id": "612fe230",
   "metadata": {
    "colab": {
     "base_uri": "https://localhost:8080/"
    },
    "executionInfo": {
     "elapsed": 626,
     "status": "ok",
     "timestamp": 1720779726903,
     "user": {
      "displayName": "Jorge Galindo",
      "userId": "08608773082217336897"
     },
     "user_tz": -120
    },
    "id": "yoEy5cDYQVQk",
    "outputId": "46c34407-3e3c-4caa-8892-e988be79781b"
   },
   "outputs": [],
   "source": [
    "import dvc.api\n",
    "import pandas as pd\n",
    "\n",
    "# Define the columns of interest\n",
    "columns = [\"Experiment\", \"epochs\", \"imgsz\", \"model\", \"metrics.mAP50-95(B)\"]\n",
    "\n",
    "# Retrieve experiment data\n",
    "df = pd.DataFrame(dvc.api.exp_show(), columns=columns)\n",
    "\n",
    "# Clean the data\n",
    "df.dropna(inplace=True)\n",
    "df.reset_index(drop=True, inplace=True)\n",
    "\n",
    "# Display the DataFrame\n",
    "print(df)"
   ]
  },
  {
   "cell_type": "code",
   "execution_count": null,
   "id": "d397f749",
   "metadata": {
    "colab": {
     "base_uri": "https://localhost:8080/",
     "height": 542
    },
    "executionInfo": {
     "elapsed": 1230,
     "status": "ok",
     "timestamp": 1720779728483,
     "user": {
      "displayName": "Jorge Galindo",
      "userId": "08608773082217336897"
     },
     "user_tz": -120
    },
    "id": "DVqMcaSeQXY3",
    "outputId": "ec0affec-f920-44f0-99a2-93e34579c580"
   },
   "outputs": [],
   "source": [
    "from plotly.express import parallel_coordinates\n",
    "\n",
    "# Create a parallel coordinates plot\n",
    "fig = parallel_coordinates(df, columns, color=\"metrics.mAP50-95(B)\")\n",
    "\n",
    "# Display the plot\n",
    "fig.show()"
   ]
  },
  {
   "cell_type": "code",
   "execution_count": null,
   "id": "8d242767",
   "metadata": {
    "colab": {
     "base_uri": "https://localhost:8080/"
    },
    "executionInfo": {
     "elapsed": 3190,
     "status": "ok",
     "timestamp": 1720779763977,
     "user": {
      "displayName": "Jorge Galindo",
      "userId": "08608773082217336897"
     },
     "user_tz": -120
    },
    "id": "X_Zu-kYocMqx",
    "outputId": "1c9ea2b9-1884-40c8-ccc3-daba02353402"
   },
   "outputs": [],
   "source": [
    "# Generate DVC comparative plots\n",
    "!python3 -m dvc plots diff $(python3 -m dvc exp list --names-only)"
   ]
  },
  {
   "cell_type": "code",
   "execution_count": null,
   "id": "5bfb7d9e",
   "metadata": {
    "colab": {
     "base_uri": "https://localhost:8080/",
     "height": 321
    },
    "executionInfo": {
     "elapsed": 621,
     "status": "error",
     "timestamp": 1720779769634,
     "user": {
      "displayName": "Jorge Galindo",
      "userId": "08608773082217336897"
     },
     "user_tz": -120
    },
    "id": "k0N5LvPFcRk2",
    "outputId": "dc7f9cd3-d082-49c7-8071-76f75dda5636"
   },
   "outputs": [],
   "source": [
    "from IPython.display import HTML\n",
    "\n",
    "# Display the DVC plots as HTML\n",
    "HTML(filename=\"./dvc_plots/index.html\")"
   ]
  },
  {
   "cell_type": "code",
   "execution_count": null,
   "id": "aed60c40",
   "metadata": {
    "id": "zb2caWaiduj5"
   },
   "outputs": [],
   "source": [
    "dvc.api.exp_show()"
   ]
  },
  {
   "cell_type": "code",
   "execution_count": null,
   "id": "5882e55f-6112-4039-be20-7839c944a60e",
   "metadata": {},
   "outputs": [],
   "source": []
  }
 ],
 "metadata": {
  "accelerator": "GPU",
  "colab": {
   "gpuType": "T4",
   "name": "",
   "version": ""
  },
  "kernelspec": {
   "display_name": "Python 3",
   "language": "python",
   "name": "python3"
  },
  "language_info": {
   "codemirror_mode": {
    "name": "ipython",
    "version": 3
   },
   "file_extension": ".py",
   "mimetype": "text/x-python",
   "name": "python",
   "nbconvert_exporter": "python",
   "pygments_lexer": "ipython3",
   "version": "3.10.12"
  }
 },
 "nbformat": 4,
 "nbformat_minor": 5
}
